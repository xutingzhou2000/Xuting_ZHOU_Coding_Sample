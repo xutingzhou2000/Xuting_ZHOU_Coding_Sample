{
 "cells": [
  {
   "cell_type": "markdown",
   "id": "b3f229ae",
   "metadata": {},
   "source": [
    "## The notebook contains 3 main parts:\n",
    "\n",
    "For some models, I simplly fitted the data and only look at the accuracy score. For three methods that are relatveily more complex: GridSearch CV + Pipeline, Stacking, and NN, I included more detailed evaluation.\n",
    "\n",
    "### Model validation\n",
    "- Cross validation (KFold)\n",
    "- GridSearch CV \n",
    "- Pipeline\n",
    "- GridSearch CV + Pipeline to fit 5 folds for each of 270 candidates, totalling 1350 fits (with detailed evaluation)\n",
    "  \n",
    "### Ensemble learning\n",
    "- Boosting\n",
    "- Stacking (with detailed evaluation)\n",
    "\n",
    "### NN for a binary classification task (with detailed evaluation)"
   ]
  },
  {
   "cell_type": "markdown",
   "id": "71671d7a-713c-4ef3-8d2e-8f74ba684d14",
   "metadata": {},
   "source": [
    "# Part I: Model validation\n"
   ]
  },
  {
   "cell_type": "markdown",
   "id": "8ad3e5f6",
   "metadata": {},
   "source": [
    "## Cross validation (KFold)"
   ]
  },
  {
   "cell_type": "code",
   "execution_count": 185,
   "id": "eb9337de",
   "metadata": {},
   "outputs": [],
   "source": [
    "from sklearn import datasets\n",
    "from collections import Counter\n",
    "import numpy as np\n",
    "import pandas as pd\n",
    "from sklearn.feature_extraction.text import CountVectorizer, TfidfTransformer\n",
    "from sklearn.linear_model import LogisticRegression\n",
    "from sklearn.pipeline import Pipeline\n",
    "from sklearn.metrics import accuracy_score, confusion_matrix, classification_report, roc_auc_score\n",
    "from sklearn.model_selection import train_test_split\n",
    "import numpy as np\n",
    "from time import time"
   ]
  },
  {
   "cell_type": "code",
   "execution_count": 186,
   "id": "f9849c8b",
   "metadata": {},
   "outputs": [],
   "source": [
    "# load the dataset\n",
    "df = pd.read_csv('C:/Users/Victoria/OneDrive/文档/Dropbox/Machine Learning Python/Project/data_EDA.csv') \n",
    "#generate next year GDP\n",
    "df_aggregated = df.groupby('Year')['gdp'].mean().reset_index()\n",
    "df_aggregated['next_year_gdp'] = df_aggregated['gdp'].shift(-1)\n",
    "\n",
    "# Merge the lagged GDP data back to the original DataFrame\n",
    "df = df.merge(df_aggregated[['Year', 'next_year_gdp']], on='Year', how='left')\n",
    "df['next_year_gdp_grow_dummy'] = np.where(df['next_year_gdp'] > 0, 1, 0)\n",
    "\n",
    "\n",
    "df.dropna(inplace=True)"
   ]
  },
  {
   "cell_type": "code",
   "execution_count": 187,
   "id": "c550f485",
   "metadata": {},
   "outputs": [],
   "source": [
    "X = df.drop(columns=['Year', 'gdp', 'Title', 'Description', 'gdp_normal',  'lag_gdp','gdp_grow_dummy','source',\n",
    "                     'Tokenized_Description', 'Stem_Lemm_Description', 'Processed_Words', 'Joined_Words','next_year_gdp','next_year_gdp_grow_dummy'])  # Features\n",
    "y = df['next_year_gdp_grow_dummy']  # Target variable\n",
    "y = y.reset_index(drop=True) # Reset the index of y to make it align with integer locations\n",
    "X = X.reset_index(drop=True) # Reset the index of y to make it align with integer locations"
   ]
  },
  {
   "cell_type": "code",
   "execution_count": 188,
   "id": "1f659c76",
   "metadata": {},
   "outputs": [
    {
     "data": {
      "text/plain": [
       "((5920, 30), (5920,))"
      ]
     },
     "execution_count": 188,
     "metadata": {},
     "output_type": "execute_result"
    }
   ],
   "source": [
    "X.shape, y.shape"
   ]
  },
  {
   "cell_type": "markdown",
   "id": "ef88cb04",
   "metadata": {},
   "source": [
    "- Tain/test split"
   ]
  },
  {
   "cell_type": "code",
   "execution_count": 189,
   "id": "f8ceb3ba",
   "metadata": {},
   "outputs": [],
   "source": [
    "from sklearn.model_selection import train_test_split"
   ]
  },
  {
   "cell_type": "code",
   "execution_count": 190,
   "id": "4b7aa637",
   "metadata": {},
   "outputs": [],
   "source": [
    "X_train, X_test, y_train, y_test = train_test_split(X, y, test_size=0.4, \n",
    "                                                    random_state=42, shuffle=True)"
   ]
  },
  {
   "cell_type": "code",
   "execution_count": 191,
   "id": "9df6c0bb",
   "metadata": {},
   "outputs": [
    {
     "data": {
      "text/plain": [
       "((3552, 30), (3552,), Counter({1: 3186, 0: 366}))"
      ]
     },
     "execution_count": 191,
     "metadata": {},
     "output_type": "execute_result"
    }
   ],
   "source": [
    "X_train.shape, y_train.shape, Counter(y_train)\n",
    "# 3552 samples, and each sample has 30 features. \n",
    "# Here, 1 represents the class where the GDP is predicted to grow the next year, and 0 represents the class where it is not."
   ]
  },
  {
   "cell_type": "code",
   "execution_count": 192,
   "id": "96c206a9",
   "metadata": {},
   "outputs": [
    {
     "data": {
      "text/plain": [
       "((2368, 30), (2368,), Counter({1: 2129, 0: 239}))"
      ]
     },
     "execution_count": 192,
     "metadata": {},
     "output_type": "execute_result"
    }
   ],
   "source": [
    "X_test.shape, y_test.shape, Counter(y_test)"
   ]
  },
  {
   "cell_type": "markdown",
   "id": "6a42858a",
   "metadata": {},
   "source": [
    "- Before doing K-folds, this fits a classifier on training data and test on testing data using a logistic regression model, which has achieved an accuracy score of approximately 0.902 on the test set. This means that the model correctly predicted whether the GDP would grow the next year or not for 90.2% of the cases in the test dataset."
   ]
  },
  {
   "cell_type": "code",
   "execution_count": 193,
   "id": "2872f1d5",
   "metadata": {},
   "outputs": [],
   "source": [
    "from sklearn.linear_model import LogisticRegression"
   ]
  },
  {
   "cell_type": "code",
   "execution_count": 194,
   "id": "1af9d4ff",
   "metadata": {},
   "outputs": [
    {
     "data": {
      "text/plain": [
       "0.9024493243243243"
      ]
     },
     "execution_count": 194,
     "metadata": {},
     "output_type": "execute_result"
    }
   ],
   "source": [
    "clf = LogisticRegression(random_state=42).fit(X_train, y_train)\n",
    "clf.score(X_test, y_test)"
   ]
  },
  {
   "cell_type": "markdown",
   "id": "784d8c65",
   "metadata": {},
   "source": [
    "### Option-1: directly apply cross validation to get the model validation scores\n",
    "\n",
    "I am using 10-fold cross-validation. In this method, the dataset is divided into 10 folds. During the cross-validation process, the model is trained 10 times, each time using 9 of the 10 folds for training and the remaining fold for testing. \n",
    "\n",
    "In reviewing the recall scores from the 10-fold cross-validation, I observed that 6 out of 10 folds yielded perfect scores of 1.0, indicating that my logistic regression model successfully identified all instances of next year's GDP growth binary variable without missing any in these folds. However, in the remaining folds, the scores were slightly lower. These scores suggest that while the model is generally reliable, there are instances where it fails to capture all positive cases, which may be due to variations in data characteristics or model sensitivity across different subsets of the dataset."
   ]
  },
  {
   "cell_type": "code",
   "execution_count": 195,
   "id": "82bf6cab",
   "metadata": {},
   "outputs": [],
   "source": [
    "from sklearn.model_selection import cross_validate, cross_val_score"
   ]
  },
  {
   "cell_type": "code",
   "execution_count": 196,
   "id": "197107b2",
   "metadata": {},
   "outputs": [],
   "source": [
    "clf = LogisticRegression(random_state=42)\n",
    "cv_scores = cross_val_score(clf, X, y, cv=10, scoring='recall')"
   ]
  },
  {
   "cell_type": "code",
   "execution_count": 197,
   "id": "3cc761be",
   "metadata": {},
   "outputs": [
    {
     "data": {
      "text/plain": [
       "array([1.        , 1.        , 1.        , 1.        , 1.        ,\n",
       "       1.        , 0.99811676, 0.99811676, 0.92655367, 0.95291902])"
      ]
     },
     "execution_count": 197,
     "metadata": {},
     "output_type": "execute_result"
    }
   ],
   "source": [
    "cv_scores"
   ]
  },
  {
   "cell_type": "markdown",
   "id": "915fd920",
   "metadata": {},
   "source": [
    "### Option-2: apply KFold to split the data into K-folds and then do cross validation on the k-fold data\n",
    "\n",
    "The scores are similar to the option above. The difference is due to the sequence of procedures in splitting data.   Since the original dataset appears to be significantly imbalanced towards class 1 (postive next year gdp groth, this inherent imbalance means any random or even somewhat stratified sampling without specific techniques to address imbalance will reflect this disparity, as indicated by the difference train labels count and \n",
    "Test labels cout for each folds.)"
   ]
  },
  {
   "cell_type": "code",
   "execution_count": 198,
   "id": "3d1379b6",
   "metadata": {},
   "outputs": [],
   "source": [
    "from sklearn.model_selection import KFold"
   ]
  },
  {
   "cell_type": "code",
   "execution_count": 199,
   "id": "742e43a6",
   "metadata": {},
   "outputs": [
    {
     "name": "stdout",
     "output_type": "stream",
     "text": [
      "Train labels count: Counter({1: 4777, 0: 551})\n",
      "Test labels count: Counter({1: 538, 0: 54})\n",
      "Train labels count: Counter({1: 4789, 0: 539})\n",
      "Test labels count: Counter({1: 526, 0: 66})\n",
      "Train labels count: Counter({1: 4778, 0: 550})\n",
      "Test labels count: Counter({1: 537, 0: 55})\n",
      "Train labels count: Counter({1: 4787, 0: 541})\n",
      "Test labels count: Counter({1: 528, 0: 64})\n",
      "Train labels count: Counter({1: 4795, 0: 533})\n",
      "Test labels count: Counter({1: 520, 0: 72})\n",
      "Train labels count: Counter({1: 4778, 0: 550})\n",
      "Test labels count: Counter({1: 537, 0: 55})\n",
      "Train labels count: Counter({1: 4780, 0: 548})\n",
      "Test labels count: Counter({1: 535, 0: 57})\n",
      "Train labels count: Counter({1: 4786, 0: 542})\n",
      "Test labels count: Counter({1: 529, 0: 63})\n",
      "Train labels count: Counter({1: 4784, 0: 544})\n",
      "Test labels count: Counter({1: 531, 0: 61})\n",
      "Train labels count: Counter({1: 4781, 0: 547})\n",
      "Test labels count: Counter({1: 534, 0: 58})\n"
     ]
    }
   ],
   "source": [
    "# apply KFold split on the dataset\n",
    "kf = KFold(n_splits=10, shuffle=True, random_state=42)\n",
    "\n",
    "for train_idx, test_idx in kf.split(X):\n",
    "    # Use iloc to access rows based on integer indices\n",
    "    train_y = y.iloc[train_idx]\n",
    "    test_y = y.iloc[test_idx]\n",
    "    print(\"Train labels count:\", Counter(train_y))\n",
    "    print(\"Test labels count:\", Counter(test_y))\n"
   ]
  },
  {
   "cell_type": "code",
   "execution_count": 200,
   "id": "47756ed6-0dc2-43b5-9fa9-9614a57c6045",
   "metadata": {},
   "outputs": [
    {
     "data": {
      "text/plain": [
       "(Counter({1: 4781, 0: 547}), Counter({1: 534, 0: 58}))"
      ]
     },
     "execution_count": 200,
     "metadata": {},
     "output_type": "execute_result"
    }
   ],
   "source": [
    "Counter(y[train_idx]), Counter(y[test_idx])"
   ]
  },
  {
   "cell_type": "code",
   "execution_count": 201,
   "id": "8f5a5721",
   "metadata": {},
   "outputs": [
    {
     "data": {
      "text/plain": [
       "array([1.        , 0.9904943 , 0.99627561, 1.        , 0.99230769,\n",
       "       0.9981378 , 1.        , 0.99432892, 0.99811676, 0.98689139])"
      ]
     },
     "execution_count": 201,
     "metadata": {},
     "output_type": "execute_result"
    }
   ],
   "source": [
    "clf = LogisticRegression(random_state=42)\n",
    "cv_scores = cross_val_score(clf, X, y, cv=kf, scoring='recall') \n",
    "cv_scores"
   ]
  },
  {
   "cell_type": "markdown",
   "id": "6d555629",
   "metadata": {},
   "source": [
    "### Option-3: apply stratified KFold to keep the class distribution\n",
    "\n",
    "In Stratified K-Fold, each fold is made by preserving the percentage of samples for each class. This means that each fold will have approximately the same percentage of samples of each class as the original dataset."
   ]
  },
  {
   "cell_type": "code",
   "execution_count": 202,
   "id": "bce9988e",
   "metadata": {},
   "outputs": [],
   "source": [
    "from sklearn.model_selection import StratifiedKFold"
   ]
  },
  {
   "cell_type": "code",
   "execution_count": 203,
   "id": "d0ba6dad",
   "metadata": {},
   "outputs": [
    {
     "name": "stdout",
     "output_type": "stream",
     "text": [
      "Train labels count: Counter({1: 4783, 0: 545})\n",
      "Test labels count: Counter({1: 532, 0: 60})\n",
      "Train labels count: Counter({1: 4783, 0: 545})\n",
      "Test labels count: Counter({1: 532, 0: 60})\n",
      "Train labels count: Counter({1: 4783, 0: 545})\n",
      "Test labels count: Counter({1: 532, 0: 60})\n",
      "Train labels count: Counter({1: 4783, 0: 545})\n",
      "Test labels count: Counter({1: 532, 0: 60})\n",
      "Train labels count: Counter({1: 4783, 0: 545})\n",
      "Test labels count: Counter({1: 532, 0: 60})\n",
      "Train labels count: Counter({1: 4784, 0: 544})\n",
      "Test labels count: Counter({1: 531, 0: 61})\n",
      "Train labels count: Counter({1: 4784, 0: 544})\n",
      "Test labels count: Counter({1: 531, 0: 61})\n",
      "Train labels count: Counter({1: 4784, 0: 544})\n",
      "Test labels count: Counter({1: 531, 0: 61})\n",
      "Train labels count: Counter({1: 4784, 0: 544})\n",
      "Test labels count: Counter({1: 531, 0: 61})\n",
      "Train labels count: Counter({1: 4784, 0: 544})\n",
      "Test labels count: Counter({1: 531, 0: 61})\n"
     ]
    }
   ],
   "source": [
    "kf = StratifiedKFold(n_splits=10, shuffle=True, random_state=42)\n",
    "\n",
    "for train_idx, test_idx in kf.split(X,y):\n",
    "    # Use iloc to access rows based on integer indices\n",
    "    train_y = y.iloc[train_idx]\n",
    "    test_y = y.iloc[test_idx]\n",
    "    print(\"Train labels count:\", Counter(train_y))\n",
    "    print(\"Test labels count:\", Counter(test_y))"
   ]
  },
  {
   "cell_type": "code",
   "execution_count": 204,
   "id": "cf642115-831e-4d7c-a70e-7bea51498197",
   "metadata": {},
   "outputs": [
    {
     "data": {
      "text/plain": [
       "array([0.9981203 , 0.9943609 , 0.9981203 , 0.9924812 , 0.9962406 ,\n",
       "       0.99811676, 0.99435028, 0.99623352, 0.99811676, 0.99623352])"
      ]
     },
     "execution_count": 204,
     "metadata": {},
     "output_type": "execute_result"
    }
   ],
   "source": [
    "clf = LogisticRegression(random_state=42)\n",
    "cv_scores = cross_val_score(clf, X, y, cv=kf, scoring='recall') \n",
    "cv_scores"
   ]
  },
  {
   "cell_type": "markdown",
   "id": "c742ecfc-52d7-47ed-a724-2b7ef9dc0b5c",
   "metadata": {},
   "source": [
    "#### Discussion:\n",
    "Using cross-validation methods yields higher scores then simply applying logistic regression once.  Now that each fold serves as a test set at some point, and the rest of the data as training data, this reduces the variance in the estimated performance metrics and providing a more reliable measure of the model’s ability."
   ]
  },
  {
   "cell_type": "markdown",
   "id": "e6b68020",
   "metadata": {},
   "source": [
    "### Option-4: Leave One Out strategy, useful when don't have enough data\n",
    "\n",
    "For this one, since my sample size is not very small. Calculating the score is time-consuming. So the score will not reported."
   ]
  },
  {
   "cell_type": "code",
   "execution_count": 205,
   "id": "cf5f017d",
   "metadata": {},
   "outputs": [],
   "source": [
    "from sklearn.model_selection import LeaveOneOut\n",
    "loo = LeaveOneOut()"
   ]
  },
  {
   "cell_type": "code",
   "execution_count": 206,
   "id": "3c134a3f",
   "metadata": {},
   "outputs": [
    {
     "name": "stdout",
     "output_type": "stream",
     "text": [
      "Train samples: [   1    2    3 ... 5917 5918 5919] \n",
      "Test samples: [0]\n",
      "\n"
     ]
    }
   ],
   "source": [
    "for train_idx, test_idx in loo.split(X):\n",
    "    print(\"Train samples: %s \\nTest samples: %s\\n\" % (train_idx, test_idx))\n",
    "    break"
   ]
  },
  {
   "cell_type": "markdown",
   "id": "d9b42f38-1201-4bbe-b86b-8bd867e10087",
   "metadata": {},
   "source": [
    "clf = LogisticRegression(random_state=42)\r\n",
    "scores = []\r\n",
    "\r\n",
    "for train_idx, test_idx in loo.split(X):\r\n",
    "    X_train, X_test = X.iloc[train_idx], X.iloc[test_idx]\r\n",
    "    y_train, y_test = y.iloc[train_idx], y.iloc[test_idx]\r\n",
    "\r\n",
    "    # Fit the model\r\n",
    "    clf.fit(X_train, y_train)\r\n",
    "\r\n",
    "    # Predict the test set\r\n",
    "    y_pred = clf.predict(X_test)\r\n",
    "\r\n",
    "    # Evaluate the prediction\r\n",
    "    score = accuracy_score(y_test, y_pred)\r\n",
    "    scores.append(score)\r\n",
    "\r\n",
    "    # Optionally, break after the first to check the se*#up\r\n",
    "    # break\r\n",
    "\r\n",
    "# Calculate the mean accuracy across all LOO tests\r\n",
    "mean_accuracy = np.mean(scores)\r\n",
    "print(\"LOO CV Mean Accuracy:\", mean_accuracy)"
   ]
  },
  {
   "cell_type": "markdown",
   "id": "1439de95",
   "metadata": {},
   "source": [
    "## GridSearchCV\n",
    "- search for the best hyperparameter settings\n",
    "- 'C':[0.1, 1, 10]: This is the inverse of regularization strength; smaller values specify stronger regularization. By adjusting C, I control the trade-off between achieving a lower-variance, higher-bias model with strong regularization (C is small), and a lower-bias, higher-variance model with weaker regularization (C is large). \n",
    "The values starsg from a relatively strong regularization (0.1) to a weaker one (10)\n",
    "- solver: ['liblinear']\r\n",
    "This specifies the algorithm to use in the optimization problem. liblinear is a good choice for small datasets and binary classification problem\n",
    "- penalty: ['l1', 'l2'] (Lasso regularization) produce sparse models with fewer non-zero coefficients, effectively performing feature selection by driving some coefficient estimates to exactly zero. (Ridge regularization) shrinks the coefficients but never sets them to zero. It spreads the penalty across all coefficients, which helps to improve model robustness by avoiding the undue influence of any single feature.. ."
   ]
  },
  {
   "cell_type": "code",
   "execution_count": 207,
   "id": "43e44f42",
   "metadata": {},
   "outputs": [],
   "source": [
    "from sklearn.model_selection import GridSearchCV"
   ]
  },
  {
   "cell_type": "code",
   "execution_count": 208,
   "id": "2795a927",
   "metadata": {},
   "outputs": [
    {
     "data": {
      "text/html": [
       "<style>#sk-container-id-5 {color: black;background-color: white;}#sk-container-id-5 pre{padding: 0;}#sk-container-id-5 div.sk-toggleable {background-color: white;}#sk-container-id-5 label.sk-toggleable__label {cursor: pointer;display: block;width: 100%;margin-bottom: 0;padding: 0.3em;box-sizing: border-box;text-align: center;}#sk-container-id-5 label.sk-toggleable__label-arrow:before {content: \"▸\";float: left;margin-right: 0.25em;color: #696969;}#sk-container-id-5 label.sk-toggleable__label-arrow:hover:before {color: black;}#sk-container-id-5 div.sk-estimator:hover label.sk-toggleable__label-arrow:before {color: black;}#sk-container-id-5 div.sk-toggleable__content {max-height: 0;max-width: 0;overflow: hidden;text-align: left;background-color: #f0f8ff;}#sk-container-id-5 div.sk-toggleable__content pre {margin: 0.2em;color: black;border-radius: 0.25em;background-color: #f0f8ff;}#sk-container-id-5 input.sk-toggleable__control:checked~div.sk-toggleable__content {max-height: 200px;max-width: 100%;overflow: auto;}#sk-container-id-5 input.sk-toggleable__control:checked~label.sk-toggleable__label-arrow:before {content: \"▾\";}#sk-container-id-5 div.sk-estimator input.sk-toggleable__control:checked~label.sk-toggleable__label {background-color: #d4ebff;}#sk-container-id-5 div.sk-label input.sk-toggleable__control:checked~label.sk-toggleable__label {background-color: #d4ebff;}#sk-container-id-5 input.sk-hidden--visually {border: 0;clip: rect(1px 1px 1px 1px);clip: rect(1px, 1px, 1px, 1px);height: 1px;margin: -1px;overflow: hidden;padding: 0;position: absolute;width: 1px;}#sk-container-id-5 div.sk-estimator {font-family: monospace;background-color: #f0f8ff;border: 1px dotted black;border-radius: 0.25em;box-sizing: border-box;margin-bottom: 0.5em;}#sk-container-id-5 div.sk-estimator:hover {background-color: #d4ebff;}#sk-container-id-5 div.sk-parallel-item::after {content: \"\";width: 100%;border-bottom: 1px solid gray;flex-grow: 1;}#sk-container-id-5 div.sk-label:hover label.sk-toggleable__label {background-color: #d4ebff;}#sk-container-id-5 div.sk-serial::before {content: \"\";position: absolute;border-left: 1px solid gray;box-sizing: border-box;top: 0;bottom: 0;left: 50%;z-index: 0;}#sk-container-id-5 div.sk-serial {display: flex;flex-direction: column;align-items: center;background-color: white;padding-right: 0.2em;padding-left: 0.2em;position: relative;}#sk-container-id-5 div.sk-item {position: relative;z-index: 1;}#sk-container-id-5 div.sk-parallel {display: flex;align-items: stretch;justify-content: center;background-color: white;position: relative;}#sk-container-id-5 div.sk-item::before, #sk-container-id-5 div.sk-parallel-item::before {content: \"\";position: absolute;border-left: 1px solid gray;box-sizing: border-box;top: 0;bottom: 0;left: 50%;z-index: -1;}#sk-container-id-5 div.sk-parallel-item {display: flex;flex-direction: column;z-index: 1;position: relative;background-color: white;}#sk-container-id-5 div.sk-parallel-item:first-child::after {align-self: flex-end;width: 50%;}#sk-container-id-5 div.sk-parallel-item:last-child::after {align-self: flex-start;width: 50%;}#sk-container-id-5 div.sk-parallel-item:only-child::after {width: 0;}#sk-container-id-5 div.sk-dashed-wrapped {border: 1px dashed gray;margin: 0 0.4em 0.5em 0.4em;box-sizing: border-box;padding-bottom: 0.4em;background-color: white;}#sk-container-id-5 div.sk-label label {font-family: monospace;font-weight: bold;display: inline-block;line-height: 1.2em;}#sk-container-id-5 div.sk-label-container {text-align: center;}#sk-container-id-5 div.sk-container {/* jupyter's `normalize.less` sets `[hidden] { display: none; }` but bootstrap.min.css set `[hidden] { display: none !important; }` so we also need the `!important` here to be able to override the default hidden behavior on the sphinx rendered scikit-learn.org. See: https://github.com/scikit-learn/scikit-learn/issues/21755 */display: inline-block !important;position: relative;}#sk-container-id-5 div.sk-text-repr-fallback {display: none;}</style><div id=\"sk-container-id-5\" class=\"sk-top-container\"><div class=\"sk-text-repr-fallback\"><pre>LogisticRegression(max_iter=2000, penalty=&#x27;l1&#x27;, random_state=42,\n",
       "                   solver=&#x27;liblinear&#x27;)</pre><b>In a Jupyter environment, please rerun this cell to show the HTML representation or trust the notebook. <br />On GitHub, the HTML representation is unable to render, please try loading this page with nbviewer.org.</b></div><div class=\"sk-container\" hidden><div class=\"sk-item\"><div class=\"sk-estimator sk-toggleable\"><input class=\"sk-toggleable__control sk-hidden--visually\" id=\"sk-estimator-id-10\" type=\"checkbox\" checked><label for=\"sk-estimator-id-10\" class=\"sk-toggleable__label sk-toggleable__label-arrow\">LogisticRegression</label><div class=\"sk-toggleable__content\"><pre>LogisticRegression(max_iter=2000, penalty=&#x27;l1&#x27;, random_state=42,\n",
       "                   solver=&#x27;liblinear&#x27;)</pre></div></div></div></div></div>"
      ],
      "text/plain": [
       "LogisticRegression(max_iter=2000, penalty='l1', random_state=42,\n",
       "                   solver='liblinear')"
      ]
     },
     "execution_count": 208,
     "metadata": {},
     "output_type": "execute_result"
    }
   ],
   "source": [
    "lr = LogisticRegression(penalty='l1',solver='liblinear',random_state=42,max_iter=2000)\n",
    "lr.fit(X, y)"
   ]
  },
  {
   "cell_type": "code",
   "execution_count": 209,
   "id": "d37fd400",
   "metadata": {},
   "outputs": [
    {
     "data": {
      "text/html": [
       "<style>#sk-container-id-6 {color: black;background-color: white;}#sk-container-id-6 pre{padding: 0;}#sk-container-id-6 div.sk-toggleable {background-color: white;}#sk-container-id-6 label.sk-toggleable__label {cursor: pointer;display: block;width: 100%;margin-bottom: 0;padding: 0.3em;box-sizing: border-box;text-align: center;}#sk-container-id-6 label.sk-toggleable__label-arrow:before {content: \"▸\";float: left;margin-right: 0.25em;color: #696969;}#sk-container-id-6 label.sk-toggleable__label-arrow:hover:before {color: black;}#sk-container-id-6 div.sk-estimator:hover label.sk-toggleable__label-arrow:before {color: black;}#sk-container-id-6 div.sk-toggleable__content {max-height: 0;max-width: 0;overflow: hidden;text-align: left;background-color: #f0f8ff;}#sk-container-id-6 div.sk-toggleable__content pre {margin: 0.2em;color: black;border-radius: 0.25em;background-color: #f0f8ff;}#sk-container-id-6 input.sk-toggleable__control:checked~div.sk-toggleable__content {max-height: 200px;max-width: 100%;overflow: auto;}#sk-container-id-6 input.sk-toggleable__control:checked~label.sk-toggleable__label-arrow:before {content: \"▾\";}#sk-container-id-6 div.sk-estimator input.sk-toggleable__control:checked~label.sk-toggleable__label {background-color: #d4ebff;}#sk-container-id-6 div.sk-label input.sk-toggleable__control:checked~label.sk-toggleable__label {background-color: #d4ebff;}#sk-container-id-6 input.sk-hidden--visually {border: 0;clip: rect(1px 1px 1px 1px);clip: rect(1px, 1px, 1px, 1px);height: 1px;margin: -1px;overflow: hidden;padding: 0;position: absolute;width: 1px;}#sk-container-id-6 div.sk-estimator {font-family: monospace;background-color: #f0f8ff;border: 1px dotted black;border-radius: 0.25em;box-sizing: border-box;margin-bottom: 0.5em;}#sk-container-id-6 div.sk-estimator:hover {background-color: #d4ebff;}#sk-container-id-6 div.sk-parallel-item::after {content: \"\";width: 100%;border-bottom: 1px solid gray;flex-grow: 1;}#sk-container-id-6 div.sk-label:hover label.sk-toggleable__label {background-color: #d4ebff;}#sk-container-id-6 div.sk-serial::before {content: \"\";position: absolute;border-left: 1px solid gray;box-sizing: border-box;top: 0;bottom: 0;left: 50%;z-index: 0;}#sk-container-id-6 div.sk-serial {display: flex;flex-direction: column;align-items: center;background-color: white;padding-right: 0.2em;padding-left: 0.2em;position: relative;}#sk-container-id-6 div.sk-item {position: relative;z-index: 1;}#sk-container-id-6 div.sk-parallel {display: flex;align-items: stretch;justify-content: center;background-color: white;position: relative;}#sk-container-id-6 div.sk-item::before, #sk-container-id-6 div.sk-parallel-item::before {content: \"\";position: absolute;border-left: 1px solid gray;box-sizing: border-box;top: 0;bottom: 0;left: 50%;z-index: -1;}#sk-container-id-6 div.sk-parallel-item {display: flex;flex-direction: column;z-index: 1;position: relative;background-color: white;}#sk-container-id-6 div.sk-parallel-item:first-child::after {align-self: flex-end;width: 50%;}#sk-container-id-6 div.sk-parallel-item:last-child::after {align-self: flex-start;width: 50%;}#sk-container-id-6 div.sk-parallel-item:only-child::after {width: 0;}#sk-container-id-6 div.sk-dashed-wrapped {border: 1px dashed gray;margin: 0 0.4em 0.5em 0.4em;box-sizing: border-box;padding-bottom: 0.4em;background-color: white;}#sk-container-id-6 div.sk-label label {font-family: monospace;font-weight: bold;display: inline-block;line-height: 1.2em;}#sk-container-id-6 div.sk-label-container {text-align: center;}#sk-container-id-6 div.sk-container {/* jupyter's `normalize.less` sets `[hidden] { display: none; }` but bootstrap.min.css set `[hidden] { display: none !important; }` so we also need the `!important` here to be able to override the default hidden behavior on the sphinx rendered scikit-learn.org. See: https://github.com/scikit-learn/scikit-learn/issues/21755 */display: inline-block !important;position: relative;}#sk-container-id-6 div.sk-text-repr-fallback {display: none;}</style><div id=\"sk-container-id-6\" class=\"sk-top-container\"><div class=\"sk-text-repr-fallback\"><pre>GridSearchCV(cv=5, estimator=LogisticRegression(random_state=42),\n",
       "             param_grid={&#x27;C&#x27;: [0.1, 1, 10], &#x27;penalty&#x27;: (&#x27;l1&#x27;, &#x27;l2&#x27;),\n",
       "                         &#x27;solver&#x27;: [&#x27;liblinear&#x27;]})</pre><b>In a Jupyter environment, please rerun this cell to show the HTML representation or trust the notebook. <br />On GitHub, the HTML representation is unable to render, please try loading this page with nbviewer.org.</b></div><div class=\"sk-container\" hidden><div class=\"sk-item sk-dashed-wrapped\"><div class=\"sk-label-container\"><div class=\"sk-label sk-toggleable\"><input class=\"sk-toggleable__control sk-hidden--visually\" id=\"sk-estimator-id-11\" type=\"checkbox\" ><label for=\"sk-estimator-id-11\" class=\"sk-toggleable__label sk-toggleable__label-arrow\">GridSearchCV</label><div class=\"sk-toggleable__content\"><pre>GridSearchCV(cv=5, estimator=LogisticRegression(random_state=42),\n",
       "             param_grid={&#x27;C&#x27;: [0.1, 1, 10], &#x27;penalty&#x27;: (&#x27;l1&#x27;, &#x27;l2&#x27;),\n",
       "                         &#x27;solver&#x27;: [&#x27;liblinear&#x27;]})</pre></div></div></div><div class=\"sk-parallel\"><div class=\"sk-parallel-item\"><div class=\"sk-item\"><div class=\"sk-label-container\"><div class=\"sk-label sk-toggleable\"><input class=\"sk-toggleable__control sk-hidden--visually\" id=\"sk-estimator-id-12\" type=\"checkbox\" ><label for=\"sk-estimator-id-12\" class=\"sk-toggleable__label sk-toggleable__label-arrow\">estimator: LogisticRegression</label><div class=\"sk-toggleable__content\"><pre>LogisticRegression(random_state=42)</pre></div></div></div><div class=\"sk-serial\"><div class=\"sk-item\"><div class=\"sk-estimator sk-toggleable\"><input class=\"sk-toggleable__control sk-hidden--visually\" id=\"sk-estimator-id-13\" type=\"checkbox\" ><label for=\"sk-estimator-id-13\" class=\"sk-toggleable__label sk-toggleable__label-arrow\">LogisticRegression</label><div class=\"sk-toggleable__content\"><pre>LogisticRegression(random_state=42)</pre></div></div></div></div></div></div></div></div></div></div>"
      ],
      "text/plain": [
       "GridSearchCV(cv=5, estimator=LogisticRegression(random_state=42),\n",
       "             param_grid={'C': [0.1, 1, 10], 'penalty': ('l1', 'l2'),\n",
       "                         'solver': ['liblinear']})"
      ]
     },
     "execution_count": 209,
     "metadata": {},
     "output_type": "execute_result"
    }
   ],
   "source": [
    "lr = LogisticRegression(random_state=42)\n",
    "parameters = {'penalty':('l1', 'l2'), \n",
    "              'C':[0.1, 1, 10],\n",
    "              'solver': ['liblinear']} # 2*3*1 = 6 combinations of parameters\n",
    "\n",
    "grid_cv = GridSearchCV(estimator = lr, param_grid = parameters, cv=5)\n",
    "\n",
    "grid_cv.fit(X, y)"
   ]
  },
  {
   "cell_type": "code",
   "execution_count": 210,
   "id": "604ba8d6",
   "metadata": {},
   "outputs": [
    {
     "data": {
      "text/plain": [
       "['mean_fit_time',\n",
       " 'mean_score_time',\n",
       " 'mean_test_score',\n",
       " 'param_C',\n",
       " 'param_penalty',\n",
       " 'param_solver',\n",
       " 'params',\n",
       " 'rank_test_score',\n",
       " 'split0_test_score',\n",
       " 'split1_test_score',\n",
       " 'split2_test_score',\n",
       " 'split3_test_score',\n",
       " 'split4_test_score',\n",
       " 'std_fit_time',\n",
       " 'std_score_time',\n",
       " 'std_test_score']"
      ]
     },
     "execution_count": 210,
     "metadata": {},
     "output_type": "execute_result"
    }
   ],
   "source": [
    "sorted(grid_cv.cv_results_.keys())"
   ]
  },
  {
   "cell_type": "code",
   "execution_count": 211,
   "id": "829d16ed",
   "metadata": {},
   "outputs": [
    {
     "data": {
      "text/plain": [
       "array([0.01914692, 0.0217422 , 0.01835032, 0.01795235, 0.0167532 ,\n",
       "       0.02293901])"
      ]
     },
     "execution_count": 211,
     "metadata": {},
     "output_type": "execute_result"
    }
   ],
   "source": [
    "grid_cv.cv_results_['mean_fit_time']"
   ]
  },
  {
   "cell_type": "code",
   "execution_count": 212,
   "id": "0531db0e",
   "metadata": {},
   "outputs": [
    {
     "data": {
      "text/plain": [
       "array([0.87702703, 0.87381757, 0.86131757, 0.86131757, 0.85929054,\n",
       "       0.85962838])"
      ]
     },
     "execution_count": 212,
     "metadata": {},
     "output_type": "execute_result"
    }
   ],
   "source": [
    "grid_cv.cv_results_['mean_test_score']"
   ]
  },
  {
   "cell_type": "code",
   "execution_count": 213,
   "id": "e9921119",
   "metadata": {},
   "outputs": [
    {
     "data": {
      "text/plain": [
       "array([0.89780405, 0.89780405, 0.89780405, 0.89780405, 0.89780405,\n",
       "       0.89780405])"
      ]
     },
     "execution_count": 213,
     "metadata": {},
     "output_type": "execute_result"
    }
   ],
   "source": [
    "grid_cv.cv_results_['split0_test_score']"
   ]
  },
  {
   "cell_type": "code",
   "execution_count": 214,
   "id": "fb04a51b",
   "metadata": {},
   "outputs": [
    {
     "data": {
      "text/html": [
       "<style>#sk-container-id-7 {color: black;background-color: white;}#sk-container-id-7 pre{padding: 0;}#sk-container-id-7 div.sk-toggleable {background-color: white;}#sk-container-id-7 label.sk-toggleable__label {cursor: pointer;display: block;width: 100%;margin-bottom: 0;padding: 0.3em;box-sizing: border-box;text-align: center;}#sk-container-id-7 label.sk-toggleable__label-arrow:before {content: \"▸\";float: left;margin-right: 0.25em;color: #696969;}#sk-container-id-7 label.sk-toggleable__label-arrow:hover:before {color: black;}#sk-container-id-7 div.sk-estimator:hover label.sk-toggleable__label-arrow:before {color: black;}#sk-container-id-7 div.sk-toggleable__content {max-height: 0;max-width: 0;overflow: hidden;text-align: left;background-color: #f0f8ff;}#sk-container-id-7 div.sk-toggleable__content pre {margin: 0.2em;color: black;border-radius: 0.25em;background-color: #f0f8ff;}#sk-container-id-7 input.sk-toggleable__control:checked~div.sk-toggleable__content {max-height: 200px;max-width: 100%;overflow: auto;}#sk-container-id-7 input.sk-toggleable__control:checked~label.sk-toggleable__label-arrow:before {content: \"▾\";}#sk-container-id-7 div.sk-estimator input.sk-toggleable__control:checked~label.sk-toggleable__label {background-color: #d4ebff;}#sk-container-id-7 div.sk-label input.sk-toggleable__control:checked~label.sk-toggleable__label {background-color: #d4ebff;}#sk-container-id-7 input.sk-hidden--visually {border: 0;clip: rect(1px 1px 1px 1px);clip: rect(1px, 1px, 1px, 1px);height: 1px;margin: -1px;overflow: hidden;padding: 0;position: absolute;width: 1px;}#sk-container-id-7 div.sk-estimator {font-family: monospace;background-color: #f0f8ff;border: 1px dotted black;border-radius: 0.25em;box-sizing: border-box;margin-bottom: 0.5em;}#sk-container-id-7 div.sk-estimator:hover {background-color: #d4ebff;}#sk-container-id-7 div.sk-parallel-item::after {content: \"\";width: 100%;border-bottom: 1px solid gray;flex-grow: 1;}#sk-container-id-7 div.sk-label:hover label.sk-toggleable__label {background-color: #d4ebff;}#sk-container-id-7 div.sk-serial::before {content: \"\";position: absolute;border-left: 1px solid gray;box-sizing: border-box;top: 0;bottom: 0;left: 50%;z-index: 0;}#sk-container-id-7 div.sk-serial {display: flex;flex-direction: column;align-items: center;background-color: white;padding-right: 0.2em;padding-left: 0.2em;position: relative;}#sk-container-id-7 div.sk-item {position: relative;z-index: 1;}#sk-container-id-7 div.sk-parallel {display: flex;align-items: stretch;justify-content: center;background-color: white;position: relative;}#sk-container-id-7 div.sk-item::before, #sk-container-id-7 div.sk-parallel-item::before {content: \"\";position: absolute;border-left: 1px solid gray;box-sizing: border-box;top: 0;bottom: 0;left: 50%;z-index: -1;}#sk-container-id-7 div.sk-parallel-item {display: flex;flex-direction: column;z-index: 1;position: relative;background-color: white;}#sk-container-id-7 div.sk-parallel-item:first-child::after {align-self: flex-end;width: 50%;}#sk-container-id-7 div.sk-parallel-item:last-child::after {align-self: flex-start;width: 50%;}#sk-container-id-7 div.sk-parallel-item:only-child::after {width: 0;}#sk-container-id-7 div.sk-dashed-wrapped {border: 1px dashed gray;margin: 0 0.4em 0.5em 0.4em;box-sizing: border-box;padding-bottom: 0.4em;background-color: white;}#sk-container-id-7 div.sk-label label {font-family: monospace;font-weight: bold;display: inline-block;line-height: 1.2em;}#sk-container-id-7 div.sk-label-container {text-align: center;}#sk-container-id-7 div.sk-container {/* jupyter's `normalize.less` sets `[hidden] { display: none; }` but bootstrap.min.css set `[hidden] { display: none !important; }` so we also need the `!important` here to be able to override the default hidden behavior on the sphinx rendered scikit-learn.org. See: https://github.com/scikit-learn/scikit-learn/issues/21755 */display: inline-block !important;position: relative;}#sk-container-id-7 div.sk-text-repr-fallback {display: none;}</style><div id=\"sk-container-id-7\" class=\"sk-top-container\"><div class=\"sk-text-repr-fallback\"><pre>LogisticRegression(C=0.1, penalty=&#x27;l1&#x27;, random_state=42, solver=&#x27;liblinear&#x27;)</pre><b>In a Jupyter environment, please rerun this cell to show the HTML representation or trust the notebook. <br />On GitHub, the HTML representation is unable to render, please try loading this page with nbviewer.org.</b></div><div class=\"sk-container\" hidden><div class=\"sk-item\"><div class=\"sk-estimator sk-toggleable\"><input class=\"sk-toggleable__control sk-hidden--visually\" id=\"sk-estimator-id-14\" type=\"checkbox\" checked><label for=\"sk-estimator-id-14\" class=\"sk-toggleable__label sk-toggleable__label-arrow\">LogisticRegression</label><div class=\"sk-toggleable__content\"><pre>LogisticRegression(C=0.1, penalty=&#x27;l1&#x27;, random_state=42, solver=&#x27;liblinear&#x27;)</pre></div></div></div></div></div>"
      ],
      "text/plain": [
       "LogisticRegression(C=0.1, penalty='l1', random_state=42, solver='liblinear')"
      ]
     },
     "execution_count": 214,
     "metadata": {},
     "output_type": "execute_result"
    }
   ],
   "source": [
    "grid_cv.best_estimator_ "
   ]
  },
  {
   "cell_type": "code",
   "execution_count": 215,
   "id": "99fc7420",
   "metadata": {},
   "outputs": [
    {
     "data": {
      "text/plain": [
       "{'C': 0.1, 'penalty': 'l1', 'solver': 'liblinear'}"
      ]
     },
     "execution_count": 215,
     "metadata": {},
     "output_type": "execute_result"
    }
   ],
   "source": [
    "grid_cv.best_params_"
   ]
  },
  {
   "cell_type": "code",
   "execution_count": 216,
   "id": "0724b2b5",
   "metadata": {},
   "outputs": [
    {
     "data": {
      "text/plain": [
       "0.8770270270270271"
      ]
     },
     "execution_count": 216,
     "metadata": {},
     "output_type": "execute_result"
    }
   ],
   "source": [
    "grid_cv.best_score_"
   ]
  },
  {
   "cell_type": "markdown",
   "id": "5c84f535-3e36-483b-8f9c-202e244f5f08",
   "metadata": {},
   "source": [
    "#### Discussion\r\n",
    "\r\n",
    "##### Best Parameters\r\n",
    "\r\n",
    "- **C: 0.1** — This value suggests that stronger regularization helps to prevent overfitting and improves the model's generalization capability on the dataset.\r\n",
    "\r\n",
    "- **Penalty: 'l1'** — This makes sense since the dataset contains some features that are irrelevant for prediction. L1 regularization can reduce their coefficients to zero, effectively performing feature selection.\r\n",
    "\r\n",
    "- **Solver: 'liblinear'** — This solver is suitable for binary classification problems and supports L1 regularization, which aligns with the finding#s.\r\n",
    "\r\n",
    "#### Performance\r\n",
    "\r\n",
    "- The best score of 0.877 (or 87.70%) is lower than the previous K-Folds validation scores. This discrepancy may be due to the parameters chosen during the GridSearchCV, particularly the L1 penalty and strong regularization, which emphasize model simplicity and generalization over fitting to potentially more complex patterns in the training data.\r\n",
    "gs.\r\n"
   ]
  },
  {
   "cell_type": "markdown",
   "id": "b38c9bb9",
   "metadata": {},
   "source": [
    "## Pipeline\n",
    "\n",
    "In logistic regression, using StandardScaler helps in speeding up the convergence of the stochastic gradient descent algorithm used in the background and can also lead to a more stable model.\r\n",
    "Accuracy of 90.33% suggests that the model performs well on this particular test set, accurately predicting the target variable most of the tim. But due to the imbalance nature, this score does not mean anything.e\n"
   ]
  },
  {
   "cell_type": "code",
   "execution_count": 217,
   "id": "71e72898",
   "metadata": {},
   "outputs": [],
   "source": [
    "from sklearn.pipeline import Pipeline\n",
    "from sklearn.preprocessing import StandardScaler\n",
    "from sklearn.decomposition import PCA"
   ]
  },
  {
   "cell_type": "code",
   "execution_count": 218,
   "id": "8414cedb",
   "metadata": {},
   "outputs": [],
   "source": [
    "pipe = Pipeline(steps=[\n",
    "    ('scaler', StandardScaler()),\n",
    "    ('pca', PCA()),\n",
    "    ('logistic', LogisticRegression())\n",
    "])"
   ]
  },
  {
   "cell_type": "code",
   "execution_count": 219,
   "id": "37b769cf",
   "metadata": {},
   "outputs": [
    {
     "data": {
      "text/html": [
       "<style>#sk-container-id-8 {color: black;background-color: white;}#sk-container-id-8 pre{padding: 0;}#sk-container-id-8 div.sk-toggleable {background-color: white;}#sk-container-id-8 label.sk-toggleable__label {cursor: pointer;display: block;width: 100%;margin-bottom: 0;padding: 0.3em;box-sizing: border-box;text-align: center;}#sk-container-id-8 label.sk-toggleable__label-arrow:before {content: \"▸\";float: left;margin-right: 0.25em;color: #696969;}#sk-container-id-8 label.sk-toggleable__label-arrow:hover:before {color: black;}#sk-container-id-8 div.sk-estimator:hover label.sk-toggleable__label-arrow:before {color: black;}#sk-container-id-8 div.sk-toggleable__content {max-height: 0;max-width: 0;overflow: hidden;text-align: left;background-color: #f0f8ff;}#sk-container-id-8 div.sk-toggleable__content pre {margin: 0.2em;color: black;border-radius: 0.25em;background-color: #f0f8ff;}#sk-container-id-8 input.sk-toggleable__control:checked~div.sk-toggleable__content {max-height: 200px;max-width: 100%;overflow: auto;}#sk-container-id-8 input.sk-toggleable__control:checked~label.sk-toggleable__label-arrow:before {content: \"▾\";}#sk-container-id-8 div.sk-estimator input.sk-toggleable__control:checked~label.sk-toggleable__label {background-color: #d4ebff;}#sk-container-id-8 div.sk-label input.sk-toggleable__control:checked~label.sk-toggleable__label {background-color: #d4ebff;}#sk-container-id-8 input.sk-hidden--visually {border: 0;clip: rect(1px 1px 1px 1px);clip: rect(1px, 1px, 1px, 1px);height: 1px;margin: -1px;overflow: hidden;padding: 0;position: absolute;width: 1px;}#sk-container-id-8 div.sk-estimator {font-family: monospace;background-color: #f0f8ff;border: 1px dotted black;border-radius: 0.25em;box-sizing: border-box;margin-bottom: 0.5em;}#sk-container-id-8 div.sk-estimator:hover {background-color: #d4ebff;}#sk-container-id-8 div.sk-parallel-item::after {content: \"\";width: 100%;border-bottom: 1px solid gray;flex-grow: 1;}#sk-container-id-8 div.sk-label:hover label.sk-toggleable__label {background-color: #d4ebff;}#sk-container-id-8 div.sk-serial::before {content: \"\";position: absolute;border-left: 1px solid gray;box-sizing: border-box;top: 0;bottom: 0;left: 50%;z-index: 0;}#sk-container-id-8 div.sk-serial {display: flex;flex-direction: column;align-items: center;background-color: white;padding-right: 0.2em;padding-left: 0.2em;position: relative;}#sk-container-id-8 div.sk-item {position: relative;z-index: 1;}#sk-container-id-8 div.sk-parallel {display: flex;align-items: stretch;justify-content: center;background-color: white;position: relative;}#sk-container-id-8 div.sk-item::before, #sk-container-id-8 div.sk-parallel-item::before {content: \"\";position: absolute;border-left: 1px solid gray;box-sizing: border-box;top: 0;bottom: 0;left: 50%;z-index: -1;}#sk-container-id-8 div.sk-parallel-item {display: flex;flex-direction: column;z-index: 1;position: relative;background-color: white;}#sk-container-id-8 div.sk-parallel-item:first-child::after {align-self: flex-end;width: 50%;}#sk-container-id-8 div.sk-parallel-item:last-child::after {align-self: flex-start;width: 50%;}#sk-container-id-8 div.sk-parallel-item:only-child::after {width: 0;}#sk-container-id-8 div.sk-dashed-wrapped {border: 1px dashed gray;margin: 0 0.4em 0.5em 0.4em;box-sizing: border-box;padding-bottom: 0.4em;background-color: white;}#sk-container-id-8 div.sk-label label {font-family: monospace;font-weight: bold;display: inline-block;line-height: 1.2em;}#sk-container-id-8 div.sk-label-container {text-align: center;}#sk-container-id-8 div.sk-container {/* jupyter's `normalize.less` sets `[hidden] { display: none; }` but bootstrap.min.css set `[hidden] { display: none !important; }` so we also need the `!important` here to be able to override the default hidden behavior on the sphinx rendered scikit-learn.org. See: https://github.com/scikit-learn/scikit-learn/issues/21755 */display: inline-block !important;position: relative;}#sk-container-id-8 div.sk-text-repr-fallback {display: none;}</style><div id=\"sk-container-id-8\" class=\"sk-top-container\"><div class=\"sk-text-repr-fallback\"><pre>Pipeline(steps=[(&#x27;scaler&#x27;, StandardScaler()), (&#x27;pca&#x27;, PCA()),\n",
       "                (&#x27;logistic&#x27;, LogisticRegression())])</pre><b>In a Jupyter environment, please rerun this cell to show the HTML representation or trust the notebook. <br />On GitHub, the HTML representation is unable to render, please try loading this page with nbviewer.org.</b></div><div class=\"sk-container\" hidden><div class=\"sk-item sk-dashed-wrapped\"><div class=\"sk-label-container\"><div class=\"sk-label sk-toggleable\"><input class=\"sk-toggleable__control sk-hidden--visually\" id=\"sk-estimator-id-15\" type=\"checkbox\" ><label for=\"sk-estimator-id-15\" class=\"sk-toggleable__label sk-toggleable__label-arrow\">Pipeline</label><div class=\"sk-toggleable__content\"><pre>Pipeline(steps=[(&#x27;scaler&#x27;, StandardScaler()), (&#x27;pca&#x27;, PCA()),\n",
       "                (&#x27;logistic&#x27;, LogisticRegression())])</pre></div></div></div><div class=\"sk-serial\"><div class=\"sk-item\"><div class=\"sk-estimator sk-toggleable\"><input class=\"sk-toggleable__control sk-hidden--visually\" id=\"sk-estimator-id-16\" type=\"checkbox\" ><label for=\"sk-estimator-id-16\" class=\"sk-toggleable__label sk-toggleable__label-arrow\">StandardScaler</label><div class=\"sk-toggleable__content\"><pre>StandardScaler()</pre></div></div></div><div class=\"sk-item\"><div class=\"sk-estimator sk-toggleable\"><input class=\"sk-toggleable__control sk-hidden--visually\" id=\"sk-estimator-id-17\" type=\"checkbox\" ><label for=\"sk-estimator-id-17\" class=\"sk-toggleable__label sk-toggleable__label-arrow\">PCA</label><div class=\"sk-toggleable__content\"><pre>PCA()</pre></div></div></div><div class=\"sk-item\"><div class=\"sk-estimator sk-toggleable\"><input class=\"sk-toggleable__control sk-hidden--visually\" id=\"sk-estimator-id-18\" type=\"checkbox\" ><label for=\"sk-estimator-id-18\" class=\"sk-toggleable__label sk-toggleable__label-arrow\">LogisticRegression</label><div class=\"sk-toggleable__content\"><pre>LogisticRegression()</pre></div></div></div></div></div></div></div>"
      ],
      "text/plain": [
       "Pipeline(steps=[('scaler', StandardScaler()), ('pca', PCA()),\n",
       "                ('logistic', LogisticRegression())])"
      ]
     },
     "execution_count": 219,
     "metadata": {},
     "output_type": "execute_result"
    }
   ],
   "source": [
    "pipe.fit(X_train, y_train)"
   ]
  },
  {
   "cell_type": "code",
   "execution_count": 220,
   "id": "126a3daa",
   "metadata": {},
   "outputs": [
    {
     "data": {
      "text/plain": [
       "0.903293918918919"
      ]
     },
     "execution_count": 220,
     "metadata": {},
     "output_type": "execute_result"
    }
   ],
   "source": [
    "pipe.score(X_test, y_test)"
   ]
  },
  {
   "cell_type": "markdown",
   "id": "9c4c0deb",
   "metadata": {},
   "source": [
    "## Hyper-parameter tunning using GridSearchCV and pipeline \n",
    "-  text classification\n",
    "- jointly find the best hyperparameters in each step of the pipeline"
   ]
  },
  {
   "cell_type": "code",
   "execution_count": 221,
   "id": "6ebbba9c",
   "metadata": {},
   "outputs": [],
   "source": [
    "\n",
    "from sklearn.feature_extraction.text import CountVectorizer\n",
    "from sklearn.feature_extraction.text import TfidfTransformer\n",
    "from sklearn.linear_model import LogisticRegression\n",
    "from sklearn.model_selection import GridSearchCV\n",
    "from sklearn.pipeline import Pipeline\n",
    "from pprint import pprint\n",
    "from time import time"
   ]
  },
  {
   "cell_type": "code",
   "execution_count": 222,
   "id": "55f0df6a",
   "metadata": {},
   "outputs": [
    {
     "name": "stdout",
     "output_type": "stream",
     "text": [
      "43            Climate change is above all an equity issue\n",
      "44      Favourable terms of trade provide much needed ...\n",
      "45      UN GA adopts resolution to graduate these thre...\n",
      "46      Davos-style dialogue on the theme of the Confe...\n",
      "47      To address the existing barriers to the adopti...\n",
      "                              ...                        \n",
      "6526    This Selected Issues paper discusses interacti...\n",
      "6527    This Selected Issues paper summarizes achievem...\n",
      "6528    This Selected Issues paper aims to take stock ...\n",
      "6529    Economic developments over the past two years ...\n",
      "6530    The U.S. is in the midst of an unprecedented s...\n",
      "Name: Description, Length: 5920, dtype: object\n"
     ]
    }
   ],
   "source": [
    "print(df.Description)"
   ]
  },
  {
   "cell_type": "code",
   "execution_count": 223,
   "id": "55391c6d",
   "metadata": {},
   "outputs": [
    {
     "data": {
      "text/plain": [
       "'Uruguay has consolidated economic gains, supported by strong macroeconomic policies and a broadly favorable external environment. Growth has exceeded expectations, unemployment has reached record lows, and poverty has continued to fall, while economic vulnerabilities have been significantly reduced. Despite strong credit growth, financial system soundness indicators have improved, showing a well-capitalized banking system, low nonperforming loan ratios and high liquidity levels. Executive Directors have welcomed the measures the authorities have taken to reduce inflationary pressures, including increases in the policy rate and banks’ reserve requirements and tax administrative measures.'"
      ]
     },
     "execution_count": 223,
     "metadata": {},
     "output_type": "execute_result"
    }
   ],
   "source": [
    "df.iloc[4888]['Description']"
   ]
  },
  {
   "cell_type": "markdown",
   "id": "876b1504",
   "metadata": {},
   "source": [
    "### Define a pipeline: text feature extraction + classifier "
   ]
  },
  {
   "cell_type": "code",
   "execution_count": 224,
   "id": "559e8ebd",
   "metadata": {},
   "outputs": [],
   "source": [
    "from sklearn.feature_extraction.text import ENGLISH_STOP_WORDS\n",
    "from sklearn.decomposition import PCA\n",
    "from sklearn.decomposition import TruncatedSVD\n",
    "\n",
    "custom_stop_words = set(ENGLISH_STOP_WORDS).union({'gdp','2018','2019','2020','azevêdo','2021','roberto','conference','takes','september','countries','members','forum','programme','december','notified','organization','certain','ministerial','chf','china','basis','general','march','place','external','2022','2023','2017','2016','unit','2015','2014','2013','2012','2011','2010','2009','2008','2007','2006','2005','2004','2003','2002','2001','2000','highlight','includ','agreement','19','organ','financ','domest','trade','larg','structur','fund','pascal','lami','implement','committe','region','recent','medium','octob','work','ass','outlook','framework','gpd','project','polici','state','new','consult','financi','expect','negoti','develop','product','economi','wa','govern','world','bank','review','extern','intern','said','discus','ha','thi','wto','countri','percent','report','gener','growth','director','global','author','member','econom','articl','iv','measure','year','market','public','sector','measur','term','meet'})\n",
    "custom_stop_words = list(custom_stop_words)\n",
    "\n",
    "pipeline = Pipeline([\n",
    "    (\"vect\", CountVectorizer(min_df=5, max_df=0.8, ngram_range=(1,1), binary=False, stop_words=custom_stop_words)),\n",
    "    (\"tfidf\", TfidfTransformer()),\n",
    "    (\"clf\", LogisticRegression())\n",
    "])"
   ]
  },
  {
   "cell_type": "code",
   "execution_count": 225,
   "id": "92f0c96a",
   "metadata": {},
   "outputs": [
    {
     "data": {
      "text/plain": [
       "[('vect',\n",
       "  CountVectorizer(max_df=0.8, min_df=5,\n",
       "                  stop_words=['once', 'structur', 'yet', 'roberto', 'own',\n",
       "                              'bottom', 'hereafter', 'both', 'he', 'because',\n",
       "                              'whenever', '2017', 'otherwise', 'whoever', '2012',\n",
       "                              'serious', 'well', 'bill', 'empty', 'from',\n",
       "                              'although', 'azevêdo', 'thus', 'unit', 'one',\n",
       "                              'fill', 'along', 'chf', 're', 'perhaps', ...])),\n",
       " ('tfidf', TfidfTransformer()),\n",
       " ('clf', LogisticRegression())]"
      ]
     },
     "execution_count": 225,
     "metadata": {},
     "output_type": "execute_result"
    }
   ],
   "source": [
    "pipeline.steps"
   ]
  },
  {
   "cell_type": "markdown",
   "id": "4af66cd7",
   "metadata": {},
   "source": [
    "### Explore the parameters: search over different values"
   ]
  },
  {
   "cell_type": "code",
   "execution_count": 226,
   "id": "7527f1ac",
   "metadata": {},
   "outputs": [],
   "source": [
    "parameters = {\n",
    "    'vect__max_df': [0.5, 0.75, 1.0],\n",
    "    'vect__min_df': [1, 2, 5],  \n",
    "    'vect__ngram_range': [(1, 1), (1, 2), (2, 2)],\n",
    "    'vect__max_features': [None, 1000],  # None means no limit\n",
    "    'clf__C': [0.01, 0.1, 1.0, 10.0, 100.0]\n",
    "}\n"
   ]
  },
  {
   "cell_type": "code",
   "execution_count": 227,
   "id": "cc7fef32-a5ee-4c93-8f62-8c5a2a640b4c",
   "metadata": {},
   "outputs": [],
   "source": [
    "X_grid = df['Description']  # Features\n",
    "y_grid = df['next_year_gdp_grow_dummy']  # Target variable\n",
    "y_grid = y_grid.reset_index(drop=True) # Reset the index of y to make it align with integer locations\n",
    "X_grid = X_grid.reset_index(drop=True) # Reset the index of y to make it align with integer locations"
   ]
  },
  {
   "cell_type": "markdown",
   "id": "be60cd00",
   "metadata": {},
   "source": [
    "### Jointly find the best parameters for both feature extraction and the classifier"
   ]
  },
  {
   "cell_type": "code",
   "execution_count": 228,
   "id": "86924bcf",
   "metadata": {},
   "outputs": [
    {
     "name": "stdout",
     "output_type": "stream",
     "text": [
      "Performing grid search...\n",
      "pipeline: ['vect', 'tfidf', 'clf']\n",
      "parameters:\n",
      "{'clf__C': [0.01, 0.1, 1.0, 10.0, 100.0],\n",
      " 'vect__max_df': [0.5, 0.75, 1.0],\n",
      " 'vect__max_features': [None, 1000],\n",
      " 'vect__min_df': [1, 2, 5],\n",
      " 'vect__ngram_range': [(1, 1), (1, 2), (2, 2)]}\n",
      "Fitting 5 folds for each of 270 candidates, totalling 1350 fits\n",
      "done in 378.584s\n",
      "\n",
      "Best score: 0.898\n",
      "Best parameters set:\n",
      "\tclf__C: 0.01\n",
      "\tvect__max_df: 0.5\n",
      "\tvect__max_features: None\n",
      "\tvect__min_df: 1\n",
      "\tvect__ngram_range: (1, 1)\n"
     ]
    }
   ],
   "source": [
    "from pprint import pprint\n",
    "from time import time\n",
    "from sklearn.pipeline import Pipeline\n",
    "from sklearn.model_selection import GridSearchCV\n",
    "from sklearn.linear_model import LogisticRegression\n",
    "grid_search = GridSearchCV(pipeline, parameters, cv=5, n_jobs=-1, verbose=1, error_score='raise')\n",
    "\n",
    "print(\"Performing grid search...\")\n",
    "print(\"pipeline:\", [name for name, _ in pipeline.steps])\n",
    "print(\"parameters:\")\n",
    "pprint(parameters)\n",
    "t0 = time()\n",
    "grid_search.fit(X_grid,y_grid)\n",
    "print(\"done in %0.3fs\" % (time() - t0))\n",
    "print()\n",
    "\n",
    "print(\"Best score: %0.3f\" % grid_search.best_score_)\n",
    "print(\"Best parameters set:\")\n",
    "best_parameters = grid_search.best_estimator_.get_params()\n",
    "for param_name in sorted(parameters.keys()):\n",
    "    print(\"\\t%s: %r\" % (param_name, best_parameters[param_name]))\n"
   ]
  },
  {
   "cell_type": "code",
   "execution_count": 229,
   "id": "b4677d5a-3b5e-4ebc-a760-68729c236918",
   "metadata": {},
   "outputs": [
    {
     "name": "stdout",
     "output_type": "stream",
     "text": [
      "Top 5 Negative Features:\n",
      "         features  coefficients\n",
      "4620       fiscal     -0.097391\n",
      "4591    financial     -0.074971\n",
      "8677      reforms     -0.068894\n",
      "10053  structural     -0.060395\n",
      "7967       policy     -0.052434\n",
      "Top 5 Positive Features:\n",
      "       features  coefficients\n",
      "7640   pandemic      0.035109\n",
      "8623   recovery      0.031989\n",
      "2855      covid      0.028906\n",
      "2892     crisis      0.028180\n",
      "10911     union      0.027001\n"
     ]
    }
   ],
   "source": [
    "# Access the best estimator from grid search\n",
    "best_clf = grid_search.best_estimator_\n",
    "\n",
    "# get the feature names\n",
    "vect = best_clf.named_steps['vect'] \n",
    "feature_names = vect.get_feature_names_out()\n",
    "\n",
    "# Access the logistic regression model\n",
    "logistic_model = best_clf.named_steps['clf']  # Replace 'clf' with the name used for the logistic regression step in  pipeline\n",
    "\n",
    "# Get the coefficients from the logistic regression model\n",
    "coefficients = logistic_model.coef_[0]\n",
    "\n",
    "\n",
    "# Create a DataFrame of features and their corresponding coefficients\n",
    "feature_importance = pd.DataFrame({\n",
    "    'features': feature_names,\n",
    "    'coefficients': coefficients\n",
    "})\n",
    "\n",
    "# Sort the features by the absolute values of their coefficients\n",
    "top_features = feature_importance.reindex(feature_importance.coefficients.abs().sort_values(ascending=False).index)\n",
    "\n",
    "print(\"Top 5 Negative Features:\")\n",
    "# Display the top 5 features\n",
    "print(top_features.head(5))\n",
    "\n",
    "positive_features = feature_importance[feature_importance['coefficients'] > 0].sort_values(by='coefficients', ascending=False)\n",
    "\n",
    "# Display the top 5 positive features\n",
    "print(\"Top 5 Positive Features:\")\n",
    "print(positive_features.head(5))\n"
   ]
  },
  {
   "cell_type": "code",
   "execution_count": 230,
   "id": "82986dbc-cb3f-4256-b3e7-967190a5f77a",
   "metadata": {},
   "outputs": [
    {
     "name": "stdout",
     "output_type": "stream",
     "text": [
      "Accuracy: 0.8978040540540541\n",
      "Classification Report:\n",
      "              precision    recall  f1-score   support\n",
      "\n",
      "           0       0.00      0.00      0.00       605\n",
      "           1       0.90      1.00      0.95      5315\n",
      "\n",
      "    accuracy                           0.90      5920\n",
      "   macro avg       0.45      0.50      0.47      5920\n",
      "weighted avg       0.81      0.90      0.85      5920\n",
      "\n",
      "Confusion Matrix:\n",
      "[[   0  605]\n",
      " [   0 5315]]\n"
     ]
    },
    {
     "name": "stderr",
     "output_type": "stream",
     "text": [
      "C:\\Users\\Victoria\\anaconda3\\Lib\\site-packages\\sklearn\\metrics\\_classification.py:1344: UndefinedMetricWarning: Precision and F-score are ill-defined and being set to 0.0 in labels with no predicted samples. Use `zero_division` parameter to control this behavior.\n",
      "  _warn_prf(average, modifier, msg_start, len(result))\n",
      "C:\\Users\\Victoria\\anaconda3\\Lib\\site-packages\\sklearn\\metrics\\_classification.py:1344: UndefinedMetricWarning: Precision and F-score are ill-defined and being set to 0.0 in labels with no predicted samples. Use `zero_division` parameter to control this behavior.\n",
      "  _warn_prf(average, modifier, msg_start, len(result))\n",
      "C:\\Users\\Victoria\\anaconda3\\Lib\\site-packages\\sklearn\\metrics\\_classification.py:1344: UndefinedMetricWarning: Precision and F-score are ill-defined and being set to 0.0 in labels with no predicted samples. Use `zero_division` parameter to control this behavior.\n",
      "  _warn_prf(average, modifier, msg_start, len(result))\n"
     ]
    }
   ],
   "source": [
    "y_pred = best_clf.predict(X_grid)\n",
    "\n",
    "# Calculate accuracy\n",
    "accuracy = accuracy_score(y_grid, y_pred)\n",
    "print(\"Accuracy:\", accuracy)\n",
    "\n",
    "# Generate a classification report\n",
    "class_report = classification_report(y_grid, y_pred)\n",
    "print(\"Classification Report:\")\n",
    "print(class_report)\n",
    "\n",
    "# Generate the confusion matrix\n",
    "conf_matrix = confusion_matrix(y_grid, y_pred)\n",
    "print(\"Confusion Matrix:\")\n",
    "print(conf_matrix)"
   ]
  },
  {
   "cell_type": "code",
   "execution_count": 231,
   "id": "40e4963d-0e8f-4030-9871-e62f52193947",
   "metadata": {},
   "outputs": [],
   "source": [
    "\n",
    "df['Predicted'] = y_pred  # model predictions\n",
    "df['Actual'] = y_grid     # actual outcomes\n",
    "df['Correct'] = df['Predicted'] == df['Actual']  # True if correct, False if incorrect\n",
    "\n",
    "# Filter out incorrect predictions\n",
    "errors = df[df['Correct'] == False]\n",
    "\n",
    "# Calculate the count of errors per year\n",
    "errors_per_year = errors['Year'].value_counts()\n",
    "\n",
    "# Calculate the total number of predictions per year\n",
    "total_predictions_per_year = df['Year'].value_counts()\n",
    "\n",
    "# Calculate the percentage of false predictions per year\n",
    "percentage_errors_per_year = (errors_per_year / total_predictions_per_year) * 100\n"
   ]
  },
  {
   "cell_type": "code",
   "execution_count": 232,
   "id": "defe3c1d-06f2-4c68-a627-a600ae962490",
   "metadata": {},
   "outputs": [
    {
     "name": "stdout",
     "output_type": "stream",
     "text": [
      "Top 5 Years with Highest Percentage of False Predictions:\n",
      "Year\n",
      "2020-01-01    74.688797\n",
      "2021-01-01    62.758621\n",
      "2019-01-01    49.537037\n",
      "2007-01-01    38.700565\n",
      "2015-01-01    16.051661\n",
      "Name: count, dtype: float64\n"
     ]
    }
   ],
   "source": [
    "# Sort the percentages in descending order\n",
    "sorted_percentage_errors_per_year = percentage_errors_per_year.sort_values(ascending=False)\n",
    "\n",
    "# Display the top 5 years with the highest error rates\n",
    "top_5_years_errors = sorted_percentage_errors_per_year.head(5)\n",
    "print(\"Top 5 Years with Highest Percentage of False Predictions:\")\n",
    "print(top_5_years_errors)\n"
   ]
  },
  {
   "cell_type": "markdown",
   "id": "85e24fcb-a01d-468b-9d57-b5b9accb0ba0",
   "metadata": {},
   "source": [
    "### Model Summary and Evaluation\n",
    "- The optimal parameters identified include a regularization strength (clf__C) of 0.01, suggesting a higher degree of regularization helps prevent overfitting and enhances model generalization. For the vectorization process, a maximum document frequency (vect__max_df) of 0.5 efficiently filters out very common terms, while the minimum document frequency (vect__min_df) set to 1 and the absence of a maximum feature limit (vect__max_features: None) ensure that all potentially informative terms are considered. The choice of unigram tokens (vect__ngram_range: (1, 1)) confirms that single words provide sufficient predictive power in this context.riable on model decisions.\r\n",
    "\r\n",
    "### Conclusion\r\n",
    "- The model is highly effective for the positive class but fails entirely for the negative class. Adjustments are necessary to improve its predictive capabilities across b\n",
    "- For Class 0 (negative gdp growth), the model missed all the correct prediction, as indicat4ed by 0 value of Precision, Recall, F1-Score.\n",
    "- The years with the highest percentages of incorrect predictions were 2020, 2021, 2019, 2007, and 2015. In 2020, the model had the highest error rate, with approximately 74.69% of the predictions being incorrect. This could potentially be attributed to the global impact of the COVID-19 pandemic, which introduced unprecedented economic disruptions that were not typical of the patterns seen in the training data from previous years. The year 2007, which marked the onset of the global financial crisis, had an error rate of 38.70%, underscoring potential difficulties in predicting downturns that are abrupt and driven by complex financial factors.\n",
    "- The model's coefficients reveal how specific terms influence its predictions. \"Fiscal,\" \"financial,\" \"reforms,\" \"structural,\" and \"policy\" have negative values, suggesting that discussions around these topics are associated with adverse outcomes, possibly reflecting concerns or challenges in these areas. Conversely, \"pandemic,\" \"recovery,\" \"covid,\" \"crisis,\" and \"union\" show positive effects, likely capturing effective responses and rebound after facing significant challenges. th classes, enhancing fairness and accuracy.\r\n",
    "mplex models that might capture the class characteristics better.\r\n"
   ]
  },
  {
   "cell_type": "markdown",
   "id": "93b56811-1e69-4b6f-ae29-13b2474fce3b",
   "metadata": {},
   "source": [
    "# Ensemble learning\n",
    "- Boosting\n",
    "- Stacking"
   ]
  },
  {
   "cell_type": "markdown",
   "id": "c97bad40-edef-4d7b-b1b6-4e51ed9c5945",
   "metadata": {},
   "source": [
    "## Boosting\n",
    "\n",
    "Different boosting methods yield different accuracy scores."
   ]
  },
  {
   "cell_type": "code",
   "execution_count": 233,
   "id": "ce484f12-ce98-46a4-b85f-cb30da7ec4c3",
   "metadata": {},
   "outputs": [],
   "source": [
    "from sklearn.model_selection import cross_val_score\n",
    "from sklearn.datasets import load_iris\n",
    "from sklearn.ensemble import AdaBoostClassifier\n",
    "from sklearn.tree import DecisionTreeClassifier"
   ]
  },
  {
   "cell_type": "code",
   "execution_count": 234,
   "id": "1cec0606-50ec-4dea-bb6e-d20c927e20b9",
   "metadata": {},
   "outputs": [
    {
     "data": {
      "text/plain": [
       "0.8567567567567569"
      ]
     },
     "execution_count": 234,
     "metadata": {},
     "output_type": "execute_result"
    }
   ],
   "source": [
    "dt = DecisionTreeClassifier(max_depth=1, random_state=42)\n",
    "dt_scores = cross_val_score(dt, X, y, cv=5)\n",
    "dt_scores.mean()"
   ]
  },
  {
   "cell_type": "code",
   "execution_count": 235,
   "id": "6dba1b8b-882f-4b37-98b0-a5cb6de6933a",
   "metadata": {},
   "outputs": [
    {
     "name": "stdout",
     "output_type": "stream",
     "text": [
      "Average score of the mimicked Random Forest: 0.8978040540540541\n"
     ]
    }
   ],
   "source": [
    "from sklearn.ensemble import RandomForestClassifier\n",
    "from sklearn.model_selection import cross_val_score\n",
    "\n",
    "# Mimicking AdaBoost with Random Forest\n",
    "rf_clf = RandomForestClassifier(n_estimators=100, max_depth=1, random_state=0)\n",
    "rf_scores = cross_val_score(rf_clf, X, y, cv=5)\n",
    "rf_mean = rf_scores.mean()\n",
    "\n",
    "print(\"Average score of the mimicked Random Forest:\", rf_mean)"
   ]
  },
  {
   "cell_type": "code",
   "execution_count": 236,
   "id": "b976e968-d7c6-4049-9e44-bbff01d01dfc",
   "metadata": {},
   "outputs": [],
   "source": [
    "# create a boosting classifier\n",
    "# please check documentation to understand what does \"estimator=None\" mean?\n",
    "clf = AdaBoostClassifier(estimator=None, n_estimators=100, algorithm=\"SAMME\")"
   ]
  },
  {
   "cell_type": "code",
   "execution_count": 237,
   "id": "739c5a44-326b-4cb1-bbb3-3e5db8abec9f",
   "metadata": {},
   "outputs": [
    {
     "data": {
      "text/plain": [
       "0.8594594594594595"
      ]
     },
     "execution_count": 237,
     "metadata": {},
     "output_type": "execute_result"
    }
   ],
   "source": [
    "scores = cross_val_score(clf, X, y, cv=5)\n",
    "scores.mean()"
   ]
  },
  {
   "cell_type": "markdown",
   "id": "0bf65b2f-06c4-4ac0-99b5-ffb30ec16494",
   "metadata": {},
   "source": [
    "## Multi-layer stacking"
   ]
  },
  {
   "cell_type": "code",
   "execution_count": 238,
   "id": "4611ca5b-029e-4c77-987e-4e8e7ae9d3c7",
   "metadata": {},
   "outputs": [
    {
     "data": {
      "text/plain": [
       "0.06840363946374095"
      ]
     },
     "execution_count": 238,
     "metadata": {},
     "output_type": "execute_result"
    }
   ],
   "source": [
    "from sklearn.ensemble import RandomForestRegressor\n",
    "from sklearn.ensemble import GradientBoostingRegressor\n",
    "from sklearn.ensemble import StackingRegressor\n",
    "from sklearn.linear_model import RidgeCV, LassoCV\n",
    "from sklearn.neighbors import KNeighborsRegressor\n",
    "final_layer_rfr = RandomForestRegressor(n_estimators=10, max_features=1, max_leaf_nodes=5,random_state=42)\n",
    "final_layer_gbr = GradientBoostingRegressor(n_estimators=10, max_features=1, max_leaf_nodes=5,random_state=42)\n",
    "final_layer = StackingRegressor(estimators=[('rf', final_layer_rfr),('gbrt', final_layer_gbr)],\n",
    "                                final_estimator=RidgeCV())\n",
    "\n",
    "multi_layer_regressor = StackingRegressor(estimators=[('ridge', RidgeCV()),\n",
    "                                                      ('lasso', LassoCV(random_state=42)),\n",
    "                                                      ('knr', KNeighborsRegressor(n_neighbors=20,metric='euclidean'))],\n",
    "                                          final_estimator=final_layer)\n",
    "\n",
    "multi_layer_regressor.fit(X_train, y_train)\n",
    "multi_layer_regressor.score(X_test, y_test)"
   ]
  },
  {
   "cell_type": "code",
   "execution_count": 239,
   "id": "ad3722a7-f7d5-4604-bc25-6e0697f526db",
   "metadata": {},
   "outputs": [
    {
     "name": "stdout",
     "output_type": "stream",
     "text": [
      "Confusion Matrix:\n",
      "[[   6  233]\n",
      " [   4 2125]]\n",
      "Classification Report:\n",
      "              precision    recall  f1-score   support\n",
      "\n",
      "           0       0.60      0.03      0.05       239\n",
      "           1       0.90      1.00      0.95      2129\n",
      "\n",
      "    accuracy                           0.90      2368\n",
      "   macro avg       0.75      0.51      0.50      2368\n",
      "weighted avg       0.87      0.90      0.86      2368\n",
      "\n",
      "ROC AUC Score: 0.511612893082379\n"
     ]
    }
   ],
   "source": [
    "import numpy as np\n",
    "from sklearn.metrics import confusion_matrix, roc_auc_score, roc_curve, accuracy_score, classification_report\n",
    "from sklearn.model_selection import train_test_split\n",
    "\n",
    "\n",
    "threshold = 0.5\n",
    "\n",
    "# Predict on the test set\n",
    "y_pred_continuous = multi_layer_regressor.predict(X_test)\n",
    "\n",
    "# Convert predictions to binary based on the threshold\n",
    "y_pred_binary = np.where(y_pred_continuous >= threshold, 1, 0)\n",
    "\n",
    "# Confusion Matrix\n",
    "conf_matrix = confusion_matrix(y_test, y_pred_binary)\n",
    "print(\"Confusion Matrix:\")\n",
    "print(conf_matrix)\n",
    "\n",
    "# Classification Report for precision, recall, f1-score, and accuracy\n",
    "print(\"Classification Report:\")\n",
    "print(classification_report(y_test, y_pred_binary))\n",
    "\n",
    "# Calculate ROC-AUC\n",
    "roc_auc = roc_auc_score(y_test, y_pred_binary)\n",
    "print(\"ROC AUC Score:\", roc_auc)\n",
    "\n",
    "\n"
   ]
  },
  {
   "cell_type": "markdown",
   "id": "b5fed16a-77d9-4e8d-96d1-e9952b1f1636",
   "metadata": {},
   "source": [
    "## Model Performance Evaluation\n",
    "\r\n",
    "- **True Positives (TP)** forpositive next year gdp growth1: 2125\r\n",
    "- **True Negatives (TN)** fonegative next year gdp growth 0:, which is better than the previous model (with value 0). 6\r\n",
    "- **False Positives (FP)**: 23 negative next year gdp growths 0 incorrectly classified  positive next year gdp growths 1)\r\n",
    "- **False Negatives (FN)**:positive next year gdp growthss 1 incorrectly classifie  negative next year gdp growthss 0)\r\n",
    "\r\n",
    "### Classification Report\r\n",
    "\r\n",
    "- **Precision for Class 0**: 0.60\r\n",
    "  - Indicates that 60% of the model's predic negative next year gdp growth  class 0 wer, a large improvement from before. correct.\r\n",
    "- **Recall for Class 0**: 0.03\r\n",
    "  - Only 3% of the actual class 0 instances were correctl, a small improvement from before.this class.\r\n",
    "- **F1-Score for Class 0**: 0.05\r\n",
    "  - The low F1-score for class 0 indicates poor balance between precision and recall, reflecting overall poor performance fo But it is a small improvement from before.r is the majority class.\r\n",
    "\r\n",
    "### ROC AUC Score\r\n",
    "\r\n",
    "- **ROC AUC Score**: 0.5116\r\n",
    "  - The ROC AUC score close to 0.5 suggests that the model has no discriminative ability to distinguish between class 0 and class 1, eq But this is better than previous model, which is equal to 0.5uedictive accuracy across both classes.\r\n",
    "\n",
    "\n"
   ]
  },
  {
   "cell_type": "markdown",
   "id": "15f50505-17b3-437b-ae34-587c4b2f8293",
   "metadata": {},
   "source": [
    "### NN for a binary classification task\n",
    "\n",
    "Here, I define a neural network (clf_model) using Keras' Sequential model, which allows me to build a model layer by layer. I add a dense (fully connected) layer with 7 neurons, using ReLU (Rectified Linear Unit) as the activation function(ReLU introduces non-linearity to the model, which is crucial because it allows the network to learn more complex patterns). The input shape is set to (30,), indicating that the model expects each input sample to be a 30-dimensional vector. The second dense layer is the output layer with 1 neuron, using a sigmoid(Sigmoid function outputs a value between 0 and 1, which makes it a natural choice for models where I need to predict the probability of an input being classified as one of two classes (0 or 1)) activation function. This setup is typical for binary classification, where the output is the probability of the sample belonging to one of the classes.\n",
    "\n",
    "dense_6 (Dense): The first dense layer with 7 neurons. The output shape (None, 7) implies that the layer outputs a 7-dimensional vector per sample. The batch size is unspecified (hence None), meaning it can vary. Param # indicates the number of parameters in this layer, calculated as (input_features * neurons + bias_units) = (30 * 7 + 7) = 217.\n",
    "\r\n",
    "dense_7 (Dense): The output layer with 1 neuron, resulting in a shape of (None, 1). This layer has 8 parameters, calculated from (neurons_in_previous_layer * neurons_in_this_layer + bias_units) = (7 * 1 + 1) = 8."
   ]
  },
  {
   "cell_type": "code",
   "execution_count": 240,
   "id": "63b70a4c-0b16-41b2-8386-c4410fad2444",
   "metadata": {},
   "outputs": [],
   "source": [
    "dataset = df.values"
   ]
  },
  {
   "cell_type": "code",
   "execution_count": 241,
   "id": "6fb973c0-09cf-48d7-964c-25db26825ad9",
   "metadata": {},
   "outputs": [],
   "source": [
    "import numpy as np\n",
    "import pandas as pd\n",
    "\n",
    "import keras\n",
    "from keras import models, layers, optimizers\n",
    "from tensorflow.keras.models import Sequential\n",
    "from tensorflow.keras.layers import Dense\n",
    "\n",
    "from sklearn.preprocessing import LabelEncoder\n",
    "from sklearn.model_selection import train_test_split\n",
    "from sklearn.linear_model import LogisticRegression\n",
    "from sklearn.metrics import classification_report\n",
    "import matplotlib.pyplot as plt"
   ]
  },
  {
   "cell_type": "code",
   "execution_count": 242,
   "id": "f9392900-9cbf-4ffc-a634-083ca0f717d1",
   "metadata": {},
   "outputs": [
    {
     "data": {
      "text/plain": [
       "((3788, 30), (1184, 30), (948, 30))"
      ]
     },
     "execution_count": 242,
     "metadata": {},
     "output_type": "execute_result"
    }
   ],
   "source": [
    "# prepare data for model training\n",
    "X = X\n",
    "Y = y\n",
    "# encode class values as integers\n",
    "encoder = LabelEncoder()\n",
    "encoder.fit(Y)\n",
    "encoded_Y = encoder.transform(Y)\n",
    "\n",
    "# split data into train/test/validation\n",
    "X_data, X_test, y_data, y_test = train_test_split(X, encoded_Y, test_size=0.2, random_state=42)\n",
    "X_train, X_val, y_train, y_val = train_test_split(X_data, y_data, test_size=0.2, random_state=42)\n",
    "X_train.shape, X_test.shape, X_val.shape"
   ]
  },
  {
   "cell_type": "code",
   "execution_count": 243,
   "id": "b2f83d7c-c5ed-4dcd-ae86-f25c733b04fb",
   "metadata": {},
   "outputs": [
    {
     "name": "stderr",
     "output_type": "stream",
     "text": [
      "C:\\Users\\Victoria\\anaconda3\\Lib\\site-packages\\keras\\src\\layers\\core\\dense.py:87: UserWarning: Do not pass an `input_shape`/`input_dim` argument to a layer. When using Sequential models, prefer using an `Input(shape)` object as the first layer in the model instead.\n",
      "  super().__init__(activity_regularizer=activity_regularizer, **kwargs)\n"
     ]
    }
   ],
   "source": [
    "# Define a NN\n",
    "clf_model = Sequential()\n",
    "clf_model.add(Dense(7, input_shape=(30,), activation='relu'))\n",
    "clf_model.add(Dense(1, activation='sigmoid'))"
   ]
  },
  {
   "cell_type": "code",
   "execution_count": 244,
   "id": "58389373-7ddb-4541-8cca-21bc08856772",
   "metadata": {},
   "outputs": [
    {
     "data": {
      "text/html": [
       "<pre style=\"white-space:pre;overflow-x:auto;line-height:normal;font-family:Menlo,'DejaVu Sans Mono',consolas,'Courier New',monospace\"><span style=\"font-weight: bold\">Model: \"sequential_8\"</span>\n",
       "</pre>\n"
      ],
      "text/plain": [
       "\u001b[1mModel: \"sequential_8\"\u001b[0m\n"
      ]
     },
     "metadata": {},
     "output_type": "display_data"
    },
    {
     "data": {
      "text/html": [
       "<pre style=\"white-space:pre;overflow-x:auto;line-height:normal;font-family:Menlo,'DejaVu Sans Mono',consolas,'Courier New',monospace\">┏━━━━━━━━━━━━━━━━━━━━━━━━━━━━━━━━━━━━━━┳━━━━━━━━━━━━━━━━━━━━━━━━━━━━━┳━━━━━━━━━━━━━━━━━┓\n",
       "┃<span style=\"font-weight: bold\"> Layer (type)                         </span>┃<span style=\"font-weight: bold\"> Output Shape                </span>┃<span style=\"font-weight: bold\">         Param # </span>┃\n",
       "┡━━━━━━━━━━━━━━━━━━━━━━━━━━━━━━━━━━━━━━╇━━━━━━━━━━━━━━━━━━━━━━━━━━━━━╇━━━━━━━━━━━━━━━━━┩\n",
       "│ dense_16 (<span style=\"color: #0087ff; text-decoration-color: #0087ff\">Dense</span>)                     │ (<span style=\"color: #00d7ff; text-decoration-color: #00d7ff\">None</span>, <span style=\"color: #00af00; text-decoration-color: #00af00\">7</span>)                   │             <span style=\"color: #00af00; text-decoration-color: #00af00\">217</span> │\n",
       "├──────────────────────────────────────┼─────────────────────────────┼─────────────────┤\n",
       "│ dense_17 (<span style=\"color: #0087ff; text-decoration-color: #0087ff\">Dense</span>)                     │ (<span style=\"color: #00d7ff; text-decoration-color: #00d7ff\">None</span>, <span style=\"color: #00af00; text-decoration-color: #00af00\">1</span>)                   │               <span style=\"color: #00af00; text-decoration-color: #00af00\">8</span> │\n",
       "└──────────────────────────────────────┴─────────────────────────────┴─────────────────┘\n",
       "</pre>\n"
      ],
      "text/plain": [
       "┏━━━━━━━━━━━━━━━━━━━━━━━━━━━━━━━━━━━━━━┳━━━━━━━━━━━━━━━━━━━━━━━━━━━━━┳━━━━━━━━━━━━━━━━━┓\n",
       "┃\u001b[1m \u001b[0m\u001b[1mLayer (type)                        \u001b[0m\u001b[1m \u001b[0m┃\u001b[1m \u001b[0m\u001b[1mOutput Shape               \u001b[0m\u001b[1m \u001b[0m┃\u001b[1m \u001b[0m\u001b[1m        Param #\u001b[0m\u001b[1m \u001b[0m┃\n",
       "┡━━━━━━━━━━━━━━━━━━━━━━━━━━━━━━━━━━━━━━╇━━━━━━━━━━━━━━━━━━━━━━━━━━━━━╇━━━━━━━━━━━━━━━━━┩\n",
       "│ dense_16 (\u001b[38;5;33mDense\u001b[0m)                     │ (\u001b[38;5;45mNone\u001b[0m, \u001b[38;5;34m7\u001b[0m)                   │             \u001b[38;5;34m217\u001b[0m │\n",
       "├──────────────────────────────────────┼─────────────────────────────┼─────────────────┤\n",
       "│ dense_17 (\u001b[38;5;33mDense\u001b[0m)                     │ (\u001b[38;5;45mNone\u001b[0m, \u001b[38;5;34m1\u001b[0m)                   │               \u001b[38;5;34m8\u001b[0m │\n",
       "└──────────────────────────────────────┴─────────────────────────────┴─────────────────┘\n"
      ]
     },
     "metadata": {},
     "output_type": "display_data"
    },
    {
     "data": {
      "text/html": [
       "<pre style=\"white-space:pre;overflow-x:auto;line-height:normal;font-family:Menlo,'DejaVu Sans Mono',consolas,'Courier New',monospace\"><span style=\"font-weight: bold\"> Total params: </span><span style=\"color: #00af00; text-decoration-color: #00af00\">225</span> (900.00 B)\n",
       "</pre>\n"
      ],
      "text/plain": [
       "\u001b[1m Total params: \u001b[0m\u001b[38;5;34m225\u001b[0m (900.00 B)\n"
      ]
     },
     "metadata": {},
     "output_type": "display_data"
    },
    {
     "data": {
      "text/html": [
       "<pre style=\"white-space:pre;overflow-x:auto;line-height:normal;font-family:Menlo,'DejaVu Sans Mono',consolas,'Courier New',monospace\"><span style=\"font-weight: bold\"> Trainable params: </span><span style=\"color: #00af00; text-decoration-color: #00af00\">225</span> (900.00 B)\n",
       "</pre>\n"
      ],
      "text/plain": [
       "\u001b[1m Trainable params: \u001b[0m\u001b[38;5;34m225\u001b[0m (900.00 B)\n"
      ]
     },
     "metadata": {},
     "output_type": "display_data"
    },
    {
     "data": {
      "text/html": [
       "<pre style=\"white-space:pre;overflow-x:auto;line-height:normal;font-family:Menlo,'DejaVu Sans Mono',consolas,'Courier New',monospace\"><span style=\"font-weight: bold\"> Non-trainable params: </span><span style=\"color: #00af00; text-decoration-color: #00af00\">0</span> (0.00 B)\n",
       "</pre>\n"
      ],
      "text/plain": [
       "\u001b[1m Non-trainable params: \u001b[0m\u001b[38;5;34m0\u001b[0m (0.00 B)\n"
      ]
     },
     "metadata": {},
     "output_type": "display_data"
    }
   ],
   "source": [
    "clf_model.summary()"
   ]
  },
  {
   "cell_type": "code",
   "execution_count": 245,
   "id": "b5094931-23d0-45e9-b516-3d2213b56cbd",
   "metadata": {},
   "outputs": [
    {
     "data": {
      "image/png": "[encoded data removed]",
      "text/plain": [
       "<IPython.core.display.Image object>"
      ]
     },
     "execution_count": 245,
     "metadata": {},
     "output_type": "execute_result"
    }
   ],
   "source": [
    "keras.utils.plot_model(clf_model, \"binary_classifier.png\") # show_shapes=True"
   ]
  },
  {
   "cell_type": "code",
   "execution_count": 246,
   "id": "7e188140-1055-4aeb-9429-babfccdb346b",
   "metadata": {},
   "outputs": [],
   "source": [
    "clf_model.compile(loss='binary_crossentropy', optimizer='adam', metrics=['accuracy'])"
   ]
  },
  {
   "cell_type": "code",
   "execution_count": 247,
   "id": "27ad450e-f19f-433c-bd3f-f99d4a9a29b1",
   "metadata": {},
   "outputs": [
    {
     "name": "stdout",
     "output_type": "stream",
     "text": [
      "Epoch 1/100\n",
      "\u001b[1m119/119\u001b[0m \u001b[32m━━━━━━━━━━━━━━━━━━━━\u001b[0m\u001b[37m\u001b[0m \u001b[1m2s\u001b[0m 4ms/step - accuracy: 0.6560 - loss: 0.6761 - val_accuracy: 0.8977 - val_loss: 0.5504\n",
      "Epoch 2/100\n",
      "\u001b[1m119/119\u001b[0m \u001b[32m━━━━━━━━━━━━━━━━━━━━\u001b[0m\u001b[37m\u001b[0m \u001b[1m0s\u001b[0m 2ms/step - accuracy: 0.8955 - loss: 0.5393 - val_accuracy: 0.9030 - val_loss: 0.4445\n",
      "Epoch 3/100\n",
      "\u001b[1m119/119\u001b[0m \u001b[32m━━━━━━━━━━━━━━━━━━━━\u001b[0m\u001b[37m\u001b[0m \u001b[1m0s\u001b[0m 2ms/step - accuracy: 0.8893 - loss: 0.4516 - val_accuracy: 0.9030 - val_loss: 0.3862\n",
      "Epoch 4/100\n",
      "\u001b[1m119/119\u001b[0m \u001b[32m━━━━━━━━━━━━━━━━━━━━\u001b[0m\u001b[37m\u001b[0m \u001b[1m0s\u001b[0m 2ms/step - accuracy: 0.9003 - loss: 0.3831 - val_accuracy: 0.9030 - val_loss: 0.3527\n",
      "Epoch 5/100\n",
      "\u001b[1m119/119\u001b[0m \u001b[32m━━━━━━━━━━━━━━━━━━━━\u001b[0m\u001b[37m\u001b[0m \u001b[1m0s\u001b[0m 2ms/step - accuracy: 0.8982 - loss: 0.3561 - val_accuracy: 0.9030 - val_loss: 0.3318\n",
      "Epoch 6/100\n",
      "\u001b[1m119/119\u001b[0m \u001b[32m━━━━━━━━━━━━━━━━━━━━\u001b[0m\u001b[37m\u001b[0m \u001b[1m0s\u001b[0m 2ms/step - accuracy: 0.8963 - loss: 0.3348 - val_accuracy: 0.9030 - val_loss: 0.3202\n",
      "Epoch 7/100\n",
      "\u001b[1m119/119\u001b[0m \u001b[32m━━━━━━━━━━━━━━━━━━━━\u001b[0m\u001b[37m\u001b[0m \u001b[1m0s\u001b[0m 2ms/step - accuracy: 0.8891 - loss: 0.3314 - val_accuracy: 0.9019 - val_loss: 0.3132\n",
      "Epoch 8/100\n",
      "\u001b[1m119/119\u001b[0m \u001b[32m━━━━━━━━━━━━━━━━━━━━\u001b[0m\u001b[37m\u001b[0m \u001b[1m0s\u001b[0m 2ms/step - accuracy: 0.8995 - loss: 0.3028 - val_accuracy: 0.9008 - val_loss: 0.3106\n",
      "Epoch 9/100\n",
      "\u001b[1m119/119\u001b[0m \u001b[32m━━━━━━━━━━━━━━━━━━━━\u001b[0m\u001b[37m\u001b[0m \u001b[1m0s\u001b[0m 2ms/step - accuracy: 0.8906 - loss: 0.3237 - val_accuracy: 0.9019 - val_loss: 0.3073\n",
      "Epoch 10/100\n",
      "\u001b[1m119/119\u001b[0m \u001b[32m━━━━━━━━━━━━━━━━━━━━\u001b[0m\u001b[37m\u001b[0m \u001b[1m0s\u001b[0m 2ms/step - accuracy: 0.8877 - loss: 0.3285 - val_accuracy: 0.9030 - val_loss: 0.3059\n",
      "Epoch 11/100\n",
      "\u001b[1m119/119\u001b[0m \u001b[32m━━━━━━━━━━━━━━━━━━━━\u001b[0m\u001b[37m\u001b[0m \u001b[1m0s\u001b[0m 2ms/step - accuracy: 0.8996 - loss: 0.3037 - val_accuracy: 0.9019 - val_loss: 0.3050\n",
      "Epoch 12/100\n",
      "\u001b[1m119/119\u001b[0m \u001b[32m━━━━━━━━━━━━━━━━━━━━\u001b[0m\u001b[37m\u001b[0m \u001b[1m0s\u001b[0m 2ms/step - accuracy: 0.9090 - loss: 0.2787 - val_accuracy: 0.9008 - val_loss: 0.3053\n",
      "Epoch 13/100\n",
      "\u001b[1m119/119\u001b[0m \u001b[32m━━━━━━━━━━━━━━━━━━━━\u001b[0m\u001b[37m\u001b[0m \u001b[1m0s\u001b[0m 2ms/step - accuracy: 0.8922 - loss: 0.3110 - val_accuracy: 0.9040 - val_loss: 0.3027\n",
      "Epoch 14/100\n",
      "\u001b[1m119/119\u001b[0m \u001b[32m━━━━━━━━━━━━━━━━━━━━\u001b[0m\u001b[37m\u001b[0m \u001b[1m0s\u001b[0m 2ms/step - accuracy: 0.9008 - loss: 0.2980 - val_accuracy: 0.9051 - val_loss: 0.3024\n",
      "Epoch 15/100\n",
      "\u001b[1m119/119\u001b[0m \u001b[32m━━━━━━━━━━━━━━━━━━━━\u001b[0m\u001b[37m\u001b[0m \u001b[1m0s\u001b[0m 2ms/step - accuracy: 0.8944 - loss: 0.3076 - val_accuracy: 0.9061 - val_loss: 0.3020\n",
      "Epoch 16/100\n",
      "\u001b[1m119/119\u001b[0m \u001b[32m━━━━━━━━━━━━━━━━━━━━\u001b[0m\u001b[37m\u001b[0m \u001b[1m0s\u001b[0m 2ms/step - accuracy: 0.8970 - loss: 0.3099 - val_accuracy: 0.9051 - val_loss: 0.3020\n",
      "Epoch 17/100\n",
      "\u001b[1m119/119\u001b[0m \u001b[32m━━━━━━━━━━━━━━━━━━━━\u001b[0m\u001b[37m\u001b[0m \u001b[1m0s\u001b[0m 2ms/step - accuracy: 0.9083 - loss: 0.2838 - val_accuracy: 0.9040 - val_loss: 0.3018\n",
      "Epoch 18/100\n",
      "\u001b[1m119/119\u001b[0m \u001b[32m━━━━━━━━━━━━━━━━━━━━\u001b[0m\u001b[37m\u001b[0m \u001b[1m0s\u001b[0m 2ms/step - accuracy: 0.9010 - loss: 0.2927 - val_accuracy: 0.9040 - val_loss: 0.3016\n",
      "Epoch 19/100\n",
      "\u001b[1m119/119\u001b[0m \u001b[32m━━━━━━━━━━━━━━━━━━━━\u001b[0m\u001b[37m\u001b[0m \u001b[1m0s\u001b[0m 2ms/step - accuracy: 0.9071 - loss: 0.2905 - val_accuracy: 0.9040 - val_loss: 0.3012\n",
      "Epoch 20/100\n",
      "\u001b[1m119/119\u001b[0m \u001b[32m━━━━━━━━━━━━━━━━━━━━\u001b[0m\u001b[37m\u001b[0m \u001b[1m0s\u001b[0m 2ms/step - accuracy: 0.9027 - loss: 0.2912 - val_accuracy: 0.9051 - val_loss: 0.3010\n",
      "Epoch 21/100\n",
      "\u001b[1m119/119\u001b[0m \u001b[32m━━━━━━━━━━━━━━━━━━━━\u001b[0m\u001b[37m\u001b[0m \u001b[1m0s\u001b[0m 2ms/step - accuracy: 0.8958 - loss: 0.3018 - val_accuracy: 0.9051 - val_loss: 0.3010\n",
      "Epoch 22/100\n",
      "\u001b[1m119/119\u001b[0m \u001b[32m━━━━━━━━━━━━━━━━━━━━\u001b[0m\u001b[37m\u001b[0m \u001b[1m0s\u001b[0m 2ms/step - accuracy: 0.9009 - loss: 0.2897 - val_accuracy: 0.9051 - val_loss: 0.3005\n",
      "Epoch 23/100\n",
      "\u001b[1m119/119\u001b[0m \u001b[32m━━━━━━━━━━━━━━━━━━━━\u001b[0m\u001b[37m\u001b[0m \u001b[1m0s\u001b[0m 2ms/step - accuracy: 0.9038 - loss: 0.2908 - val_accuracy: 0.9040 - val_loss: 0.3015\n",
      "Epoch 24/100\n",
      "\u001b[1m119/119\u001b[0m \u001b[32m━━━━━━━━━━━━━━━━━━━━\u001b[0m\u001b[37m\u001b[0m \u001b[1m0s\u001b[0m 2ms/step - accuracy: 0.9075 - loss: 0.2744 - val_accuracy: 0.9040 - val_loss: 0.3009\n",
      "Epoch 25/100\n",
      "\u001b[1m119/119\u001b[0m \u001b[32m━━━━━━━━━━━━━━━━━━━━\u001b[0m\u001b[37m\u001b[0m \u001b[1m0s\u001b[0m 2ms/step - accuracy: 0.8988 - loss: 0.3044 - val_accuracy: 0.9040 - val_loss: 0.3004\n",
      "Epoch 26/100\n",
      "\u001b[1m119/119\u001b[0m \u001b[32m━━━━━━━━━━━━━━━━━━━━\u001b[0m\u001b[37m\u001b[0m \u001b[1m0s\u001b[0m 2ms/step - accuracy: 0.8994 - loss: 0.3006 - val_accuracy: 0.9051 - val_loss: 0.3000\n",
      "Epoch 27/100\n",
      "\u001b[1m119/119\u001b[0m \u001b[32m━━━━━━━━━━━━━━━━━━━━\u001b[0m\u001b[37m\u001b[0m \u001b[1m0s\u001b[0m 2ms/step - accuracy: 0.9101 - loss: 0.2709 - val_accuracy: 0.9061 - val_loss: 0.3011\n",
      "Epoch 28/100\n",
      "\u001b[1m119/119\u001b[0m \u001b[32m━━━━━━━━━━━━━━━━━━━━\u001b[0m\u001b[37m\u001b[0m \u001b[1m0s\u001b[0m 2ms/step - accuracy: 0.9044 - loss: 0.2857 - val_accuracy: 0.9051 - val_loss: 0.3002\n",
      "Epoch 29/100\n",
      "\u001b[1m119/119\u001b[0m \u001b[32m━━━━━━━━━━━━━━━━━━━━\u001b[0m\u001b[37m\u001b[0m \u001b[1m0s\u001b[0m 2ms/step - accuracy: 0.9017 - loss: 0.2929 - val_accuracy: 0.9051 - val_loss: 0.3002\n",
      "Epoch 30/100\n",
      "\u001b[1m119/119\u001b[0m \u001b[32m━━━━━━━━━━━━━━━━━━━━\u001b[0m\u001b[37m\u001b[0m \u001b[1m0s\u001b[0m 2ms/step - accuracy: 0.8972 - loss: 0.3064 - val_accuracy: 0.9040 - val_loss: 0.2999\n",
      "Epoch 31/100\n",
      "\u001b[1m119/119\u001b[0m \u001b[32m━━━━━━━━━━━━━━━━━━━━\u001b[0m\u001b[37m\u001b[0m \u001b[1m0s\u001b[0m 2ms/step - accuracy: 0.9002 - loss: 0.2936 - val_accuracy: 0.9051 - val_loss: 0.2999\n",
      "Epoch 32/100\n",
      "\u001b[1m119/119\u001b[0m \u001b[32m━━━━━━━━━━━━━━━━━━━━\u001b[0m\u001b[37m\u001b[0m \u001b[1m0s\u001b[0m 2ms/step - accuracy: 0.9095 - loss: 0.2739 - val_accuracy: 0.9061 - val_loss: 0.3004\n",
      "Epoch 33/100\n",
      "\u001b[1m119/119\u001b[0m \u001b[32m━━━━━━━━━━━━━━━━━━━━\u001b[0m\u001b[37m\u001b[0m \u001b[1m0s\u001b[0m 2ms/step - accuracy: 0.9001 - loss: 0.2993 - val_accuracy: 0.9040 - val_loss: 0.2994\n",
      "Epoch 34/100\n",
      "\u001b[1m119/119\u001b[0m \u001b[32m━━━━━━━━━━━━━━━━━━━━\u001b[0m\u001b[37m\u001b[0m \u001b[1m0s\u001b[0m 2ms/step - accuracy: 0.9079 - loss: 0.2762 - val_accuracy: 0.9061 - val_loss: 0.3003\n",
      "Epoch 35/100\n",
      "\u001b[1m119/119\u001b[0m \u001b[32m━━━━━━━━━━━━━━━━━━━━\u001b[0m\u001b[37m\u001b[0m \u001b[1m0s\u001b[0m 2ms/step - accuracy: 0.8969 - loss: 0.3029 - val_accuracy: 0.9061 - val_loss: 0.2996\n",
      "Epoch 36/100\n",
      "\u001b[1m119/119\u001b[0m \u001b[32m━━━━━━━━━━━━━━━━━━━━\u001b[0m\u001b[37m\u001b[0m \u001b[1m0s\u001b[0m 2ms/step - accuracy: 0.9048 - loss: 0.2856 - val_accuracy: 0.9061 - val_loss: 0.2995\n",
      "Epoch 37/100\n",
      "\u001b[1m119/119\u001b[0m \u001b[32m━━━━━━━━━━━━━━━━━━━━\u001b[0m\u001b[37m\u001b[0m \u001b[1m0s\u001b[0m 2ms/step - accuracy: 0.9043 - loss: 0.2847 - val_accuracy: 0.9051 - val_loss: 0.2994\n",
      "Epoch 38/100\n",
      "\u001b[1m119/119\u001b[0m \u001b[32m━━━━━━━━━━━━━━━━━━━━\u001b[0m\u001b[37m\u001b[0m \u001b[1m0s\u001b[0m 2ms/step - accuracy: 0.9089 - loss: 0.2792 - val_accuracy: 0.9051 - val_loss: 0.3000\n",
      "Epoch 39/100\n",
      "\u001b[1m119/119\u001b[0m \u001b[32m━━━━━━━━━━━━━━━━━━━━\u001b[0m\u001b[37m\u001b[0m \u001b[1m0s\u001b[0m 2ms/step - accuracy: 0.9058 - loss: 0.2871 - val_accuracy: 0.9030 - val_loss: 0.2990\n",
      "Epoch 40/100\n",
      "\u001b[1m119/119\u001b[0m \u001b[32m━━━━━━━━━━━━━━━━━━━━\u001b[0m\u001b[37m\u001b[0m \u001b[1m0s\u001b[0m 2ms/step - accuracy: 0.9016 - loss: 0.2948 - val_accuracy: 0.9051 - val_loss: 0.2994\n",
      "Epoch 41/100\n",
      "\u001b[1m119/119\u001b[0m \u001b[32m━━━━━━━━━━━━━━━━━━━━\u001b[0m\u001b[37m\u001b[0m \u001b[1m0s\u001b[0m 3ms/step - accuracy: 0.9093 - loss: 0.2766 - val_accuracy: 0.9051 - val_loss: 0.2994\n",
      "Epoch 42/100\n",
      "\u001b[1m119/119\u001b[0m \u001b[32m━━━━━━━━━━━━━━━━━━━━\u001b[0m\u001b[37m\u001b[0m \u001b[1m0s\u001b[0m 2ms/step - accuracy: 0.9012 - loss: 0.2948 - val_accuracy: 0.9051 - val_loss: 0.2994\n",
      "Epoch 43/100\n",
      "\u001b[1m119/119\u001b[0m \u001b[32m━━━━━━━━━━━━━━━━━━━━\u001b[0m\u001b[37m\u001b[0m \u001b[1m0s\u001b[0m 2ms/step - accuracy: 0.9103 - loss: 0.2732 - val_accuracy: 0.9040 - val_loss: 0.2995\n",
      "Epoch 44/100\n",
      "\u001b[1m119/119\u001b[0m \u001b[32m━━━━━━━━━━━━━━━━━━━━\u001b[0m\u001b[37m\u001b[0m \u001b[1m0s\u001b[0m 2ms/step - accuracy: 0.9093 - loss: 0.2835 - val_accuracy: 0.9040 - val_loss: 0.2998\n",
      "Epoch 45/100\n",
      "\u001b[1m119/119\u001b[0m \u001b[32m━━━━━━━━━━━━━━━━━━━━\u001b[0m\u001b[37m\u001b[0m \u001b[1m0s\u001b[0m 2ms/step - accuracy: 0.9077 - loss: 0.2771 - val_accuracy: 0.9040 - val_loss: 0.3003\n",
      "Epoch 46/100\n",
      "\u001b[1m119/119\u001b[0m \u001b[32m━━━━━━━━━━━━━━━━━━━━\u001b[0m\u001b[37m\u001b[0m \u001b[1m0s\u001b[0m 2ms/step - accuracy: 0.9002 - loss: 0.2933 - val_accuracy: 0.9030 - val_loss: 0.2997\n",
      "Epoch 47/100\n",
      "\u001b[1m119/119\u001b[0m \u001b[32m━━━━━━━━━━━━━━━━━━━━\u001b[0m\u001b[37m\u001b[0m \u001b[1m0s\u001b[0m 2ms/step - accuracy: 0.9031 - loss: 0.2951 - val_accuracy: 0.9040 - val_loss: 0.2999\n",
      "Epoch 48/100\n",
      "\u001b[1m119/119\u001b[0m \u001b[32m━━━━━━━━━━━━━━━━━━━━\u001b[0m\u001b[37m\u001b[0m \u001b[1m0s\u001b[0m 2ms/step - accuracy: 0.8975 - loss: 0.3047 - val_accuracy: 0.9040 - val_loss: 0.2992\n",
      "Epoch 49/100\n",
      "\u001b[1m119/119\u001b[0m \u001b[32m━━━━━━━━━━━━━━━━━━━━\u001b[0m\u001b[37m\u001b[0m \u001b[1m0s\u001b[0m 2ms/step - accuracy: 0.9047 - loss: 0.2951 - val_accuracy: 0.9030 - val_loss: 0.3001\n",
      "Epoch 50/100\n",
      "\u001b[1m119/119\u001b[0m \u001b[32m━━━━━━━━━━━━━━━━━━━━\u001b[0m\u001b[37m\u001b[0m \u001b[1m0s\u001b[0m 2ms/step - accuracy: 0.9028 - loss: 0.2884 - val_accuracy: 0.9030 - val_loss: 0.2997\n",
      "Epoch 51/100\n",
      "\u001b[1m119/119\u001b[0m \u001b[32m━━━━━━━━━━━━━━━━━━━━\u001b[0m\u001b[37m\u001b[0m \u001b[1m0s\u001b[0m 2ms/step - accuracy: 0.8981 - loss: 0.3023 - val_accuracy: 0.9030 - val_loss: 0.3000\n",
      "Epoch 52/100\n",
      "\u001b[1m119/119\u001b[0m \u001b[32m━━━━━━━━━━━━━━━━━━━━\u001b[0m\u001b[37m\u001b[0m \u001b[1m0s\u001b[0m 2ms/step - accuracy: 0.9043 - loss: 0.2803 - val_accuracy: 0.9030 - val_loss: 0.3002\n",
      "Epoch 53/100\n",
      "\u001b[1m119/119\u001b[0m \u001b[32m━━━━━━━━━━━━━━━━━━━━\u001b[0m\u001b[37m\u001b[0m \u001b[1m0s\u001b[0m 2ms/step - accuracy: 0.9004 - loss: 0.2961 - val_accuracy: 0.9040 - val_loss: 0.3001\n",
      "Epoch 54/100\n",
      "\u001b[1m119/119\u001b[0m \u001b[32m━━━━━━━━━━━━━━━━━━━━\u001b[0m\u001b[37m\u001b[0m \u001b[1m0s\u001b[0m 2ms/step - accuracy: 0.9063 - loss: 0.2839 - val_accuracy: 0.9030 - val_loss: 0.3001\n",
      "Epoch 55/100\n",
      "\u001b[1m119/119\u001b[0m \u001b[32m━━━━━━━━━━━━━━━━━━━━\u001b[0m\u001b[37m\u001b[0m \u001b[1m0s\u001b[0m 2ms/step - accuracy: 0.9075 - loss: 0.2825 - val_accuracy: 0.9030 - val_loss: 0.3002\n",
      "Epoch 56/100\n",
      "\u001b[1m119/119\u001b[0m \u001b[32m━━━━━━━━━━━━━━━━━━━━\u001b[0m\u001b[37m\u001b[0m \u001b[1m0s\u001b[0m 3ms/step - accuracy: 0.9079 - loss: 0.2880 - val_accuracy: 0.9008 - val_loss: 0.3003\n",
      "Epoch 57/100\n",
      "\u001b[1m119/119\u001b[0m \u001b[32m━━━━━━━━━━━━━━━━━━━━\u001b[0m\u001b[37m\u001b[0m \u001b[1m0s\u001b[0m 2ms/step - accuracy: 0.9028 - loss: 0.2852 - val_accuracy: 0.9040 - val_loss: 0.2993\n",
      "Epoch 58/100\n",
      "\u001b[1m119/119\u001b[0m \u001b[32m━━━━━━━━━━━━━━━━━━━━\u001b[0m\u001b[37m\u001b[0m \u001b[1m0s\u001b[0m 2ms/step - accuracy: 0.9069 - loss: 0.2816 - val_accuracy: 0.9040 - val_loss: 0.2996\n",
      "Epoch 59/100\n",
      "\u001b[1m119/119\u001b[0m \u001b[32m━━━━━━━━━━━━━━━━━━━━\u001b[0m\u001b[37m\u001b[0m \u001b[1m0s\u001b[0m 2ms/step - accuracy: 0.9100 - loss: 0.2793 - val_accuracy: 0.9030 - val_loss: 0.2998\n",
      "Epoch 60/100\n",
      "\u001b[1m119/119\u001b[0m \u001b[32m━━━━━━━━━━━━━━━━━━━━\u001b[0m\u001b[37m\u001b[0m \u001b[1m0s\u001b[0m 2ms/step - accuracy: 0.9061 - loss: 0.2783 - val_accuracy: 0.9008 - val_loss: 0.3004\n",
      "Epoch 61/100\n",
      "\u001b[1m119/119\u001b[0m \u001b[32m━━━━━━━━━━━━━━━━━━━━\u001b[0m\u001b[37m\u001b[0m \u001b[1m0s\u001b[0m 2ms/step - accuracy: 0.9035 - loss: 0.2842 - val_accuracy: 0.9019 - val_loss: 0.2997\n",
      "Epoch 62/100\n",
      "\u001b[1m119/119\u001b[0m \u001b[32m━━━━━━━━━━━━━━━━━━━━\u001b[0m\u001b[37m\u001b[0m \u001b[1m0s\u001b[0m 3ms/step - accuracy: 0.9115 - loss: 0.2648 - val_accuracy: 0.9019 - val_loss: 0.3003\n",
      "Epoch 63/100\n",
      "\u001b[1m119/119\u001b[0m \u001b[32m━━━━━━━━━━━━━━━━━━━━\u001b[0m\u001b[37m\u001b[0m \u001b[1m0s\u001b[0m 2ms/step - accuracy: 0.9043 - loss: 0.2890 - val_accuracy: 0.9008 - val_loss: 0.3002\n",
      "Epoch 64/100\n",
      "\u001b[1m119/119\u001b[0m \u001b[32m━━━━━━━━━━━━━━━━━━━━\u001b[0m\u001b[37m\u001b[0m \u001b[1m0s\u001b[0m 2ms/step - accuracy: 0.9011 - loss: 0.2885 - val_accuracy: 0.9019 - val_loss: 0.3004\n",
      "Epoch 65/100\n",
      "\u001b[1m119/119\u001b[0m \u001b[32m━━━━━━━━━━━━━━━━━━━━\u001b[0m\u001b[37m\u001b[0m \u001b[1m0s\u001b[0m 2ms/step - accuracy: 0.9026 - loss: 0.2903 - val_accuracy: 0.9008 - val_loss: 0.3001\n",
      "Epoch 66/100\n",
      "\u001b[1m119/119\u001b[0m \u001b[32m━━━━━━━━━━━━━━━━━━━━\u001b[0m\u001b[37m\u001b[0m \u001b[1m0s\u001b[0m 2ms/step - accuracy: 0.9011 - loss: 0.2882 - val_accuracy: 0.9008 - val_loss: 0.2998\n",
      "Epoch 67/100\n",
      "\u001b[1m119/119\u001b[0m \u001b[32m━━━━━━━━━━━━━━━━━━━━\u001b[0m\u001b[37m\u001b[0m \u001b[1m0s\u001b[0m 2ms/step - accuracy: 0.9116 - loss: 0.2677 - val_accuracy: 0.8987 - val_loss: 0.3008\n",
      "Epoch 68/100\n",
      "\u001b[1m119/119\u001b[0m \u001b[32m━━━━━━━━━━━━━━━━━━━━\u001b[0m\u001b[37m\u001b[0m \u001b[1m0s\u001b[0m 2ms/step - accuracy: 0.9071 - loss: 0.2832 - val_accuracy: 0.9019 - val_loss: 0.3001\n",
      "Epoch 69/100\n",
      "\u001b[1m119/119\u001b[0m \u001b[32m━━━━━━━━━━━━━━━━━━━━\u001b[0m\u001b[37m\u001b[0m \u001b[1m0s\u001b[0m 2ms/step - accuracy: 0.9075 - loss: 0.2769 - val_accuracy: 0.8998 - val_loss: 0.2997\n",
      "Epoch 70/100\n",
      "\u001b[1m119/119\u001b[0m \u001b[32m━━━━━━━━━━━━━━━━━━━━\u001b[0m\u001b[37m\u001b[0m \u001b[1m0s\u001b[0m 2ms/step - accuracy: 0.9039 - loss: 0.2837 - val_accuracy: 0.9008 - val_loss: 0.2998\n",
      "Epoch 71/100\n",
      "\u001b[1m119/119\u001b[0m \u001b[32m━━━━━━━━━━━━━━━━━━━━\u001b[0m\u001b[37m\u001b[0m \u001b[1m0s\u001b[0m 2ms/step - accuracy: 0.9031 - loss: 0.2935 - val_accuracy: 0.8998 - val_loss: 0.3007\n",
      "Epoch 72/100\n",
      "\u001b[1m119/119\u001b[0m \u001b[32m━━━━━━━━━━━━━━━━━━━━\u001b[0m\u001b[37m\u001b[0m \u001b[1m0s\u001b[0m 2ms/step - accuracy: 0.8989 - loss: 0.2942 - val_accuracy: 0.8998 - val_loss: 0.2996\n",
      "Epoch 73/100\n",
      "\u001b[1m119/119\u001b[0m \u001b[32m━━━━━━━━━━━━━━━━━━━━\u001b[0m\u001b[37m\u001b[0m \u001b[1m0s\u001b[0m 2ms/step - accuracy: 0.9076 - loss: 0.2829 - val_accuracy: 0.8987 - val_loss: 0.3003\n",
      "Epoch 74/100\n",
      "\u001b[1m119/119\u001b[0m \u001b[32m━━━━━━━━━━━━━━━━━━━━\u001b[0m\u001b[37m\u001b[0m \u001b[1m0s\u001b[0m 2ms/step - accuracy: 0.9082 - loss: 0.2812 - val_accuracy: 0.8987 - val_loss: 0.2995\n",
      "Epoch 75/100\n",
      "\u001b[1m119/119\u001b[0m \u001b[32m━━━━━━━━━━━━━━━━━━━━\u001b[0m\u001b[37m\u001b[0m \u001b[1m0s\u001b[0m 2ms/step - accuracy: 0.9074 - loss: 0.2743 - val_accuracy: 0.8987 - val_loss: 0.3006\n",
      "Epoch 76/100\n",
      "\u001b[1m119/119\u001b[0m \u001b[32m━━━━━━━━━━━━━━━━━━━━\u001b[0m\u001b[37m\u001b[0m \u001b[1m0s\u001b[0m 2ms/step - accuracy: 0.9108 - loss: 0.2692 - val_accuracy: 0.8987 - val_loss: 0.3005\n",
      "Epoch 77/100\n",
      "\u001b[1m119/119\u001b[0m \u001b[32m━━━━━━━━━━━━━━━━━━━━\u001b[0m\u001b[37m\u001b[0m \u001b[1m0s\u001b[0m 2ms/step - accuracy: 0.9108 - loss: 0.2734 - val_accuracy: 0.8987 - val_loss: 0.3009\n",
      "Epoch 78/100\n",
      "\u001b[1m119/119\u001b[0m \u001b[32m━━━━━━━━━━━━━━━━━━━━\u001b[0m\u001b[37m\u001b[0m \u001b[1m0s\u001b[0m 2ms/step - accuracy: 0.9129 - loss: 0.2566 - val_accuracy: 0.8987 - val_loss: 0.3008\n",
      "Epoch 79/100\n",
      "\u001b[1m119/119\u001b[0m \u001b[32m━━━━━━━━━━━━━━━━━━━━\u001b[0m\u001b[37m\u001b[0m \u001b[1m0s\u001b[0m 2ms/step - accuracy: 0.9066 - loss: 0.2796 - val_accuracy: 0.8987 - val_loss: 0.3000\n",
      "Epoch 80/100\n",
      "\u001b[1m119/119\u001b[0m \u001b[32m━━━━━━━━━━━━━━━━━━━━\u001b[0m\u001b[37m\u001b[0m \u001b[1m0s\u001b[0m 2ms/step - accuracy: 0.9085 - loss: 0.2700 - val_accuracy: 0.8987 - val_loss: 0.3006\n",
      "Epoch 81/100\n",
      "\u001b[1m119/119\u001b[0m \u001b[32m━━━━━━━━━━━━━━━━━━━━\u001b[0m\u001b[37m\u001b[0m \u001b[1m0s\u001b[0m 2ms/step - accuracy: 0.9125 - loss: 0.2660 - val_accuracy: 0.8987 - val_loss: 0.3004\n",
      "Epoch 82/100\n",
      "\u001b[1m119/119\u001b[0m \u001b[32m━━━━━━━━━━━━━━━━━━━━\u001b[0m\u001b[37m\u001b[0m \u001b[1m0s\u001b[0m 2ms/step - accuracy: 0.9082 - loss: 0.2714 - val_accuracy: 0.8998 - val_loss: 0.3009\n",
      "Epoch 83/100\n",
      "\u001b[1m119/119\u001b[0m \u001b[32m━━━━━━━━━━━━━━━━━━━━\u001b[0m\u001b[37m\u001b[0m \u001b[1m0s\u001b[0m 3ms/step - accuracy: 0.9010 - loss: 0.2901 - val_accuracy: 0.8987 - val_loss: 0.2998\n",
      "Epoch 84/100\n",
      "\u001b[1m119/119\u001b[0m \u001b[32m━━━━━━━━━━━━━━━━━━━━\u001b[0m\u001b[37m\u001b[0m \u001b[1m0s\u001b[0m 2ms/step - accuracy: 0.9020 - loss: 0.2816 - val_accuracy: 0.9008 - val_loss: 0.3005\n",
      "Epoch 85/100\n",
      "\u001b[1m119/119\u001b[0m \u001b[32m━━━━━━━━━━━━━━━━━━━━\u001b[0m\u001b[37m\u001b[0m \u001b[1m0s\u001b[0m 2ms/step - accuracy: 0.9078 - loss: 0.2735 - val_accuracy: 0.8987 - val_loss: 0.2999\n",
      "Epoch 86/100\n",
      "\u001b[1m119/119\u001b[0m \u001b[32m━━━━━━━━━━━━━━━━━━━━\u001b[0m\u001b[37m\u001b[0m \u001b[1m0s\u001b[0m 2ms/step - accuracy: 0.9047 - loss: 0.2851 - val_accuracy: 0.9008 - val_loss: 0.3001\n",
      "Epoch 87/100\n",
      "\u001b[1m119/119\u001b[0m \u001b[32m━━━━━━━━━━━━━━━━━━━━\u001b[0m\u001b[37m\u001b[0m \u001b[1m0s\u001b[0m 3ms/step - accuracy: 0.9020 - loss: 0.2863 - val_accuracy: 0.8998 - val_loss: 0.2999\n",
      "Epoch 88/100\n",
      "\u001b[1m119/119\u001b[0m \u001b[32m━━━━━━━━━━━━━━━━━━━━\u001b[0m\u001b[37m\u001b[0m \u001b[1m0s\u001b[0m 2ms/step - accuracy: 0.8963 - loss: 0.2925 - val_accuracy: 0.8998 - val_loss: 0.2999\n",
      "Epoch 89/100\n",
      "\u001b[1m119/119\u001b[0m \u001b[32m━━━━━━━━━━━━━━━━━━━━\u001b[0m\u001b[37m\u001b[0m \u001b[1m0s\u001b[0m 2ms/step - accuracy: 0.9050 - loss: 0.2850 - val_accuracy: 0.9008 - val_loss: 0.3008\n",
      "Epoch 90/100\n",
      "\u001b[1m119/119\u001b[0m \u001b[32m━━━━━━━━━━━━━━━━━━━━\u001b[0m\u001b[37m\u001b[0m \u001b[1m0s\u001b[0m 2ms/step - accuracy: 0.9119 - loss: 0.2614 - val_accuracy: 0.8998 - val_loss: 0.3005\n",
      "Epoch 91/100\n",
      "\u001b[1m119/119\u001b[0m \u001b[32m━━━━━━━━━━━━━━━━━━━━\u001b[0m\u001b[37m\u001b[0m \u001b[1m0s\u001b[0m 2ms/step - accuracy: 0.9104 - loss: 0.2736 - val_accuracy: 0.8998 - val_loss: 0.3007\n",
      "Epoch 92/100\n",
      "\u001b[1m119/119\u001b[0m \u001b[32m━━━━━━━━━━━━━━━━━━━━\u001b[0m\u001b[37m\u001b[0m \u001b[1m0s\u001b[0m 2ms/step - accuracy: 0.9073 - loss: 0.2757 - val_accuracy: 0.8998 - val_loss: 0.3005\n",
      "Epoch 93/100\n",
      "\u001b[1m119/119\u001b[0m \u001b[32m━━━━━━━━━━━━━━━━━━━━\u001b[0m\u001b[37m\u001b[0m \u001b[1m0s\u001b[0m 2ms/step - accuracy: 0.9104 - loss: 0.2644 - val_accuracy: 0.8987 - val_loss: 0.3015\n",
      "Epoch 94/100\n",
      "\u001b[1m119/119\u001b[0m \u001b[32m━━━━━━━━━━━━━━━━━━━━\u001b[0m\u001b[37m\u001b[0m \u001b[1m0s\u001b[0m 2ms/step - accuracy: 0.9114 - loss: 0.2681 - val_accuracy: 0.9008 - val_loss: 0.3005\n",
      "Epoch 95/100\n",
      "\u001b[1m119/119\u001b[0m \u001b[32m━━━━━━━━━━━━━━━━━━━━\u001b[0m\u001b[37m\u001b[0m \u001b[1m0s\u001b[0m 2ms/step - accuracy: 0.9024 - loss: 0.2901 - val_accuracy: 0.8987 - val_loss: 0.3001\n",
      "Epoch 96/100\n",
      "\u001b[1m119/119\u001b[0m \u001b[32m━━━━━━━━━━━━━━━━━━━━\u001b[0m\u001b[37m\u001b[0m \u001b[1m0s\u001b[0m 3ms/step - accuracy: 0.9008 - loss: 0.2872 - val_accuracy: 0.9008 - val_loss: 0.3015\n",
      "Epoch 97/100\n",
      "\u001b[1m119/119\u001b[0m \u001b[32m━━━━━━━━━━━━━━━━━━━━\u001b[0m\u001b[37m\u001b[0m \u001b[1m0s\u001b[0m 2ms/step - accuracy: 0.9087 - loss: 0.2728 - val_accuracy: 0.8998 - val_loss: 0.3011\n",
      "Epoch 98/100\n",
      "\u001b[1m119/119\u001b[0m \u001b[32m━━━━━━━━━━━━━━━━━━━━\u001b[0m\u001b[37m\u001b[0m \u001b[1m0s\u001b[0m 2ms/step - accuracy: 0.9079 - loss: 0.2778 - val_accuracy: 0.8998 - val_loss: 0.3011\n",
      "Epoch 99/100\n",
      "\u001b[1m119/119\u001b[0m \u001b[32m━━━━━━━━━━━━━━━━━━━━\u001b[0m\u001b[37m\u001b[0m \u001b[1m0s\u001b[0m 2ms/step - accuracy: 0.9046 - loss: 0.2844 - val_accuracy: 0.8998 - val_loss: 0.3006\n",
      "Epoch 100/100\n",
      "\u001b[1m119/119\u001b[0m \u001b[32m━━━━━━━━━━━━━━━━━━━━\u001b[0m\u001b[37m\u001b[0m \u001b[1m0s\u001b[0m 3ms/step - accuracy: 0.9123 - loss: 0.2584 - val_accuracy: 0.8977 - val_loss: 0.3014\n"
     ]
    }
   ],
   "source": [
    "history = clf_model.fit(X_train, y_train, batch_size=32, epochs=100, validation_data=(X_val,y_val))"
   ]
  },
  {
   "cell_type": "code",
   "execution_count": 248,
   "id": "99ed6bf0-d180-4b2a-bd18-23ef29b610ac",
   "metadata": {},
   "outputs": [],
   "source": [
    "def visualize_performance(flag):\n",
    "    history_dict = history.history\n",
    "    epochs = range(1, len(history_dict[\"loss\"]) + 1)\n",
    "\n",
    "    plt.plot(epochs, history_dict[flag], \"bo\", label=\"Training \"+flag)\n",
    "    plt.plot(epochs, history_dict[\"val_\"+flag], \"b\", label=\"Validation \"+flag)\n",
    "    plt.title(\"Training and validation \"+flag)\n",
    "    plt.xlabel(\"Epochs\")\n",
    "    plt.ylabel(\"Loss\")\n",
    "    plt.legend()\n",
    "    plt.show()"
   ]
  },
  {
   "cell_type": "code",
   "execution_count": 249,
   "id": "08eab716-3bec-4b77-af68-f2e6651417d9",
   "metadata": {},
   "outputs": [
    {
     "data": {
      "image/png": "[encoded data removed]",
      "text/plain": [
       "<Figure size 640x480 with 1 Axes>"
      ]
     },
     "metadata": {},
     "output_type": "display_data"
    }
   ],
   "source": [
    "visualize_performance(flag = \"loss\")"
   ]
  },
  {
   "cell_type": "code",
   "execution_count": 250,
   "id": "e6922ef6-1741-41b2-a954-36ec13b7d6a2",
   "metadata": {},
   "outputs": [
    {
     "data": {
      "image/png": "[encoded data removed]",
      "text/plain": [
       "<Figure size 640x480 with 1 Axes>"
      ]
     },
     "metadata": {},
     "output_type": "display_data"
    }
   ],
   "source": [
    "visualize_performance(flag = \"accuracy\")"
   ]
  },
  {
   "cell_type": "code",
   "execution_count": 251,
   "id": "36f711b2-2b6d-4269-89e5-eefd63d7d033",
   "metadata": {},
   "outputs": [
    {
     "name": "stdout",
     "output_type": "stream",
     "text": [
      "\u001b[1m37/37\u001b[0m \u001b[32m━━━━━━━━━━━━━━━━━━━━\u001b[0m\u001b[37m\u001b[0m \u001b[1m0s\u001b[0m 1ms/step - accuracy: 0.9000 - loss: 0.3052 \n",
      "test_acc: 0.895\n"
     ]
    }
   ],
   "source": [
    "# evaluate model performance regarding accuracy\n",
    "test_loss, test_acc = clf_model.evaluate(X_test, y_test)\n",
    "print(f\"test_acc: {np.round(test_acc,3)}\")"
   ]
  },
  {
   "cell_type": "code",
   "execution_count": 252,
   "id": "0c691b8d-948d-435b-93b2-81a4809bbdd3",
   "metadata": {},
   "outputs": [
    {
     "name": "stdout",
     "output_type": "stream",
     "text": [
      "\u001b[1m37/37\u001b[0m \u001b[32m━━━━━━━━━━━━━━━━━━━━\u001b[0m\u001b[37m\u001b[0m \u001b[1m0s\u001b[0m 941us/step\n",
      "              precision    recall  f1-score   support\n",
      "\n",
      "           0       0.44      0.12      0.19       120\n",
      "           1       0.91      0.98      0.94      1064\n",
      "\n",
      "    accuracy                           0.90      1184\n",
      "   macro avg       0.67      0.55      0.57      1184\n",
      "weighted avg       0.86      0.90      0.87      1184\n",
      "\n"
     ]
    }
   ],
   "source": [
    "# inference\n",
    "y_pred_prob = clf_model.predict(X_test)\n",
    "y_pred_labels = (y_pred_prob > 0.5).astype(int)\n",
    "print(classification_report(y_test, y_pred_labels))\n"
   ]
  },
  {
   "cell_type": "code",
   "execution_count": 253,
   "id": "457b93cb-618f-4e70-987b-9d92b5c61047",
   "metadata": {},
   "outputs": [
    {
     "name": "stdout",
     "output_type": "stream",
     "text": [
      "Confusion Matrix:\n",
      "[[  15  105]\n",
      " [  19 1045]]\n"
     ]
    }
   ],
   "source": [
    "conf_mat = confusion_matrix(y_test, y_pred_labels)\n",
    "print(\"Confusion Matrix:\")\n",
    "print(conf_mat)"
   ]
  },
  {
   "cell_type": "code",
   "execution_count": 254,
   "id": "63974b70-6de0-485a-ab50-0a9a0c7a34ec",
   "metadata": {},
   "outputs": [
    {
     "data": {
      "text/plain": [
       "0.5535714285714286"
      ]
     },
     "execution_count": 254,
     "metadata": {},
     "output_type": "execute_result"
    }
   ],
   "source": [
    "roc_auc = roc_auc_score(y_test, y_pred_labels)\n",
    "roc_auc"
   ]
  },
  {
   "cell_type": "markdown",
   "id": "84b6ab16-e84b-4045-bd06-208941cc991b",
   "metadata": {},
   "source": [
    "### Evaluation:\n",
    "\n",
    "#### Interpretation of Training and Validation Loss Graph\n",
    "At the beginning, both training and validation losses decrease sharply. This indicates that the model is quickly learning from the training data. The rapid improvement suggests that the initial weights were quite far from the optimal, and early adjustments during training significantly improve the model's performance. After the initial sharp decrease, both the training and validation losses begin to stabilize. This stabilization suggests that the model is reaching a point where further learning on the training set does not significantly decrease the error on the validation set. The closeness of the training and validation loss throughout the training process suggests good generalization. There isn't a significant gap between the two, which often indicates that the model is not overfitting.\n",
    "\n",
    "####  Training and Validation Accuracy Interpretation\n",
    "Initially, there is a sharp increase in both training and validation accuracy. The training accuracy quickly reaches a high level and remains stable for the remainder of the training process.  The relatively small gap between training and validation accuracy through most of the epochs indicates good model generalization. The relatively small gap between training and validation accuracy through most of the epochs indicates good model generalization. There is no significant divergence that might suggest overfitting.\n",
    "\n",
    "The accuracies stabilize after around 20 epochs, with little to no improvement in validation accuracy. This suggests that subsequent training does little to enhance the model’s ability to perform on unseen data, which might be an indicator to employ early stopping in future training sessions to save computational resources and prevent potential overfitting.\n",
    "\n",
    "#### F1, Recall, ROC AUC\n",
    "The updated evaluation metrics indicate an improvement in model performance to correctly classify the (class 0). The model shows only a modest improvement in F1 and a slight increase in recall, achieving a F1 of 0.19 and a recall of 0.12. The ROC AUC score of 0.55 shows only a slight improvement from random guessing."
   ]
  },
  {
   "cell_type": "code",
   "execution_count": 255,
   "id": "24ebf56b-c772-49aa-8dfa-9e1a57a1538e",
   "metadata": {},
   "outputs": [
    {
     "name": "stdout",
     "output_type": "stream",
     "text": [
      "\u001b[1m30/30\u001b[0m \u001b[32m━━━━━━━━━━━━━━━━━━━━\u001b[0m\u001b[37m\u001b[0m \u001b[1m0s\u001b[0m 2ms/step\n",
      "\u001b[1m30/30\u001b[0m \u001b[32m━━━━━━━━━━━━━━━━━━━━\u001b[0m\u001b[37m\u001b[0m \u001b[1m0s\u001b[0m 1ms/step \n",
      "\u001b[1m30/30\u001b[0m \u001b[32m━━━━━━━━━━━━━━━━━━━━\u001b[0m\u001b[37m\u001b[0m \u001b[1m0s\u001b[0m 1ms/step \n",
      "\u001b[1m30/30\u001b[0m \u001b[32m━━━━━━━━━━━━━━━━━━━━\u001b[0m\u001b[37m\u001b[0m \u001b[1m0s\u001b[0m 929us/step\n",
      "\u001b[1m30/30\u001b[0m \u001b[32m━━━━━━━━━━━━━━━━━━━━\u001b[0m\u001b[37m\u001b[0m \u001b[1m0s\u001b[0m 927us/step\n",
      "\u001b[1m30/30\u001b[0m \u001b[32m━━━━━━━━━━━━━━━━━━━━\u001b[0m\u001b[37m\u001b[0m \u001b[1m0s\u001b[0m 997us/step\n",
      "\u001b[1m30/30\u001b[0m \u001b[32m━━━━━━━━━━━━━━━━━━━━\u001b[0m\u001b[37m\u001b[0m \u001b[1m0s\u001b[0m 962us/step\n",
      "\u001b[1m30/30\u001b[0m \u001b[32m━━━━━━━━━━━━━━━━━━━━\u001b[0m\u001b[37m\u001b[0m \u001b[1m0s\u001b[0m 928us/step\n",
      "\u001b[1m30/30\u001b[0m \u001b[32m━━━━━━━━━━━━━━━━━━━━\u001b[0m\u001b[37m\u001b[0m \u001b[1m0s\u001b[0m 927us/step\n",
      "\u001b[1m30/30\u001b[0m \u001b[32m━━━━━━━━━━━━━━━━━━━━\u001b[0m\u001b[37m\u001b[0m \u001b[1m0s\u001b[0m 963us/step\n",
      "\u001b[1m30/30\u001b[0m \u001b[32m━━━━━━━━━━━━━━━━━━━━\u001b[0m\u001b[37m\u001b[0m \u001b[1m0s\u001b[0m 1ms/step \n",
      "\u001b[1m30/30\u001b[0m \u001b[32m━━━━━━━━━━━━━━━━━━━━\u001b[0m\u001b[37m\u001b[0m \u001b[1m0s\u001b[0m 1ms/step \n",
      "\u001b[1m30/30\u001b[0m \u001b[32m━━━━━━━━━━━━━━━━━━━━\u001b[0m\u001b[37m\u001b[0m \u001b[1m0s\u001b[0m 1ms/step \n",
      "\u001b[1m30/30\u001b[0m \u001b[32m━━━━━━━━━━━━━━━━━━━━\u001b[0m\u001b[37m\u001b[0m \u001b[1m0s\u001b[0m 929us/step\n",
      "\u001b[1m30/30\u001b[0m \u001b[32m━━━━━━━━━━━━━━━━━━━━\u001b[0m\u001b[37m\u001b[0m \u001b[1m0s\u001b[0m 963us/step\n",
      "\u001b[1m30/30\u001b[0m \u001b[32m━━━━━━━━━━━━━━━━━━━━\u001b[0m\u001b[37m\u001b[0m \u001b[1m0s\u001b[0m 927us/step\n",
      "\u001b[1m30/30\u001b[0m \u001b[32m━━━━━━━━━━━━━━━━━━━━\u001b[0m\u001b[37m\u001b[0m \u001b[1m0s\u001b[0m 929us/step\n",
      "\u001b[1m30/30\u001b[0m \u001b[32m━━━━━━━━━━━━━━━━━━━━\u001b[0m\u001b[37m\u001b[0m \u001b[1m0s\u001b[0m 894us/step\n",
      "\u001b[1m30/30\u001b[0m \u001b[32m━━━━━━━━━━━━━━━━━━━━\u001b[0m\u001b[37m\u001b[0m \u001b[1m0s\u001b[0m 927us/step\n",
      "\u001b[1m30/30\u001b[0m \u001b[32m━━━━━━━━━━━━━━━━━━━━\u001b[0m\u001b[37m\u001b[0m \u001b[1m0s\u001b[0m 999us/step\n",
      "\u001b[1m30/30\u001b[0m \u001b[32m━━━━━━━━━━━━━━━━━━━━\u001b[0m\u001b[37m\u001b[0m \u001b[1m0s\u001b[0m 1ms/step \n",
      "\u001b[1m30/30\u001b[0m \u001b[32m━━━━━━━━━━━━━━━━━━━━\u001b[0m\u001b[37m\u001b[0m \u001b[1m0s\u001b[0m 894us/step\n",
      "\u001b[1m30/30\u001b[0m \u001b[32m━━━━━━━━━━━━━━━━━━━━\u001b[0m\u001b[37m\u001b[0m \u001b[1m0s\u001b[0m 2ms/step \n",
      "\u001b[1m30/30\u001b[0m \u001b[32m━━━━━━━━━━━━━━━━━━━━\u001b[0m\u001b[37m\u001b[0m \u001b[1m0s\u001b[0m 893us/step\n",
      "\u001b[1m30/30\u001b[0m \u001b[32m━━━━━━━━━━━━━━━━━━━━\u001b[0m\u001b[37m\u001b[0m \u001b[1m0s\u001b[0m 929us/step\n",
      "\u001b[1m30/30\u001b[0m \u001b[32m━━━━━━━━━━━━━━━━━━━━\u001b[0m\u001b[37m\u001b[0m \u001b[1m0s\u001b[0m 996us/step\n",
      "\u001b[1m30/30\u001b[0m \u001b[32m━━━━━━━━━━━━━━━━━━━━\u001b[0m\u001b[37m\u001b[0m \u001b[1m0s\u001b[0m 996us/step\n",
      "\u001b[1m30/30\u001b[0m \u001b[32m━━━━━━━━━━━━━━━━━━━━\u001b[0m\u001b[37m\u001b[0m \u001b[1m0s\u001b[0m 962us/step\n",
      "\u001b[1m30/30\u001b[0m \u001b[32m━━━━━━━━━━━━━━━━━━━━\u001b[0m\u001b[37m\u001b[0m \u001b[1m0s\u001b[0m 962us/step\n",
      "\u001b[1m30/30\u001b[0m \u001b[32m━━━━━━━━━━━━━━━━━━━━\u001b[0m\u001b[37m\u001b[0m \u001b[1m0s\u001b[0m 999us/step\n",
      "\u001b[1m30/30\u001b[0m \u001b[32m━━━━━━━━━━━━━━━━━━━━\u001b[0m\u001b[37m\u001b[0m \u001b[1m0s\u001b[0m 929us/step\n"
     ]
    }
   ],
   "source": [
    "\n",
    "\n",
    "# Function to calculate permutation feature importance for a DataFrame\n",
    "def permutation_importance(model, X_val, y_val, metric=accuracy_score):\n",
    "    baseline_score = metric(y_val, model.predict(X_val) > 0.5)\n",
    "    importances = []\n",
    "    \n",
    "    # Convert DataFrame to numpy array for processing if not already\n",
    "    X_val_np = X_val.to_numpy() if isinstance(X_val, pd.DataFrame) else X_val\n",
    "    \n",
    "    for i in range(X_val_np.shape[1]):\n",
    "        save = X_val_np[:, i].copy()\n",
    "        np.random.shuffle(X_val_np[:, i])\n",
    "        shuffled_score = metric(y_val, model.predict(X_val_np) > 0.5)\n",
    "        X_val_np[:, i] = save\n",
    "        importances.append(baseline_score - shuffled_score)\n",
    "    \n",
    "    return np.array(importances)\n",
    "\n",
    "# Calculate importances\n",
    "feature_importances = permutation_importance(clf_model, X_val, y_val)\n",
    "top_ten_features = np.argsort(feature_importances)[::-1][:10]\n"
   ]
  },
  {
   "cell_type": "code",
   "execution_count": 256,
   "id": "d1737871-ad29-4051-873b-53365b236a35",
   "metadata": {},
   "outputs": [
    {
     "name": "stdout",
     "output_type": "stream",
     "text": [
      "Top 10 Features by Importance:\n",
      "Index(['crisi', 'pandem', 'invest', 'recoveri', 'need', 'disput', 'challeng',\n",
      "       'sustain', 'strengthen', 'import'],\n",
      "      dtype='object')\n"
     ]
    }
   ],
   "source": [
    "\n",
    "feature_names = X.columns[top_ten_features]\n",
    "print(\"Top 10 Features by Importance:\")\n",
    "print(feature_names)\n"
   ]
  },
  {
   "cell_type": "markdown",
   "id": "b8c845b3-8ddf-465f-9e9d-685a672bd4c8",
   "metadata": {},
   "source": [
    "The top ten features by importance in the model encompass a mix of economic, political, and social indicators that reflect key drivers of outcomes in various contexts. Features like \"strengthen,\" \"invest,\" and \"import\" highlight a focus on growth and trade activity, while terms like \"pandemic\" and \"crisis\" underscore the model’s sensitivity to emergency or exceptional conditions. \"challeng\" and \"need\" suggest attention to policy changes and potential hazards. The presence of \"recoveri\" indicates economic health recovery. Overall, these features illustrate the model's capability to incorporate critical and timely data, informing decisions across multiple domains effectively.\n",
    "\r\n",
    "\r\n",
    "\r\n"
   ]
  },
  {
   "cell_type": "code",
   "execution_count": null,
   "id": "b0a4303c-b28f-402c-9df0-0cd314c79c47",
   "metadata": {},
   "outputs": [],
   "source": []
  }
 ],
 "metadata": {
  "kernelspec": {
   "display_name": "Python 3 (ipykernel)",
   "language": "python",
   "name": "python3"
  },
  "language_info": {
   "codemirror_mode": {
    "name": "ipython",
    "version": 3
   },
   "file_extension": ".py",
   "mimetype": "text/x-python",
   "name": "python",
   "nbconvert_exporter": "python",
   "pygments_lexer": "ipython3",
   "version": "3.11.7"
  },
  "toc": {
   "base_numbering": 1,
   "nav_menu": {},
   "number_sections": true,
   "sideBar": true,
   "skip_h1_title": false,
   "title_cell": "Table of Contents",
   "title_sidebar": "Contents",
   "toc_cell": false,
   "toc_position": {},
   "toc_section_display": true,
   "toc_window_display": true
  }
 },
 "nbformat": 4,
 "nbformat_minor": 5
}
