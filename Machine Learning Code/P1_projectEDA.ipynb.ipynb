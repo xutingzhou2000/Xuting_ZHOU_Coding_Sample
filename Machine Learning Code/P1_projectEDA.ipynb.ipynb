{
 "cells": [
  {
   "cell_type": "markdown",
   "id": "c778035d-3ad7-4462-a0b1-4ba7633693c6",
   "metadata": {},
   "source": [
    "### Exploratory data analysis (10pts)\n",
    "\n",
    "There are 5 parts in this notebook. \n",
    "For each analysis, we provide some examples for you to follow. Your task is to conduct your own analysis following the logics provided in the examples, maked as \"Your task\".\n",
    "- **Part-0: Data Import and Merging**\n",
    "    > Merge Economic Indicator (World GDP) with the web-scraped text data\n",
    "    \n",
    "- **Part-1: Data cleaning**\n",
    "    > organize attributes into appripriate data types (e.g., numerical, categorical, datatime, text) <br>\n",
    "    > missing value and outlier detection <br>\n",
    "    \n",
    "- **Part-2: Data overview**\n",
    "    > check the #samples, #attributes <br>\n",
    "    > attribute types <br>\n",
    "    \n",
    "- **Part-3: Data transformation**\n",
    "    > normalize numerical data (gdp)<br>\n",
    "    > transform text data: tokenization, stemming, and lemmatization <br>\n",
    "    \n",
    "- **Part-4: Feature engineering**\n",
    "    > encode categorical data <br>\n",
    "    > convert DataTime data <br>\n",
    "    > text feature representation <br>\n",
    "\n",
    "- **Part-5: Additional analysis**\n",
    "    > create new features <br>\n",
    "    > colinearty check <br>"
   ]
  },
  {
   "cell_type": "code",
   "execution_count": 1,
   "id": "12c9b849-1e4f-4504-a209-3d9bbbf606a5",
   "metadata": {},
   "outputs": [],
   "source": [
    "import csv\n",
    "import pandas as pd\n",
    "import spacy\n",
    "import re\n",
    "import geograpy\n",
    "import nltk\n",
    "import numpy as np\n",
    "import matplotlib.pyplot as plt\n",
    "import seaborn as sns\n",
    "import pyarrow\n",
    "from dateutil import parser\n",
    "import sklearn\n",
    "from sklearn.preprocessing import MinMaxScaler\n",
    "from sklearn.preprocessing import StandardScaler"
   ]
  },
  {
   "cell_type": "markdown",
   "id": "9155810b-d658-42c4-830b-74c2a336847e",
   "metadata": {},
   "source": [
    "### Part-0: Data Import and Merging"
   ]
  },
  {
   "cell_type": "code",
   "execution_count": 2,
   "id": "257b1424-fef0-42a8-bab2-781a3186776a",
   "metadata": {},
   "outputs": [
    {
     "data": {
      "text/html": [
       "<div>\n",
       "<style scoped>\n",
       "    .dataframe tbody tr th:only-of-type {\n",
       "        vertical-align: middle;\n",
       "    }\n",
       "\n",
       "    .dataframe tbody tr th {\n",
       "        vertical-align: top;\n",
       "    }\n",
       "\n",
       "    .dataframe thead th {\n",
       "        text-align: right;\n",
       "    }\n",
       "</style>\n",
       "<table border=\"1\" class=\"dataframe\">\n",
       "  <thead>\n",
       "    <tr style=\"text-align: right;\">\n",
       "      <th></th>\n",
       "      <th>Year</th>\n",
       "      <th>gdp</th>\n",
       "    </tr>\n",
       "  </thead>\n",
       "  <tbody>\n",
       "    <tr>\n",
       "      <th>0</th>\n",
       "      <td>1960</td>\n",
       "      <td>NaN</td>\n",
       "    </tr>\n",
       "    <tr>\n",
       "      <th>1</th>\n",
       "      <td>1961</td>\n",
       "      <td>3.772924</td>\n",
       "    </tr>\n",
       "    <tr>\n",
       "      <th>2</th>\n",
       "      <td>1962</td>\n",
       "      <td>5.375360</td>\n",
       "    </tr>\n",
       "    <tr>\n",
       "      <th>3</th>\n",
       "      <td>1963</td>\n",
       "      <td>5.194927</td>\n",
       "    </tr>\n",
       "    <tr>\n",
       "      <th>4</th>\n",
       "      <td>1964</td>\n",
       "      <td>6.564476</td>\n",
       "    </tr>\n",
       "  </tbody>\n",
       "</table>\n",
       "</div>"
      ],
      "text/plain": [
       "   Year       gdp\n",
       "0  1960       NaN\n",
       "1  1961  3.772924\n",
       "2  1962  5.375360\n",
       "3  1963  5.194927\n",
       "4  1964  6.564476"
      ]
     },
     "execution_count": 2,
     "metadata": {},
     "output_type": "execute_result"
    }
   ],
   "source": [
    "\n",
    "df_gdp = pd.read_csv('C:/Users/Victoria/OneDrive/文档/Dropbox/Machine Learning Python/Project/gdp.csv')\n",
    "\n",
    "# Filter the DataFrame to keep only the row where 'Country Name' is 'World'\n",
    "df_gdp = df_gdp[df_gdp['Country Name'] == 'World']\n",
    "\n",
    "# Drop the unwanted columns and reassign the DataFrame\n",
    "df_gdp = df_gdp.drop(columns=['Country Code', 'Indicator Name', 'Indicator Code'])\n",
    "\n",
    "# Now use melt() to reshape the DataFrame\n",
    "df_gdp = df_gdp.melt(id_vars=['Country Name'],\n",
    "                     var_name='Year',\n",
    "                     value_name='gdp')\n",
    "df_gdp = df_gdp.drop(columns=['Country Name'])\n",
    "# Check the first few rows of the reshaped DataFrame\n",
    "df_gdp.head()"
   ]
  },
  {
   "cell_type": "code",
   "execution_count": 3,
   "id": "c7f571b8-7e7b-4f98-b492-d09a8b252fa1",
   "metadata": {},
   "outputs": [
    {
     "name": "stdout",
     "output_type": "stream",
     "text": [
      "                                               Title              Date  \\\n",
      "0  2024 Report of the Committee for Development P...      9 April 2024   \n",
      "1  World Economic Situation and Prospects: April ...      1 April 2024   \n",
      "2  World Economic Situation and Prospects: March ...  29 February 2024   \n",
      "3  Innovation ecosystems: making intellectual pro...  19 February 2024   \n",
      "4  A globally just transition: Perspectives from ...   5 February 2024   \n",
      "\n",
      "                                         Description  \n",
      "0  ADVANCE UNEDITED VERSION of the Report on the ...  \n",
      "1  Given the strong interactions between domestic...  \n",
      "2  Regional integration in West African economies...  \n",
      "3  CDP members will address intellectual property...  \n",
      "4  This Policy Note compiles perspectives from th...  \n"
     ]
    }
   ],
   "source": [
    "# Load the raw data CSV file into a DataFrame\n",
    "df_text = pd.read_csv('text_combine.csv')\n",
    "\n",
    "# Drop the 'url' column from the DataFrame in-place\n",
    "df_text.drop(columns=['URL'], inplace=True)\n",
    "\n",
    "# Get an overview of the top-n rows/samples\n",
    "print(df_text.head())\n"
   ]
  },
  {
   "cell_type": "code",
   "execution_count": 4,
   "id": "7b378b99-008b-4901-a211-1ae7a0dd9e6e",
   "metadata": {},
   "outputs": [],
   "source": [
    "def extract_year_month(date_str):\n",
    "    try:\n",
    "        # Parse the date string to datetime\n",
    "        date = parser.parse(date_str)\n",
    "        # Format the datetime object to year-month format 'YYYY'\n",
    "        return date.strftime('%Y')\n",
    "    except ValueError:\n",
    "        return \"Invalid Date\"  # In case of parsing errors\n",
    "\n",
    "# Apply the function to the Date column\n",
    "df_text['Year'] = df_text['Date'].apply(extract_year_month)"
   ]
  },
  {
   "cell_type": "code",
   "execution_count": 5,
   "id": "ced17e23-c28c-4b99-83df-9df36207fe5e",
   "metadata": {},
   "outputs": [],
   "source": [
    "df_gdp['Year'] = df_gdp['Year'].astype(str)\n",
    "df_text['Year'] = df_text['Year'].astype(str)\n",
    "df = pd.merge(df_gdp, df_text, on='Year', how='right')"
   ]
  },
  {
   "cell_type": "code",
   "execution_count": 6,
   "id": "5ad471a4-f908-42e9-8c78-5c1ae52cf206",
   "metadata": {},
   "outputs": [
    {
     "data": {
      "text/plain": [
       "(7005, 5)"
      ]
     },
     "execution_count": 6,
     "metadata": {},
     "output_type": "execute_result"
    }
   ],
   "source": [
    "# check the shape of the data frame: row: #samples (short for number of samples), column: #attributes (short for number of attributes)\n",
    "df.shape"
   ]
  },
  {
   "cell_type": "code",
   "execution_count": 7,
   "id": "8b28c305-c172-4362-8599-dfdb2ee7c386",
   "metadata": {},
   "outputs": [
    {
     "data": {
      "text/html": [
       "<div>\n",
       "<style scoped>\n",
       "    .dataframe tbody tr th:only-of-type {\n",
       "        vertical-align: middle;\n",
       "    }\n",
       "\n",
       "    .dataframe tbody tr th {\n",
       "        vertical-align: top;\n",
       "    }\n",
       "\n",
       "    .dataframe thead th {\n",
       "        text-align: right;\n",
       "    }\n",
       "</style>\n",
       "<table border=\"1\" class=\"dataframe\">\n",
       "  <thead>\n",
       "    <tr style=\"text-align: right;\">\n",
       "      <th></th>\n",
       "      <th>Year</th>\n",
       "      <th>gdp</th>\n",
       "      <th>Title</th>\n",
       "      <th>Date</th>\n",
       "      <th>Description</th>\n",
       "    </tr>\n",
       "  </thead>\n",
       "  <tbody>\n",
       "    <tr>\n",
       "      <th>0</th>\n",
       "      <td>2024</td>\n",
       "      <td>NaN</td>\n",
       "      <td>2024 Report of the Committee for Development P...</td>\n",
       "      <td>9 April 2024</td>\n",
       "      <td>ADVANCE UNEDITED VERSION of the Report on the ...</td>\n",
       "    </tr>\n",
       "    <tr>\n",
       "      <th>1</th>\n",
       "      <td>2024</td>\n",
       "      <td>NaN</td>\n",
       "      <td>World Economic Situation and Prospects: April ...</td>\n",
       "      <td>1 April 2024</td>\n",
       "      <td>Given the strong interactions between domestic...</td>\n",
       "    </tr>\n",
       "    <tr>\n",
       "      <th>2</th>\n",
       "      <td>2024</td>\n",
       "      <td>NaN</td>\n",
       "      <td>World Economic Situation and Prospects: March ...</td>\n",
       "      <td>29 February 2024</td>\n",
       "      <td>Regional integration in West African economies...</td>\n",
       "    </tr>\n",
       "    <tr>\n",
       "      <th>3</th>\n",
       "      <td>2024</td>\n",
       "      <td>NaN</td>\n",
       "      <td>Innovation ecosystems: making intellectual pro...</td>\n",
       "      <td>19 February 2024</td>\n",
       "      <td>CDP members will address intellectual property...</td>\n",
       "    </tr>\n",
       "    <tr>\n",
       "      <th>4</th>\n",
       "      <td>2024</td>\n",
       "      <td>NaN</td>\n",
       "      <td>A globally just transition: Perspectives from ...</td>\n",
       "      <td>5 February 2024</td>\n",
       "      <td>This Policy Note compiles perspectives from th...</td>\n",
       "    </tr>\n",
       "  </tbody>\n",
       "</table>\n",
       "</div>"
      ],
      "text/plain": [
       "   Year  gdp                                              Title  \\\n",
       "0  2024  NaN  2024 Report of the Committee for Development P...   \n",
       "1  2024  NaN  World Economic Situation and Prospects: April ...   \n",
       "2  2024  NaN  World Economic Situation and Prospects: March ...   \n",
       "3  2024  NaN  Innovation ecosystems: making intellectual pro...   \n",
       "4  2024  NaN  A globally just transition: Perspectives from ...   \n",
       "\n",
       "               Date                                        Description  \n",
       "0      9 April 2024  ADVANCE UNEDITED VERSION of the Report on the ...  \n",
       "1      1 April 2024  Given the strong interactions between domestic...  \n",
       "2  29 February 2024  Regional integration in West African economies...  \n",
       "3  19 February 2024  CDP members will address intellectual property...  \n",
       "4   5 February 2024  This Policy Note compiles perspectives from th...  "
      ]
     },
     "execution_count": 7,
     "metadata": {},
     "output_type": "execute_result"
    }
   ],
   "source": [
    "df.head()"
   ]
  },
  {
   "cell_type": "markdown",
   "id": "a8887e30-9441-43d6-8643-2fb8c454865c",
   "metadata": {},
   "source": [
    "### Part-1: Data cleaning"
   ]
  },
  {
   "cell_type": "markdown",
   "id": "04cc6bd8-d0eb-4a15-a50b-639ede88103e",
   "metadata": {},
   "source": [
    "#### check missing values"
   ]
  },
  {
   "cell_type": "code",
   "execution_count": 8,
   "id": "9daefc9a-5b81-44f3-86e5-708eee7b0081",
   "metadata": {},
   "outputs": [
    {
     "data": {
      "text/plain": [
       "Year             0\n",
       "gdp            345\n",
       "Title            0\n",
       "Date             0\n",
       "Description     12\n",
       "dtype: int64"
      ]
     },
     "execution_count": 8,
     "metadata": {},
     "output_type": "execute_result"
    }
   ],
   "source": [
    "null_sum = df.isnull().sum()\n",
    "null_sum"
   ]
  },
  {
   "cell_type": "code",
   "execution_count": 9,
   "id": "62ef2b22-d508-4a54-bbd2-05a7941fb965",
   "metadata": {},
   "outputs": [],
   "source": [
    "# Drop columns that missing values \n",
    "df = df.dropna()"
   ]
  },
  {
   "cell_type": "code",
   "execution_count": 10,
   "id": "a61db722-a6c5-4f25-b72e-92192acd6f51",
   "metadata": {},
   "outputs": [
    {
     "name": "stdout",
     "output_type": "stream",
     "text": [
      "Year\n",
      "2017    629\n",
      "2016    619\n",
      "2015    542\n",
      "2012    441\n",
      "2011    430\n",
      "2010    417\n",
      "2013    412\n",
      "2008    390\n",
      "2009    382\n",
      "2014    371\n",
      "2007    356\n",
      "2022    309\n",
      "2006    302\n",
      "2021    290\n",
      "2020    241\n",
      "2019    217\n",
      "2018    209\n",
      "2005     42\n",
      "2004     19\n",
      "2003     15\n",
      "2002      8\n",
      "2001      8\n",
      "2000      1\n",
      "Name: count, dtype: int64\n"
     ]
    }
   ],
   "source": [
    "count_date = df['Year'].value_counts()\n",
    "# Print the unique country names found\n",
    "print(count_date)"
   ]
  },
  {
   "cell_type": "code",
   "execution_count": 11,
   "id": "5c190e4b-fcaf-4495-a627-3a9fa97db4ed",
   "metadata": {},
   "outputs": [
    {
     "data": {
      "text/plain": [
       "Index(['2005', '2004', '2003', '2002', '2001', '2000'], dtype='object', name='Year')"
      ]
     },
     "execution_count": 11,
     "metadata": {},
     "output_type": "execute_result"
    }
   ],
   "source": [
    "#remove those years with less than 50 sample\n",
    "year_cts = df['Year'].value_counts()\n",
    "year_to_remove = year_cts[ year_cts < 50].keys()\n",
    "year_to_remove"
   ]
  },
  {
   "cell_type": "code",
   "execution_count": 12,
   "id": "a20fadca-f407-4a3f-8117-d58fa2619037",
   "metadata": {},
   "outputs": [
    {
     "name": "stdout",
     "output_type": "stream",
     "text": [
      "Data size before dropping minority Years: (6650, 5)\n",
      "Data size after dropping minority categories: (6557, 5)\n"
     ]
    }
   ],
   "source": [
    "print(\"Data size before dropping minority Years:\", df.shape)\n",
    "df.drop(df[df['Year'].isin(year_to_remove)].index, inplace=True)\n",
    "print(\"Data size after dropping minority categories:\", df.shape)"
   ]
  },
  {
   "cell_type": "markdown",
   "id": "6d52db88-2dbd-4c0c-9def-5a0c59d441ad",
   "metadata": {},
   "source": [
    "### Part-2: Data overview"
   ]
  },
  {
   "cell_type": "code",
   "execution_count": 13,
   "id": "2e888e35-19db-4bc7-baff-42b1d280648b",
   "metadata": {},
   "outputs": [
    {
     "data": {
      "text/plain": [
       "Year            object\n",
       "gdp            float64\n",
       "Title           object\n",
       "Date            object\n",
       "Description     object\n",
       "dtype: object"
      ]
     },
     "execution_count": 13,
     "metadata": {},
     "output_type": "execute_result"
    }
   ],
   "source": [
    "df.dtypes "
   ]
  },
  {
   "cell_type": "code",
   "execution_count": 14,
   "id": "d8136778-0037-49d2-9a91-6cce63d8c2df",
   "metadata": {},
   "outputs": [
    {
     "name": "stdout",
     "output_type": "stream",
     "text": [
      "Year           datetime64[ns]\n",
      "gdp                   float64\n",
      "Title                  object\n",
      "Date           datetime64[ns]\n",
      "Description            object\n",
      "dtype: object\n"
     ]
    }
   ],
   "source": [
    "\n",
    "# Convert 'Description' and 'Title' to string\n",
    "df['Description'] = df['Description'].astype(str)\n",
    "df['Title'] = df['Title'].astype(str)\n",
    "\n",
    "# Convert 'Year' and 'Date' to datetime\n",
    "# For 'Year', assuming it's just a year and you want it as the first day of that year\n",
    "df['Year'] = pd.to_datetime(df['Year'], format='%Y', errors='coerce')\n",
    "# For 'Date', which might be in a specific format, e.g., 'YYYY-MM-DD'\n",
    "df['Date'] = pd.to_datetime(df['Date'], errors='coerce')\n",
    "\n",
    "# Check the DataFrame dtypes to confirm changes\n",
    "print(df.dtypes)"
   ]
  },
  {
   "cell_type": "code",
   "execution_count": 15,
   "id": "afa6365d-5e71-4c6b-b0b1-895bf529d992",
   "metadata": {},
   "outputs": [
    {
     "data": {
      "text/html": [
       "<div>\n",
       "<style scoped>\n",
       "    .dataframe tbody tr th:only-of-type {\n",
       "        vertical-align: middle;\n",
       "    }\n",
       "\n",
       "    .dataframe tbody tr th {\n",
       "        vertical-align: top;\n",
       "    }\n",
       "\n",
       "    .dataframe thead th {\n",
       "        text-align: right;\n",
       "    }\n",
       "</style>\n",
       "<table border=\"1\" class=\"dataframe\">\n",
       "  <thead>\n",
       "    <tr style=\"text-align: right;\">\n",
       "      <th></th>\n",
       "      <th>Year</th>\n",
       "      <th>gdp</th>\n",
       "      <th>Title</th>\n",
       "      <th>Date</th>\n",
       "      <th>Description</th>\n",
       "    </tr>\n",
       "  </thead>\n",
       "  <tbody>\n",
       "    <tr>\n",
       "      <th>47</th>\n",
       "      <td>2022-01-01</td>\n",
       "      <td>3.089379</td>\n",
       "      <td>CDP at the Ministerial Conference of the Group...</td>\n",
       "      <td>2022-12-20</td>\n",
       "      <td>CDP Vice Chair speaking at the roundtable disc...</td>\n",
       "    </tr>\n",
       "    <tr>\n",
       "      <th>48</th>\n",
       "      <td>2022-01-01</td>\n",
       "      <td>3.089379</td>\n",
       "      <td>World Economic Situation and Prospects: Decemb...</td>\n",
       "      <td>2022-12-01</td>\n",
       "      <td>Governments, households, and firms across Euro...</td>\n",
       "    </tr>\n",
       "    <tr>\n",
       "      <th>49</th>\n",
       "      <td>2022-01-01</td>\n",
       "      <td>3.089379</td>\n",
       "      <td>Briefing to ECOSOC on the work of the CDP on LDCs</td>\n",
       "      <td>2022-11-30</td>\n",
       "      <td>CDP briefing to ECOSOC members on its work on ...</td>\n",
       "    </tr>\n",
       "    <tr>\n",
       "      <th>50</th>\n",
       "      <td>2022-01-01</td>\n",
       "      <td>3.089379</td>\n",
       "      <td>UN DESA Policy Brief No. 142: Old-age poverty ...</td>\n",
       "      <td>2022-11-11</td>\n",
       "      <td>An agenda on gender equality aimed at reducing...</td>\n",
       "    </tr>\n",
       "    <tr>\n",
       "      <th>51</th>\n",
       "      <td>2022-01-01</td>\n",
       "      <td>3.089379</td>\n",
       "      <td>UN DESA Policy Brief No. 141: A just green tra...</td>\n",
       "      <td>2022-11-04</td>\n",
       "      <td>A globally just transition requires internatio...</td>\n",
       "    </tr>\n",
       "  </tbody>\n",
       "</table>\n",
       "</div>"
      ],
      "text/plain": [
       "         Year       gdp                                              Title  \\\n",
       "47 2022-01-01  3.089379  CDP at the Ministerial Conference of the Group...   \n",
       "48 2022-01-01  3.089379  World Economic Situation and Prospects: Decemb...   \n",
       "49 2022-01-01  3.089379  Briefing to ECOSOC on the work of the CDP on LDCs   \n",
       "50 2022-01-01  3.089379  UN DESA Policy Brief No. 142: Old-age poverty ...   \n",
       "51 2022-01-01  3.089379  UN DESA Policy Brief No. 141: A just green tra...   \n",
       "\n",
       "         Date                                        Description  \n",
       "47 2022-12-20  CDP Vice Chair speaking at the roundtable disc...  \n",
       "48 2022-12-01  Governments, households, and firms across Euro...  \n",
       "49 2022-11-30  CDP briefing to ECOSOC members on its work on ...  \n",
       "50 2022-11-11  An agenda on gender equality aimed at reducing...  \n",
       "51 2022-11-04  A globally just transition requires internatio...  "
      ]
     },
     "execution_count": 15,
     "metadata": {},
     "output_type": "execute_result"
    }
   ],
   "source": [
    "df.head()"
   ]
  },
  {
   "cell_type": "code",
   "execution_count": 16,
   "id": "34c2fd56-d842-4b36-9ec8-d78c99dd9dfc",
   "metadata": {},
   "outputs": [
    {
     "data": {
      "text/plain": [
       "(6557, 5)"
      ]
     },
     "execution_count": 16,
     "metadata": {},
     "output_type": "execute_result"
    }
   ],
   "source": [
    "df.shape"
   ]
  },
  {
   "cell_type": "code",
   "execution_count": 17,
   "id": "26995c79-ba85-4e8d-b183-4e1e0f0f044f",
   "metadata": {},
   "outputs": [
    {
     "name": "stdout",
     "output_type": "stream",
     "text": [
      "country\n",
      "NA                                                                        3686\n",
      "US                                                                         146\n",
      "China                                                                       97\n",
      "India                                                                       57\n",
      "Doha                                                                        57\n",
      "                                                                          ... \n",
      "Croatia                                                                      1\n",
      "ePing                                                                        1\n",
      "Cuba                                                                         1\n",
      "Islamic Republic Of Mauritania:                                              1\n",
      "the People's Republic of China-Hong Kong Special Administrative Region       1\n",
      "Name: count, Length: 298, dtype: int64\n"
     ]
    }
   ],
   "source": [
    "# Not a necessary step. Only for exploratory purposes\n",
    "nlp = spacy.load(\"en_core_web_sm\")\n",
    "def extract_countries_or_na(text):\n",
    "    # Process the text using SpaCy to extract entities\n",
    "    doc = nlp(text)\n",
    "    countries = [ent.text for ent in doc.ents if ent.label_ == 'GPE']\n",
    "    \n",
    "    # Return a comma-separated string of countries or \"NA\" if none are found\n",
    "    return ', '.join(countries) if countries else \"NA\"\n",
    "\n",
    "\n",
    "# Apply the function to the 'title' column\n",
    "df['country'] = df['Title'].apply(extract_countries_or_na)\n",
    "df['country'] = df['country'].str.split(',').str[0]\n",
    "count_countries = df['country'].value_counts()\n",
    "# Print the unique country names found\n",
    "print(count_countries)\n",
    "top_countries = df.sort_values('country', ascending=False).head(10)"
   ]
  },
  {
   "cell_type": "markdown",
   "id": "461e00dc-6049-4767-808d-7e9e3e6d5827",
   "metadata": {},
   "source": [
    "### Part-3: Data transformation"
   ]
  },
  {
   "cell_type": "markdown",
   "id": "d70ead68-7b40-408c-b50e-6339c289f05d",
   "metadata": {},
   "source": [
    "#### Normalize numerical data"
   ]
  },
  {
   "cell_type": "code",
   "execution_count": 18,
   "id": "eb25e293-fa75-40bc-b7a3-4643588ba53f",
   "metadata": {},
   "outputs": [],
   "source": [
    "scaler = StandardScaler()\n",
    "gdp_array = df['gdp'].values.reshape(-1, 1)\n",
    "# Fit and transform the 'gdp' column\n",
    "gdp_scaled = scaler.fit_transform(gdp_array)\n",
    "# Add the scaled GDP values as a new column in the DataFrame\n",
    "df['gdp_normal'] = gdp_scaled"
   ]
  },
  {
   "cell_type": "markdown",
   "id": "8e316d06-1b0c-45c2-92e6-44390d4030ba",
   "metadata": {},
   "source": [
    "#### Text transformation: text data tokenization, stemming/lemmatization"
   ]
  },
  {
   "cell_type": "code",
   "execution_count": 19,
   "id": "5c8fe742-db2f-4f1a-9ca1-a60d8987fa7b",
   "metadata": {},
   "outputs": [],
   "source": [
    "import nltk\n",
    "from nltk import sent_tokenize\n",
    "from nltk import word_tokenize\n",
    "from nltk.stem import WordNetLemmatizer \n",
    "lemmatizer = WordNetLemmatizer()"
   ]
  },
  {
   "cell_type": "code",
   "execution_count": 20,
   "id": "b9730952-9649-4ddd-aca8-5a0fb247c02c",
   "metadata": {},
   "outputs": [
    {
     "data": {
      "text/plain": [
       "'The world will recover from the economic shock of the COVID pandemic, the International Labour Organization (or ILO) said on Wednesday in a new report, but only if poorer nations receive some financial assistance to get back on their feet.'"
      ]
     },
     "execution_count": 20,
     "metadata": {},
     "output_type": "execute_result"
    }
   ],
   "source": [
    "sample_text = df.iloc[600]['Description']\n",
    "sample_text"
   ]
  },
  {
   "cell_type": "code",
   "execution_count": 21,
   "id": "3234355a-28c9-45b1-accf-1dec212ec53a",
   "metadata": {},
   "outputs": [],
   "source": [
    "description_text = df['Description']"
   ]
  },
  {
   "cell_type": "code",
   "execution_count": 22,
   "id": "a9af2823-379e-4a6d-8c6c-adb10a76d01e",
   "metadata": {},
   "outputs": [],
   "source": [
    "# Define a function that applies sentence tokenization to a given text\n",
    "def tokenize_description(text):\n",
    "    try:\n",
    "        # Use NLTK's sentence tokenizer\n",
    "        return nltk.sent_tokenize(text)\n",
    "    except TypeError:\n",
    "        return []  # Return an empty list if text is not a string\n",
    "\n",
    "# Apply this function to each element in the 'Description' column\n",
    "df['Tokenized_Description'] = df['Description'].apply(tokenize_description)"
   ]
  },
  {
   "cell_type": "code",
   "execution_count": null,
   "id": "f4039245-9f58-4f0f-b9c8-a8a9353b538f",
   "metadata": {},
   "outputs": [],
   "source": []
  },
  {
   "cell_type": "code",
   "execution_count": 23,
   "id": "1ad61eae-3c90-4fe4-ad2b-d0e1fe43ee28",
   "metadata": {},
   "outputs": [],
   "source": [
    "df.to_csv('data_EDA.csv', index=False)"
   ]
  },
  {
   "cell_type": "code",
   "execution_count": 24,
   "id": "189a0b58-168e-435f-9683-109eb8ce3b47",
   "metadata": {},
   "outputs": [
    {
     "data": {
      "image/png": "[encoded data removed]",
      "text/plain": [
       "<Figure size 1000x600 with 1 Axes>"
      ]
     },
     "metadata": {},
     "output_type": "display_data"
    }
   ],
   "source": [
    "# Sort the DataFrame by 'Year' for proper plotting\n",
    "df = df.sort_values('Year')\n",
    "\n",
    "# Create the plot\n",
    "plt.figure(figsize=(10, 6))\n",
    "plt.plot(df['Year'], df['gdp'], marker='o', linestyle='-', color='b')\n",
    "plt.title('GDP by Year')\n",
    "plt.xlabel('Year')\n",
    "plt.ylabel('GDP')\n",
    "plt.grid(True)\n",
    "plt.xticks(rotation=45)  # Rotate x-axis labels for better readability\n",
    "plt.tight_layout()  # Adjust the layout to make sure everything fits without overlap\n",
    "plt.show()"
   ]
  },
  {
   "cell_type": "code",
   "execution_count": null,
   "id": "5c459100-faf8-47eb-a408-a9f85ec0d5cd",
   "metadata": {},
   "outputs": [],
   "source": []
  }
 ],
 "metadata": {
  "kernelspec": {
   "display_name": "Python 3 (ipykernel)",
   "language": "python",
   "name": "python3"
  },
  "language_info": {
   "codemirror_mode": {
    "name": "ipython",
    "version": 3
   },
   "file_extension": ".py",
   "mimetype": "text/x-python",
   "name": "python",
   "nbconvert_exporter": "python",
   "pygments_lexer": "ipython3",
   "version": "3.11.7"
  }
 },
 "nbformat": 4,
 "nbformat_minor": 5
}
