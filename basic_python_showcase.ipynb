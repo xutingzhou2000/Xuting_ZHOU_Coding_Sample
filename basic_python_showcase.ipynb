{
 "cells": [
  {
   "cell_type": "markdown",
   "metadata": {},
   "source": [
    "### Python basics, Numpy, and Pandas (5pts)\n",
    "In this assignment, we will do a practice test to assess your foundamental understanding of Python, Numpy, and Pandas. \n",
    "- Feel free to review these topics from T0_Python_review.ipynb and T0_Numpy_Pandas_review.ipynb \n",
    "- We provide the instructions, function headers, docstring, and running examples. Each running example shows the expected result of implementing the correct code.\n",
    "- Please complete this assignment by filling in your code under **\"your code here:\"**"
   ]
  },
  {
   "cell_type": "markdown",
   "metadata": {},
   "source": [
    "### Part1: csv file and basic dictionary operations (1pts)"
   ]
  },
  {
   "cell_type": "code",
   "execution_count": 7,
   "metadata": {},
   "outputs": [],
   "source": [
    "import csv"
   ]
  },
  {
   "cell_type": "markdown",
   "metadata": {},
   "source": [
    "**Task-1.1 (0.5pts)**\n",
    "- Open the ./data/candidates.csv file (you can visualize it from excel/numbers), read data using csv.DictReader.\n",
    "- Store the content as a list of dictionaries, where each dictionary corresponds to one row of the original data"
   ]
  },
  {
   "cell_type": "code",
   "execution_count": 12,
   "metadata": {},
   "outputs": [],
   "source": [
    "data = [] # store the contents in data\n",
    "with open(\"./candidates.csv\") as f:\n",
    "    reader = csv.DictReader(f) \n",
    "    data = list(reader)"
   ]
  },
  {
   "cell_type": "code",
   "execution_count": 15,
   "metadata": {},
   "outputs": [
    {
     "data": {
      "text/plain": [
       "[OrderedDict([('Candidate_ID', 'C00464040'),\n",
       "              ('City', 'BIRMINGHAM'),\n",
       "              ('District', '07'),\n",
       "              ('First', ' MARTHA RENEE'),\n",
       "              ('Last', 'BOZEMAN'),\n",
       "              ('Party', 'UNK'),\n",
       "              ('State', 'AL'),\n",
       "              ('Zipcode', '35201')]),\n",
       " OrderedDict([('Candidate_ID', 'C00460410'),\n",
       "              ('City', 'BIRMINGHAM'),\n",
       "              ('District', '07'),\n",
       "              ('First', ' EARL FREDERICK JR'),\n",
       "              ('Last', 'HILLIARD'),\n",
       "              ('Party', 'DEM'),\n",
       "              ('State', 'AL'),\n",
       "              ('Zipcode', '35202')]),\n",
       " OrderedDict([('Candidate_ID', 'C00461038'),\n",
       "              ('City', 'BIRMINGHAM'),\n",
       "              ('District', '07'),\n",
       "              ('First', ' SHEILA'),\n",
       "              ('Last', 'SMOOT'),\n",
       "              ('Party', 'DEM'),\n",
       "              ('State', 'AL'),\n",
       "              ('Zipcode', '35201')]),\n",
       " OrderedDict([('Candidate_ID', 'C00471235'),\n",
       "              ('City', 'BIRMINGHAM'),\n",
       "              ('District', '07'),\n",
       "              ('First', ' MICHELE'),\n",
       "              ('Last', 'WALLER'),\n",
       "              ('Party', 'REP'),\n",
       "              ('State', 'AL'),\n",
       "              ('Zipcode', '35202')]),\n",
       " OrderedDict([('Candidate_ID', 'C00482091'),\n",
       "              ('City', 'BIRMINGHAM'),\n",
       "              ('District', '07'),\n",
       "              ('First', ' ROBERT CHRISTOPHER'),\n",
       "              ('Last', 'SALTER'),\n",
       "              ('Party', 'REP'),\n",
       "              ('State', 'AL'),\n",
       "              ('Zipcode', '35206')]),\n",
       " OrderedDict([('Candidate_ID', 'C00068353'),\n",
       "              ('City', 'MONTPELIER'),\n",
       "              ('District', '00'),\n",
       "              ('First', ' PATRICK'),\n",
       "              ('Last', 'LEAHY'),\n",
       "              ('Party', 'DEM'),\n",
       "              ('State', 'VT'),\n",
       "              ('Zipcode', '05601')]),\n",
       " OrderedDict([('Candidate_ID', 'C00104752'),\n",
       "              ('City', 'SALT LAKE CITY'),\n",
       "              ('District', '00'),\n",
       "              ('First', ' ORRIN G'),\n",
       "              ('Last', 'HATCH'),\n",
       "              ('Party', 'REP'),\n",
       "              ('State', 'UT'),\n",
       "              ('Zipcode', '84101')]),\n",
       " OrderedDict([('Candidate_ID', 'C00091892'),\n",
       "              ('City', 'OXFORD'),\n",
       "              ('District', '00'),\n",
       "              ('First', ' THAD'),\n",
       "              ('Last', 'COCHRAN'),\n",
       "              ('Party', 'REP'),\n",
       "              ('State', 'MS'),\n",
       "              ('Zipcode', '38655')])]"
      ]
     },
     "execution_count": 15,
     "metadata": {},
     "output_type": "execute_result"
    }
   ],
   "source": [
    "data"
   ]
  },
  {
   "cell_type": "markdown",
   "metadata": {},
   "source": [
    "**Task-1.2 (0.5pts)**\n",
    "- Build another dictionary from the above resulting list \"data\", where: \n",
    "    - (1) each key corresponds to a unique state (values in the \"State\" column); \n",
    "    - (2) the value is a list of dictionaries, where each dictionary corresponds to rows of the specific \"State\""
   ]
  },
  {
   "cell_type": "code",
   "execution_count": 28,
   "metadata": {},
   "outputs": [],
   "source": [
    "state_to_cand = {} # state_to_cand['AL'] = [{}, {},...]\n",
    "\n",
    "# Iterate over each row (dictionary) in the data list\n",
    "for row in data:\n",
    "    state = row['State']\n",
    "    if state not in state_to_cand: # If not, initialize the state key with an empty list\n",
    "        state_to_cand[row['State']] = []\n",
    "    state_to_cand[state].append(row)"
   ]
  },
  {
   "cell_type": "code",
   "execution_count": 29,
   "metadata": {},
   "outputs": [
    {
     "data": {
      "text/plain": [
       "[OrderedDict([('Candidate_ID', 'C00104752'),\n",
       "              ('City', 'SALT LAKE CITY'),\n",
       "              ('District', '00'),\n",
       "              ('First', ' ORRIN G'),\n",
       "              ('Last', 'HATCH'),\n",
       "              ('Party', 'REP'),\n",
       "              ('State', 'UT'),\n",
       "              ('Zipcode', '84101')])]"
      ]
     },
     "execution_count": 29,
     "metadata": {},
     "output_type": "execute_result"
    }
   ],
   "source": [
    "# running example\n",
    "state_to_cand['UT']"
   ]
  },
  {
   "cell_type": "code",
   "execution_count": 30,
   "metadata": {},
   "outputs": [
    {
     "data": {
      "text/plain": [
       "[OrderedDict([('Candidate_ID', 'C00464040'),\n",
       "              ('City', 'BIRMINGHAM'),\n",
       "              ('District', '07'),\n",
       "              ('First', ' MARTHA RENEE'),\n",
       "              ('Last', 'BOZEMAN'),\n",
       "              ('Party', 'UNK'),\n",
       "              ('State', 'AL'),\n",
       "              ('Zipcode', '35201')]),\n",
       " OrderedDict([('Candidate_ID', 'C00460410'),\n",
       "              ('City', 'BIRMINGHAM'),\n",
       "              ('District', '07'),\n",
       "              ('First', ' EARL FREDERICK JR'),\n",
       "              ('Last', 'HILLIARD'),\n",
       "              ('Party', 'DEM'),\n",
       "              ('State', 'AL'),\n",
       "              ('Zipcode', '35202')]),\n",
       " OrderedDict([('Candidate_ID', 'C00461038'),\n",
       "              ('City', 'BIRMINGHAM'),\n",
       "              ('District', '07'),\n",
       "              ('First', ' SHEILA'),\n",
       "              ('Last', 'SMOOT'),\n",
       "              ('Party', 'DEM'),\n",
       "              ('State', 'AL'),\n",
       "              ('Zipcode', '35201')]),\n",
       " OrderedDict([('Candidate_ID', 'C00471235'),\n",
       "              ('City', 'BIRMINGHAM'),\n",
       "              ('District', '07'),\n",
       "              ('First', ' MICHELE'),\n",
       "              ('Last', 'WALLER'),\n",
       "              ('Party', 'REP'),\n",
       "              ('State', 'AL'),\n",
       "              ('Zipcode', '35202')]),\n",
       " OrderedDict([('Candidate_ID', 'C00482091'),\n",
       "              ('City', 'BIRMINGHAM'),\n",
       "              ('District', '07'),\n",
       "              ('First', ' ROBERT CHRISTOPHER'),\n",
       "              ('Last', 'SALTER'),\n",
       "              ('Party', 'REP'),\n",
       "              ('State', 'AL'),\n",
       "              ('Zipcode', '35206')])]"
      ]
     },
     "execution_count": 30,
     "metadata": {},
     "output_type": "execute_result"
    }
   ],
   "source": [
    "state_to_cand['AL']"
   ]
  },
  {
   "cell_type": "markdown",
   "metadata": {},
   "source": [
    "### Part2: Numpy (1pts)"
   ]
  },
  {
   "cell_type": "code",
   "execution_count": 25,
   "metadata": {},
   "outputs": [],
   "source": [
    "import numpy as np"
   ]
  },
  {
   "cell_type": "markdown",
   "metadata": {},
   "source": [
    "**Task-2.1 (0.3pts)**: Complete the following function **compute_matching_indices**"
   ]
  },
  {
   "cell_type": "code",
   "execution_count": 35,
   "metadata": {},
   "outputs": [],
   "source": [
    "def compute_matching_indices(x, y):\n",
    "    \"\"\"\n",
    "    Returns a new array consisting of the indices where x == y. \n",
    "    \n",
    "    Input: \n",
    "        x: 1-dimensional array\n",
    "        y: 1-dimensional array\n",
    "        x and y have the same length\n",
    "    Returns: a sorted array of the indices where x[i] == y[i]\n",
    "             Note that the returned array must be one-dimensional! \n",
    "    \n",
    "    Hint: you can use np.argwhere() or you can use a for loop\n",
    "    \"\"\"\n",
    "    \n",
    "    # your code here:\n",
    "    return np.argwhere(x == y).flatten()"
   ]
  },
  {
   "cell_type": "code",
   "execution_count": 36,
   "metadata": {},
   "outputs": [
    {
     "data": {
      "text/plain": [
       "array([0, 2], dtype=int64)"
      ]
     },
     "execution_count": 36,
     "metadata": {},
     "output_type": "execute_result"
    }
   ],
   "source": [
    "# Running example\n",
    "x = np.array([10, 20, 30]) \n",
    "y = np.array([10, 30, 30])\n",
    "compute_matching_indices(x, y)"
   ]
  },
  {
   "cell_type": "code",
   "execution_count": 41,
   "metadata": {},
   "outputs": [],
   "source": [
    "def compute_matching_indices(x, y):\n",
    "    \"\"\"\n",
    "    Returns a new array consisting of the indices where x == y. \n",
    "    \n",
    "    Input: \n",
    "        x: 1-dimensional array\n",
    "        y: 1-dimensional array\n",
    "        x and y have the same length\n",
    "    Returns: a sorted array of the indices where x[i] == y[i]\n",
    "             Note that the returned array must be one-dimensional! \n",
    "    \n",
    "    Hint: you can use np.argwhere() or you can use a for loop\n",
    "    \"\"\"\n",
    "    \n",
    "    # your code here:\n",
    "    matching_indices = [i for i in range(len(x)) if x[i] == y[i]]\n",
    "    return matching_indices"
   ]
  },
  {
   "cell_type": "code",
   "execution_count": 42,
   "metadata": {},
   "outputs": [
    {
     "data": {
      "text/plain": [
       "[0, 2]"
      ]
     },
     "execution_count": 42,
     "metadata": {},
     "output_type": "execute_result"
    }
   ],
   "source": [
    "# Running example\n",
    "x = np.array([10, 20, 30]) \n",
    "y = np.array([10, 30, 30])\n",
    "compute_matching_indices(x, y)"
   ]
  },
  {
   "cell_type": "markdown",
   "metadata": {},
   "source": [
    "**Task-2.2 (0.3pts)**: Complete the following function **powers(N, p)**"
   ]
  },
  {
   "cell_type": "code",
   "execution_count": 43,
   "metadata": {},
   "outputs": [],
   "source": [
    "def powers(N, p):\n",
    "    \"\"\"\n",
    "    Return the first N powers of p. For example:\n",
    "    powers(5, 2) --> [1, 2, 4, 8, 16] # the first 5 powers of 2: 2**0, 2**1, 2**2, 2**3, 2**4\n",
    "    powers(5, 4) --> [1, 4, 16, 64, 256]\n",
    "    \n",
    "    Input:\n",
    "       N: number of powers to return \n",
    "       p: base that we are raising to the given powers\n",
    "    \n",
    "    Returns: an array consisting of powers of p\n",
    "    \n",
    "    Hint: \n",
    "    - np.arange(5): array([0,1,2,3,4])\n",
    "    - use ** for the power operation\n",
    "    \"\"\"\n",
    "    # your code here:\n",
    "    exponents = np.arange(N)\n",
    "    return p ** exponents"
   ]
  },
  {
   "cell_type": "code",
   "execution_count": 44,
   "metadata": {},
   "outputs": [
    {
     "data": {
      "text/plain": [
       "array([ 1,  2,  4,  8, 16], dtype=int32)"
      ]
     },
     "execution_count": 44,
     "metadata": {},
     "output_type": "execute_result"
    }
   ],
   "source": [
    "# Running example\n",
    "powers(5, 2)"
   ]
  },
  {
   "cell_type": "markdown",
   "metadata": {},
   "source": [
    "**Task-2.3 (0.4pts)**: Complete the following function select_row_col(x, row_idx, col_idx)."
   ]
  },
  {
   "cell_type": "code",
   "execution_count": 48,
   "metadata": {},
   "outputs": [],
   "source": [
    "def select_row_col(x, row_idx=None, col_idx=None):\n",
    "    \"\"\"\n",
    "    Select a subset of rows or columns in the two-dimensional array x. \n",
    "    \n",
    "    Inputs:\n",
    "        x: a two-dimensional array \n",
    "        row_idx: a list of row index we are selecting, None if not specified\n",
    "        col_idx: a list of column index we are selecting, None if not specified\n",
    "    \n",
    "    Returns: a two-dimensional array where we have selected based on the \n",
    "             specified row_idx and col_idx.\n",
    "        \n",
    "    Hint: \n",
    "    - recall the numpy array slicing methods\n",
    "    - you will need if/else statment with multiple elif branches\n",
    "    \"\"\"\n",
    "\n",
    "    # your code here:\n",
    "        # If both row_idx and col_idx are not specified, return the original array\n",
    "    if row_idx == None and col_idx == None:\n",
    "        return x\n",
    "    \n",
    "    # If only row_idx is specified\n",
    "    elif row_idx != None and col_idx == None:\n",
    "        return x[row_idx, :]\n",
    "    \n",
    "    # If only col_idx is specified\n",
    "    elif row_idx == None and col_idx != None:\n",
    "        return x[:, col_idx]\n",
    "    \n",
    "    # If both row_idx and col_idx are specified\n",
    "    else:\n",
    "        return x[row_idx, :][:, col_idx]\n"
   ]
  },
  {
   "cell_type": "code",
   "execution_count": 49,
   "metadata": {},
   "outputs": [],
   "source": [
    "# Running example\n",
    "x = np.array([[0, 1, 2],\n",
    "              [3, 4, 5],\n",
    "              [6, 7, 8]])"
   ]
  },
  {
   "cell_type": "code",
   "execution_count": 50,
   "metadata": {},
   "outputs": [
    {
     "data": {
      "text/plain": [
       "array([[3, 4, 5],\n",
       "       [6, 7, 8]])"
      ]
     },
     "execution_count": 50,
     "metadata": {},
     "output_type": "execute_result"
    }
   ],
   "source": [
    "select_row_col(x, [1, 2], None)"
   ]
  },
  {
   "cell_type": "code",
   "execution_count": 51,
   "metadata": {},
   "outputs": [
    {
     "data": {
      "text/plain": [
       "array([[1, 2],\n",
       "       [4, 5],\n",
       "       [7, 8]])"
      ]
     },
     "execution_count": 51,
     "metadata": {},
     "output_type": "execute_result"
    }
   ],
   "source": [
    "select_row_col(x, None, [1, 2])"
   ]
  },
  {
   "cell_type": "code",
   "execution_count": 52,
   "metadata": {},
   "outputs": [
    {
     "data": {
      "text/plain": [
       "array([[3, 5],\n",
       "       [6, 8]])"
      ]
     },
     "execution_count": 52,
     "metadata": {},
     "output_type": "execute_result"
    }
   ],
   "source": [
    "select_row_col(x, [1, 2], [0, 2])"
   ]
  },
  {
   "cell_type": "markdown",
   "metadata": {},
   "source": [
    "### Part3: Pandas (3pts)"
   ]
  },
  {
   "cell_type": "code",
   "execution_count": 66,
   "metadata": {},
   "outputs": [],
   "source": [
    "# import the package\n",
    "import pandas as pd\n",
    "\n",
    "# set the maximum numbers of rows and columns to display in the jupyter notebook\n",
    "# More details on available options: https://pandas.pydata.org/pandas-docs/stable/user_guide/options.html\n",
    "pd.options.display.max_columns = 15\n",
    "pd.options.display.max_rows = 20"
   ]
  },
  {
   "cell_type": "markdown",
   "metadata": {},
   "source": [
    "**Task-3.1 (0.3pts):** read a csv file into a dataframe and perform basic operations based on the following instructions"
   ]
  },
  {
   "cell_type": "markdown",
   "metadata": {},
   "source": [
    "Use **pd.read_csv** to read the given data file \"./data/morg_d07_strings.csv\" into a pandas dataframe and save the result in a variable named **morg_df**. Use **h_id** as the row index to uniquely identify each row."
   ]
  },
  {
   "cell_type": "code",
   "execution_count": 76,
   "metadata": {},
   "outputs": [],
   "source": [
    "# your code here\n",
    "morg_df = pd.read_csv('.\\morg_d07_strings-1.csv', index_col='h_id')"
   ]
  },
  {
   "cell_type": "markdown",
   "metadata": {},
   "source": [
    "Check the shape of the dataframe **morg_df**"
   ]
  },
  {
   "cell_type": "code",
   "execution_count": 77,
   "metadata": {},
   "outputs": [
    {
     "data": {
      "text/plain": [
       "(284020, 7)"
      ]
     },
     "execution_count": 77,
     "metadata": {},
     "output_type": "execute_result"
    }
   ],
   "source": [
    "morg_df.shape"
   ]
  },
  {
   "cell_type": "markdown",
   "metadata": {},
   "source": [
    "Check the column names of the dataframe **morg_df**"
   ]
  },
  {
   "cell_type": "code",
   "execution_count": 78,
   "metadata": {},
   "outputs": [
    {
     "data": {
      "text/plain": [
       "Index(['age', 'gender', 'race', 'ethnicity', 'employment_status',\n",
       "       'hours_worked_per_week', 'earnings_per_week'],\n",
       "      dtype='object')"
      ]
     },
     "execution_count": 78,
     "metadata": {},
     "output_type": "execute_result"
    }
   ],
   "source": [
    "# your code here\n",
    "morg_df.columns"
   ]
  },
  {
   "cell_type": "markdown",
   "metadata": {},
   "source": [
    "View the top-10 rows of the dataframe **morg_df**"
   ]
  },
  {
   "cell_type": "code",
   "execution_count": 79,
   "metadata": {},
   "outputs": [
    {
     "data": {
      "text/html": [
       "<div>\n",
       "<style scoped>\n",
       "    .dataframe tbody tr th:only-of-type {\n",
       "        vertical-align: middle;\n",
       "    }\n",
       "\n",
       "    .dataframe tbody tr th {\n",
       "        vertical-align: top;\n",
       "    }\n",
       "\n",
       "    .dataframe thead th {\n",
       "        text-align: right;\n",
       "    }\n",
       "</style>\n",
       "<table border=\"1\" class=\"dataframe\">\n",
       "  <thead>\n",
       "    <tr style=\"text-align: right;\">\n",
       "      <th></th>\n",
       "      <th>age</th>\n",
       "      <th>gender</th>\n",
       "      <th>race</th>\n",
       "      <th>ethnicity</th>\n",
       "      <th>employment_status</th>\n",
       "      <th>hours_worked_per_week</th>\n",
       "      <th>earnings_per_week</th>\n",
       "    </tr>\n",
       "    <tr>\n",
       "      <th>h_id</th>\n",
       "      <th></th>\n",
       "      <th></th>\n",
       "      <th></th>\n",
       "      <th></th>\n",
       "      <th></th>\n",
       "      <th></th>\n",
       "      <th></th>\n",
       "    </tr>\n",
       "  </thead>\n",
       "  <tbody>\n",
       "    <tr>\n",
       "      <th>1_1_1</th>\n",
       "      <td>32</td>\n",
       "      <td>Female</td>\n",
       "      <td>BlackOnly</td>\n",
       "      <td>Non-Hispanic</td>\n",
       "      <td>Working</td>\n",
       "      <td>40.0</td>\n",
       "      <td>1250.00</td>\n",
       "    </tr>\n",
       "    <tr>\n",
       "      <th>1_2_2</th>\n",
       "      <td>80</td>\n",
       "      <td>Female</td>\n",
       "      <td>WhiteOnly</td>\n",
       "      <td>Non-Hispanic</td>\n",
       "      <td>Others2</td>\n",
       "      <td>NaN</td>\n",
       "      <td>NaN</td>\n",
       "    </tr>\n",
       "    <tr>\n",
       "      <th>1_3_3</th>\n",
       "      <td>20</td>\n",
       "      <td>Female</td>\n",
       "      <td>BlackOnly</td>\n",
       "      <td>Non-Hispanic</td>\n",
       "      <td>Others2</td>\n",
       "      <td>NaN</td>\n",
       "      <td>NaN</td>\n",
       "    </tr>\n",
       "    <tr>\n",
       "      <th>1_4_4</th>\n",
       "      <td>28</td>\n",
       "      <td>Male</td>\n",
       "      <td>WhiteOnly</td>\n",
       "      <td>Non-Hispanic</td>\n",
       "      <td>Working</td>\n",
       "      <td>40.0</td>\n",
       "      <td>1100.00</td>\n",
       "    </tr>\n",
       "    <tr>\n",
       "      <th>1_5_5</th>\n",
       "      <td>32</td>\n",
       "      <td>Male</td>\n",
       "      <td>WhiteOnly</td>\n",
       "      <td>Non-Hispanic</td>\n",
       "      <td>Working</td>\n",
       "      <td>52.0</td>\n",
       "      <td>1289.23</td>\n",
       "    </tr>\n",
       "    <tr>\n",
       "      <th>1_6_6</th>\n",
       "      <td>69</td>\n",
       "      <td>Female</td>\n",
       "      <td>WhiteOnly</td>\n",
       "      <td>Non-Hispanic</td>\n",
       "      <td>Others1</td>\n",
       "      <td>NaN</td>\n",
       "      <td>NaN</td>\n",
       "    </tr>\n",
       "    <tr>\n",
       "      <th>1_7_7</th>\n",
       "      <td>80</td>\n",
       "      <td>Female</td>\n",
       "      <td>WhiteOnly</td>\n",
       "      <td>Non-Hispanic</td>\n",
       "      <td>Others1</td>\n",
       "      <td>NaN</td>\n",
       "      <td>NaN</td>\n",
       "    </tr>\n",
       "    <tr>\n",
       "      <th>1_8_8</th>\n",
       "      <td>31</td>\n",
       "      <td>Male</td>\n",
       "      <td>WhiteOnly</td>\n",
       "      <td>Non-Hispanic</td>\n",
       "      <td>Working</td>\n",
       "      <td>45.0</td>\n",
       "      <td>866.25</td>\n",
       "    </tr>\n",
       "    <tr>\n",
       "      <th>1_9_9</th>\n",
       "      <td>68</td>\n",
       "      <td>Female</td>\n",
       "      <td>WhiteOnly</td>\n",
       "      <td>Non-Hispanic</td>\n",
       "      <td>Working</td>\n",
       "      <td>10.0</td>\n",
       "      <td>105.00</td>\n",
       "    </tr>\n",
       "    <tr>\n",
       "      <th>1_11_11</th>\n",
       "      <td>75</td>\n",
       "      <td>Male</td>\n",
       "      <td>WhiteOnly</td>\n",
       "      <td>Non-Hispanic</td>\n",
       "      <td>Others1</td>\n",
       "      <td>NaN</td>\n",
       "      <td>NaN</td>\n",
       "    </tr>\n",
       "  </tbody>\n",
       "</table>\n",
       "</div>"
      ],
      "text/plain": [
       "         age  gender       race     ethnicity employment_status  \\\n",
       "h_id                                                              \n",
       "1_1_1     32  Female  BlackOnly  Non-Hispanic           Working   \n",
       "1_2_2     80  Female  WhiteOnly  Non-Hispanic           Others2   \n",
       "1_3_3     20  Female  BlackOnly  Non-Hispanic           Others2   \n",
       "1_4_4     28    Male  WhiteOnly  Non-Hispanic           Working   \n",
       "1_5_5     32    Male  WhiteOnly  Non-Hispanic           Working   \n",
       "1_6_6     69  Female  WhiteOnly  Non-Hispanic           Others1   \n",
       "1_7_7     80  Female  WhiteOnly  Non-Hispanic           Others1   \n",
       "1_8_8     31    Male  WhiteOnly  Non-Hispanic           Working   \n",
       "1_9_9     68  Female  WhiteOnly  Non-Hispanic           Working   \n",
       "1_11_11   75    Male  WhiteOnly  Non-Hispanic           Others1   \n",
       "\n",
       "         hours_worked_per_week  earnings_per_week  \n",
       "h_id                                               \n",
       "1_1_1                     40.0            1250.00  \n",
       "1_2_2                      NaN                NaN  \n",
       "1_3_3                      NaN                NaN  \n",
       "1_4_4                     40.0            1100.00  \n",
       "1_5_5                     52.0            1289.23  \n",
       "1_6_6                      NaN                NaN  \n",
       "1_7_7                      NaN                NaN  \n",
       "1_8_8                     45.0             866.25  \n",
       "1_9_9                     10.0             105.00  \n",
       "1_11_11                    NaN                NaN  "
      ]
     },
     "execution_count": 79,
     "metadata": {},
     "output_type": "execute_result"
    }
   ],
   "source": [
    "# your code here\n",
    "morg_df.head(n=10)"
   ]
  },
  {
   "cell_type": "markdown",
   "metadata": {},
   "source": [
    "**Task-3.2 (0.2pts)**: Extract the **\"age\"** column from **morg_df**."
   ]
  },
  {
   "cell_type": "code",
   "execution_count": 80,
   "metadata": {},
   "outputs": [
    {
     "data": {
      "text/html": [
       "<div>\n",
       "<style scoped>\n",
       "    .dataframe tbody tr th:only-of-type {\n",
       "        vertical-align: middle;\n",
       "    }\n",
       "\n",
       "    .dataframe tbody tr th {\n",
       "        vertical-align: top;\n",
       "    }\n",
       "\n",
       "    .dataframe thead th {\n",
       "        text-align: right;\n",
       "    }\n",
       "</style>\n",
       "<table border=\"1\" class=\"dataframe\">\n",
       "  <thead>\n",
       "    <tr style=\"text-align: right;\">\n",
       "      <th></th>\n",
       "      <th>age</th>\n",
       "    </tr>\n",
       "    <tr>\n",
       "      <th>h_id</th>\n",
       "      <th></th>\n",
       "    </tr>\n",
       "  </thead>\n",
       "  <tbody>\n",
       "    <tr>\n",
       "      <th>1_1_1</th>\n",
       "      <td>32</td>\n",
       "    </tr>\n",
       "    <tr>\n",
       "      <th>1_2_2</th>\n",
       "      <td>80</td>\n",
       "    </tr>\n",
       "    <tr>\n",
       "      <th>1_3_3</th>\n",
       "      <td>20</td>\n",
       "    </tr>\n",
       "    <tr>\n",
       "      <th>1_4_4</th>\n",
       "      <td>28</td>\n",
       "    </tr>\n",
       "    <tr>\n",
       "      <th>1_5_5</th>\n",
       "      <td>32</td>\n",
       "    </tr>\n",
       "    <tr>\n",
       "      <th>...</th>\n",
       "      <td>...</td>\n",
       "    </tr>\n",
       "    <tr>\n",
       "      <th>56_318203_72040</th>\n",
       "      <td>64</td>\n",
       "    </tr>\n",
       "    <tr>\n",
       "      <th>56_318204_72041</th>\n",
       "      <td>34</td>\n",
       "    </tr>\n",
       "    <tr>\n",
       "      <th>56_318205_72041</th>\n",
       "      <td>48</td>\n",
       "    </tr>\n",
       "    <tr>\n",
       "      <th>56_318206_72041</th>\n",
       "      <td>32</td>\n",
       "    </tr>\n",
       "    <tr>\n",
       "      <th>56_318207_72041</th>\n",
       "      <td>34</td>\n",
       "    </tr>\n",
       "  </tbody>\n",
       "</table>\n",
       "<p>284020 rows × 1 columns</p>\n",
       "</div>"
      ],
      "text/plain": [
       "                 age\n",
       "h_id                \n",
       "1_1_1             32\n",
       "1_2_2             80\n",
       "1_3_3             20\n",
       "1_4_4             28\n",
       "1_5_5             32\n",
       "...              ...\n",
       "56_318203_72040   64\n",
       "56_318204_72041   34\n",
       "56_318205_72041   48\n",
       "56_318206_72041   32\n",
       "56_318207_72041   34\n",
       "\n",
       "[284020 rows x 1 columns]"
      ]
     },
     "execution_count": 80,
     "metadata": {},
     "output_type": "execute_result"
    }
   ],
   "source": [
    "# your code here\n",
    "morg_df[[\"age\"]]"
   ]
  },
  {
   "cell_type": "markdown",
   "metadata": {},
   "source": [
    "**Task-3.3 (0.2pts)**: Extract the row that corresponds to the row label **h_id**=1_2_2 from **morg_df**."
   ]
  },
  {
   "cell_type": "code",
   "execution_count": 81,
   "metadata": {},
   "outputs": [
    {
     "data": {
      "text/plain": [
       "age                                80\n",
       "gender                         Female\n",
       "race                        WhiteOnly\n",
       "ethnicity                Non-Hispanic\n",
       "employment_status             Others2\n",
       "hours_worked_per_week             NaN\n",
       "earnings_per_week                 NaN\n",
       "Name: 1_2_2, dtype: object"
      ]
     },
     "execution_count": 81,
     "metadata": {},
     "output_type": "execute_result"
    }
   ],
   "source": [
    "# your code here\n",
    "morg_df.loc[\"1_2_2\"]"
   ]
  },
  {
   "cell_type": "markdown",
   "metadata": {},
   "source": [
    "**Task-3.4 (0.2pts)**: Extract the 10th row until the 20th (not including 20th) row from **morg_df**, based on the location index. Hint: use **iloc**"
   ]
  },
  {
   "cell_type": "code",
   "execution_count": 85,
   "metadata": {},
   "outputs": [
    {
     "data": {
      "text/html": [
       "<div>\n",
       "<style scoped>\n",
       "    .dataframe tbody tr th:only-of-type {\n",
       "        vertical-align: middle;\n",
       "    }\n",
       "\n",
       "    .dataframe tbody tr th {\n",
       "        vertical-align: top;\n",
       "    }\n",
       "\n",
       "    .dataframe thead th {\n",
       "        text-align: right;\n",
       "    }\n",
       "</style>\n",
       "<table border=\"1\" class=\"dataframe\">\n",
       "  <thead>\n",
       "    <tr style=\"text-align: right;\">\n",
       "      <th></th>\n",
       "      <th>age</th>\n",
       "      <th>gender</th>\n",
       "      <th>race</th>\n",
       "      <th>ethnicity</th>\n",
       "      <th>employment_status</th>\n",
       "      <th>hours_worked_per_week</th>\n",
       "      <th>earnings_per_week</th>\n",
       "    </tr>\n",
       "    <tr>\n",
       "      <th>h_id</th>\n",
       "      <th></th>\n",
       "      <th></th>\n",
       "      <th></th>\n",
       "      <th></th>\n",
       "      <th></th>\n",
       "      <th></th>\n",
       "      <th></th>\n",
       "    </tr>\n",
       "  </thead>\n",
       "  <tbody>\n",
       "    <tr>\n",
       "      <th>1_11_11</th>\n",
       "      <td>75</td>\n",
       "      <td>Male</td>\n",
       "      <td>WhiteOnly</td>\n",
       "      <td>Non-Hispanic</td>\n",
       "      <td>Others1</td>\n",
       "      <td>NaN</td>\n",
       "      <td>NaN</td>\n",
       "    </tr>\n",
       "    <tr>\n",
       "      <th>1_12_12</th>\n",
       "      <td>68</td>\n",
       "      <td>Female</td>\n",
       "      <td>WhiteOnly</td>\n",
       "      <td>Non-Hispanic</td>\n",
       "      <td>Others1</td>\n",
       "      <td>NaN</td>\n",
       "      <td>NaN</td>\n",
       "    </tr>\n",
       "    <tr>\n",
       "      <th>1_13_13</th>\n",
       "      <td>64</td>\n",
       "      <td>Female</td>\n",
       "      <td>WhiteOnly</td>\n",
       "      <td>Non-Hispanic</td>\n",
       "      <td>Working</td>\n",
       "      <td>30.0</td>\n",
       "      <td>387.00</td>\n",
       "    </tr>\n",
       "    <tr>\n",
       "      <th>1_14_14</th>\n",
       "      <td>19</td>\n",
       "      <td>Female</td>\n",
       "      <td>BlackOnly</td>\n",
       "      <td>Non-Hispanic</td>\n",
       "      <td>Working</td>\n",
       "      <td>40.0</td>\n",
       "      <td>350.00</td>\n",
       "    </tr>\n",
       "    <tr>\n",
       "      <th>1_17_17</th>\n",
       "      <td>55</td>\n",
       "      <td>Female</td>\n",
       "      <td>WhiteOnly</td>\n",
       "      <td>Non-Hispanic</td>\n",
       "      <td>Working</td>\n",
       "      <td>45.0</td>\n",
       "      <td>1153.84</td>\n",
       "    </tr>\n",
       "    <tr>\n",
       "      <th>1_18_18</th>\n",
       "      <td>60</td>\n",
       "      <td>Female</td>\n",
       "      <td>BlackOnly</td>\n",
       "      <td>Non-Hispanic</td>\n",
       "      <td>Working</td>\n",
       "      <td>21.0</td>\n",
       "      <td>657.00</td>\n",
       "    </tr>\n",
       "    <tr>\n",
       "      <th>1_19_19</th>\n",
       "      <td>35</td>\n",
       "      <td>Male</td>\n",
       "      <td>WhiteOnly</td>\n",
       "      <td>Non-Hispanic</td>\n",
       "      <td>Working</td>\n",
       "      <td>40.0</td>\n",
       "      <td>1000.00</td>\n",
       "    </tr>\n",
       "    <tr>\n",
       "      <th>1_21_21</th>\n",
       "      <td>22</td>\n",
       "      <td>Female</td>\n",
       "      <td>WhiteOnly</td>\n",
       "      <td>Non-Hispanic</td>\n",
       "      <td>Working</td>\n",
       "      <td>30.0</td>\n",
       "      <td>300.00</td>\n",
       "    </tr>\n",
       "    <tr>\n",
       "      <th>1_23_23</th>\n",
       "      <td>80</td>\n",
       "      <td>Female</td>\n",
       "      <td>WhiteOnly</td>\n",
       "      <td>Non-Hispanic</td>\n",
       "      <td>Others1</td>\n",
       "      <td>NaN</td>\n",
       "      <td>NaN</td>\n",
       "    </tr>\n",
       "    <tr>\n",
       "      <th>1_24_24</th>\n",
       "      <td>22</td>\n",
       "      <td>Female</td>\n",
       "      <td>WhiteOnly</td>\n",
       "      <td>Non-Hispanic</td>\n",
       "      <td>Working</td>\n",
       "      <td>50.0</td>\n",
       "      <td>720.00</td>\n",
       "    </tr>\n",
       "  </tbody>\n",
       "</table>\n",
       "</div>"
      ],
      "text/plain": [
       "         age  gender       race     ethnicity employment_status  \\\n",
       "h_id                                                              \n",
       "1_11_11   75    Male  WhiteOnly  Non-Hispanic           Others1   \n",
       "1_12_12   68  Female  WhiteOnly  Non-Hispanic           Others1   \n",
       "1_13_13   64  Female  WhiteOnly  Non-Hispanic           Working   \n",
       "1_14_14   19  Female  BlackOnly  Non-Hispanic           Working   \n",
       "1_17_17   55  Female  WhiteOnly  Non-Hispanic           Working   \n",
       "1_18_18   60  Female  BlackOnly  Non-Hispanic           Working   \n",
       "1_19_19   35    Male  WhiteOnly  Non-Hispanic           Working   \n",
       "1_21_21   22  Female  WhiteOnly  Non-Hispanic           Working   \n",
       "1_23_23   80  Female  WhiteOnly  Non-Hispanic           Others1   \n",
       "1_24_24   22  Female  WhiteOnly  Non-Hispanic           Working   \n",
       "\n",
       "         hours_worked_per_week  earnings_per_week  \n",
       "h_id                                               \n",
       "1_11_11                    NaN                NaN  \n",
       "1_12_12                    NaN                NaN  \n",
       "1_13_13                   30.0             387.00  \n",
       "1_14_14                   40.0             350.00  \n",
       "1_17_17                   45.0            1153.84  \n",
       "1_18_18                   21.0             657.00  \n",
       "1_19_19                   40.0            1000.00  \n",
       "1_21_21                   30.0             300.00  \n",
       "1_23_23                    NaN                NaN  \n",
       "1_24_24                   50.0             720.00  "
      ]
     },
     "execution_count": 85,
     "metadata": {},
     "output_type": "execute_result"
    }
   ],
   "source": [
    "# your code here:\n",
    "morg_df.iloc[9:19,:]"
   ]
  },
  {
   "cell_type": "markdown",
   "metadata": {},
   "source": [
    "**Task-3.5 (0.3pts)**: Check missing values of each column from **morg_df** using **isna()** and **sum()**"
   ]
  },
  {
   "cell_type": "code",
   "execution_count": 86,
   "metadata": {},
   "outputs": [
    {
     "data": {
      "text/plain": [
       "age                           0\n",
       "gender                        0\n",
       "race                          0\n",
       "ethnicity                     0\n",
       "employment_status             0\n",
       "hours_worked_per_week    117400\n",
       "earnings_per_week        117705\n",
       "dtype: int64"
      ]
     },
     "execution_count": 86,
     "metadata": {},
     "output_type": "execute_result"
    }
   ],
   "source": [
    "# your code here\n",
    "morg_df.isna().sum()"
   ]
  },
  {
   "cell_type": "markdown",
   "metadata": {},
   "source": [
    "**Task-3.6 (0.3pts):** Use the **fillna()** method to replace the above missing values with 0. Please set the function parameter **\"inplace = True\"** to directly modify the **morg_df** dataframe."
   ]
  },
  {
   "cell_type": "code",
   "execution_count": 87,
   "metadata": {},
   "outputs": [],
   "source": [
    "# your code here:\n",
    "morg_df.fillna(0, inplace=True)"
   ]
  },
  {
   "cell_type": "code",
   "execution_count": 88,
   "metadata": {},
   "outputs": [
    {
     "data": {
      "text/plain": [
       "age                      0\n",
       "gender                   0\n",
       "race                     0\n",
       "ethnicity                0\n",
       "employment_status        0\n",
       "hours_worked_per_week    0\n",
       "earnings_per_week        0\n",
       "dtype: int64"
      ]
     },
     "execution_count": 88,
     "metadata": {},
     "output_type": "execute_result"
    }
   ],
   "source": [
    "# there's no missing value after fillna()\n",
    "morg_df.isna().sum()"
   ]
  },
  {
   "cell_type": "markdown",
   "metadata": {},
   "source": [
    "**Task-3.7 (0.3pts)**: Use filtering to extract all rows where the \"hours_worked_per_week\" is strictly more than 35."
   ]
  },
  {
   "cell_type": "code",
   "execution_count": 95,
   "metadata": {},
   "outputs": [
    {
     "name": "stdout",
     "output_type": "stream",
     "text": [
      "Number of rows: 132678\n",
      "Number of columns: 7\n"
     ]
    }
   ],
   "source": [
    "# your code here (hint: to confirm that you got the correct resulting dataframe, please make sure to check the #rows and #columns):\n",
    "morg_df_overwork = morg_df[morg_df['hours_worked_per_week'] > 35 ]\n",
    "print(f\"Number of rows: {morg_df_overwork.shape[0]}\")\n",
    "print(f\"Number of columns: {morg_df_overwork.shape[1]}\")"
   ]
  },
  {
   "cell_type": "markdown",
   "metadata": {},
   "source": [
    "**Task-3.8 (0.3pts)**: Check the unique values in the column **\"employment_status\"** using **value_counts()**"
   ]
  },
  {
   "cell_type": "code",
   "execution_count": 94,
   "metadata": {},
   "outputs": [
    {
     "data": {
      "text/plain": [
       "Working                       159477\n",
       "Others1                        52664\n",
       "Others2                        39360\n",
       "Unable to work or disabled     15489\n",
       "With a job but not at work      8213\n",
       "Looking                         7391\n",
       "Layoff                          1426\n",
       "Name: employment_status, dtype: int64"
      ]
     },
     "execution_count": 94,
     "metadata": {},
     "output_type": "execute_result"
    }
   ],
   "source": [
    "# your code here\n",
    "morg_df['employment_status'].value_counts()"
   ]
  },
  {
   "cell_type": "markdown",
   "metadata": {},
   "source": [
    "**Task-3.9 (0.3pts)**: Draw a bar plot for the results from Task-3.8. Hint: check the plot method: https://pandas.pydata.org/pandas-docs/stable/user_guide/visualization.html"
   ]
  },
  {
   "cell_type": "code",
   "execution_count": 104,
   "metadata": {},
   "outputs": [
    {
     "data": {
      "image/png": "[encoded data removed]",
      "text/plain": [
       "<Figure size 432x288 with 1 Axes>"
      ]
     },
     "metadata": {
      "needs_background": "light"
     },
     "output_type": "display_data"
    }
   ],
   "source": [
    "# your code here\n",
    "morg_df['employment_status'].value_counts().plot(kind = \"bar\"); \n",
    "plt.title('Employment Status')\n",
    "plt.ylabel('Frequency')\n",
    "plt.show()"
   ]
  },
  {
   "cell_type": "markdown",
   "metadata": {},
   "source": [
    "**Task-3.10 (0.3pts)**: Use filtering to extract the rows that correspond to people who worked more than 35 hours per week **or** who earned more than $1000 per week. Hint: it might be useful to review the documentation on boolean indexing."
   ]
  },
  {
   "cell_type": "code",
   "execution_count": 112,
   "metadata": {},
   "outputs": [],
   "source": [
    "# your code here\n",
    "morg_df_overwork_earnmore = morg_df[(morg_df[\"hours_worked_per_week\"] > 35) | (morg_df['earnings_per_week'] > 1000)]\n"
   ]
  },
  {
   "cell_type": "markdown",
   "metadata": {},
   "source": [
    "**Task-3.11 (0.3pts)**: Use **matplotlib** to plot the histogram for \"earnings_per_week\"."
   ]
  },
  {
   "cell_type": "code",
   "execution_count": 113,
   "metadata": {},
   "outputs": [],
   "source": [
    "%matplotlib inline\n",
    "import matplotlib.pyplot as plt"
   ]
  },
  {
   "cell_type": "code",
   "execution_count": 116,
   "metadata": {},
   "outputs": [],
   "source": [
    "# this is how you can get the values of a specific column\n",
    "earnings = morg_df['earnings_per_week'].values"
   ]
  },
  {
   "cell_type": "code",
   "execution_count": 118,
   "metadata": {},
   "outputs": [
    {
     "data": {
      "text/plain": [
       "Text(0, 0.5, 'Number of rows')"
      ]
     },
     "execution_count": 118,
     "metadata": {},
     "output_type": "execute_result"
    },
    {
     "data": {
      "image/png": "[encoded data removed]",
      "text/plain": [
       "<Figure size 432x288 with 1 Axes>"
      ]
     },
     "metadata": {
      "needs_background": "light"
     },
     "output_type": "display_data"
    }
   ],
   "source": [
    "# your code here (fill-in the function to produce the following plot):\n",
    "plt.hist(earnings, edgecolor='blue');\n",
    "plt.title('Histogram for Earnings per Week')\n",
    "plt.xlabel('Earnings per Week')\n",
    "plt.ylabel('Number of rows')"
   ]
  },
  {
   "cell_type": "markdown",
   "metadata": {},
   "source": [
    "### Summary\n",
    "Congratulations for completing this assignment!\n",
    "If you feel comfortable taking this assignment (in terms of the topics, depth, and length), then you're likely ready to dive into this course. However, if you find this assignment challenging, it might indicate that you need more programming preparation before enrolling in this course."
   ]
  }
 ],
 "metadata": {
  "kernelspec": {
   "display_name": "Python 3",
   "language": "python",
   "name": "python3"
  },
  "language_info": {
   "codemirror_mode": {
    "name": "ipython",
    "version": 3
   },
   "file_extension": ".py",
   "mimetype": "text/x-python",
   "name": "python",
   "nbconvert_exporter": "python",
   "pygments_lexer": "ipython3",
   "version": "3.7.6"
  },
  "toc": {
   "base_numbering": 1,
   "nav_menu": {},
   "number_sections": true,
   "sideBar": true,
   "skip_h1_title": false,
   "title_cell": "Table of Contents",
   "title_sidebar": "Contents",
   "toc_cell": false,
   "toc_position": {},
   "toc_section_display": true,
   "toc_window_display": false
  }
 },
 "nbformat": 4,
 "nbformat_minor": 5
}
